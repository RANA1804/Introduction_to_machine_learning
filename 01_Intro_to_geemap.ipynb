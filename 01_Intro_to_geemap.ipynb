{
  "cells": [
    {
      "cell_type": "markdown",
      "metadata": {
        "id": "view-in-github",
        "colab_type": "text"
      },
      "source": [
        "<a href=\"https://colab.research.google.com/github/RANA1804/Introduction_to_machine_learning/blob/main/01_Intro_to_geemap.ipynb\" target=\"_parent\"><img src=\"https://colab.research.google.com/assets/colab-badge.svg\" alt=\"Open In Colab\"/></a>"
      ]
    },
    {
      "cell_type": "markdown",
      "metadata": {
        "id": "L4Sc8Sse5Xcm"
      },
      "source": [
        "# Intro to geemap\n",
        "## Installing the Updated Version of geemap\n",
        "Install geemap version 0.29.3 or a later release to enable the automatic authentication feature, as this functionality is only supported in these versions.To install other Python packages, you can use the pip install package_name command. To update a package, you can use pip install --upgrade package_name or pip install -U package_name"
      ]
    },
    {
      "cell_type": "code",
      "execution_count": null,
      "metadata": {
        "id": "cGrDaySG2BoK"
      },
      "outputs": [],
      "source": [
        "%pip install --upgrade geemap"
      ]
    },
    {
      "cell_type": "markdown",
      "metadata": {
        "id": "GROsj5ok4ZtT"
      },
      "source": [
        "## Import required Libraries"
      ]
    },
    {
      "cell_type": "code",
      "execution_count": null,
      "metadata": {
        "id": "g1D3Knd34a9M",
        "colab": {
          "base_uri": "https://localhost:8080/",
          "height": 17
        },
        "outputId": "3179a975-c042-4f17-aba9-6c418e144b29"
      },
      "outputs": [
        {
          "output_type": "display_data",
          "data": {
            "text/plain": [
              "<IPython.core.display.HTML object>"
            ],
            "text/html": [
              "\n",
              "            <style>\n",
              "                .geemap-dark {\n",
              "                    --jp-widgets-color: white;\n",
              "                    --jp-widgets-label-color: white;\n",
              "                    --jp-ui-font-color1: white;\n",
              "                    --jp-layout-color2: #454545;\n",
              "                    background-color: #383838;\n",
              "                }\n",
              "                    \n",
              "                .geemap-dark .jupyter-button {\n",
              "                    --jp-layout-color3: #383838;\n",
              "                }\n",
              "                \n",
              "                .geemap-colab {\n",
              "                    background-color: var(--colab-primary-surface-color, white);\n",
              "                }\n",
              "                    \n",
              "                .geemap-colab .jupyter-button {\n",
              "                    --jp-layout-color3: var(--colab-primary-surface-color, white);\n",
              "                }\n",
              "            </style>\n",
              "            "
            ]
          },
          "metadata": {}
        }
      ],
      "source": [
        "import numpy as np\n",
        "import pandas as pd\n",
        "import matplotlib.pyplot as plt\n",
        "import ee\n",
        "import geemap"
      ]
    },
    {
      "cell_type": "markdown",
      "metadata": {
        "id": "f8ws7MuR4aFi"
      },
      "source": [
        "## Innitialize a map\n",
        "When initializing a Map object, you may be prompted for authorization. If this occurs, you can obtain the required authorization token by visiting the provided link.\n",
        "\n",
        "Certainly! When working with the Map object in a Python environment, you can play with various parameters to customize the map display."
      ]
    },
    {
      "cell_type": "code",
      "execution_count": null,
      "metadata": {
        "id": "7StKE8563toL"
      },
      "outputs": [],
      "source": [
        "Map = geemap.Map() #geemap is a librarry & Map is a Class\n",
        "Map"
      ]
    },
    {
      "cell_type": "code",
      "execution_count": null,
      "metadata": {
        "id": "aGH8UotG3tvz"
      },
      "outputs": [],
      "source": [
        "# Change the map\n",
        "Map = geemap.Map(height=\"400pt\", width= \"100%\", basemap = \"Esri.WorldImagery\")\n",
        "Map"
      ]
    },
    {
      "cell_type": "code",
      "execution_count": null,
      "metadata": {
        "id": "eUAfuNfSJHnZ",
        "colab": {
          "base_uri": "https://localhost:8080/",
          "height": 35
        },
        "outputId": "dc460bd0-14a1-4ae3-8386-59da5589ea4a"
      },
      "outputs": [
        {
          "output_type": "display_data",
          "data": {
            "text/plain": [
              "<IPython.core.display.HTML object>"
            ],
            "text/html": [
              "\n",
              "            <style>\n",
              "                .geemap-dark {\n",
              "                    --jp-widgets-color: white;\n",
              "                    --jp-widgets-label-color: white;\n",
              "                    --jp-ui-font-color1: white;\n",
              "                    --jp-layout-color2: #454545;\n",
              "                    background-color: #383838;\n",
              "                }\n",
              "                    \n",
              "                .geemap-dark .jupyter-button {\n",
              "                    --jp-layout-color3: #383838;\n",
              "                }\n",
              "                \n",
              "                .geemap-colab {\n",
              "                    background-color: var(--colab-primary-surface-color, white);\n",
              "                }\n",
              "                    \n",
              "                .geemap-colab .jupyter-button {\n",
              "                    --jp-layout-color3: var(--colab-primary-surface-color, white);\n",
              "                }\n",
              "            </style>\n",
              "            "
            ]
          },
          "metadata": {}
        },
        {
          "output_type": "stream",
          "name": "stdout",
          "text": [
            "Esri.WorldImagery has been already added before.\n"
          ]
        }
      ],
      "source": [
        "# We can use this way to Change the basemap layer to 'Esri World Imagery'\n",
        "Map.add_basemap(basemap = \"Esri.WorldImagery\")"
      ]
    },
    {
      "cell_type": "markdown",
      "source": [
        "## Showing the name of all Basemaps"
      ],
      "metadata": {
        "id": "kfKdACamkhNf"
      }
    },
    {
      "cell_type": "code",
      "execution_count": null,
      "metadata": {
        "id": "ANk8s82A3t2K"
      },
      "outputs": [],
      "source": [
        "basemaps = geemap.basemaps\n",
        "for basemap in basemaps:\n",
        "  print(basemap)"
      ]
    },
    {
      "cell_type": "markdown",
      "metadata": {
        "id": "jUJCmvve3t7p"
      },
      "source": [
        "## Working with Feature Collection\n",
        "In Google Earth Engine, a Feature Collection is a type of data structure that represents a collection of vector features. These features could represent points, lines, polygons, or a combination of these geometries. Feature Collections are fundamental for working with spatial data and conducting geospatial analyses in Earth Engine.\n",
        "\n"
      ]
    },
    {
      "cell_type": "code",
      "execution_count": null,
      "metadata": {
        "id": "qMusaUxo3uAV"
      },
      "outputs": [],
      "source": [
        "# Set up a new map object\n",
        "Map = geemap.Map()\n",
        "Map"
      ]
    },
    {
      "cell_type": "code",
      "execution_count": null,
      "metadata": {
        "id": "MLLz_VbM3uI9",
        "colab": {
          "base_uri": "https://localhost:8080/",
          "height": 17
        },
        "outputId": "b11caf3b-96eb-475b-c4e1-96ebd2773913"
      },
      "outputs": [
        {
          "output_type": "display_data",
          "data": {
            "text/plain": [
              "<IPython.core.display.HTML object>"
            ],
            "text/html": [
              "\n",
              "            <style>\n",
              "                .geemap-dark {\n",
              "                    --jp-widgets-color: white;\n",
              "                    --jp-widgets-label-color: white;\n",
              "                    --jp-ui-font-color1: white;\n",
              "                    --jp-layout-color2: #454545;\n",
              "                    background-color: #383838;\n",
              "                }\n",
              "                    \n",
              "                .geemap-dark .jupyter-button {\n",
              "                    --jp-layout-color3: #383838;\n",
              "                }\n",
              "                \n",
              "                .geemap-colab {\n",
              "                    background-color: var(--colab-primary-surface-color, white);\n",
              "                }\n",
              "                    \n",
              "                .geemap-colab .jupyter-button {\n",
              "                    --jp-layout-color3: var(--colab-primary-surface-color, white);\n",
              "                }\n",
              "            </style>\n",
              "            "
            ]
          },
          "metadata": {}
        }
      ],
      "source": [
        "# Imput the shapefile (in this case World Administrative Boundary)\n",
        "world = ee.FeatureCollection(\"users/geonextgis/World_Administrative_Boundaries\")\n",
        "\n",
        "world_style = {\n",
        "    \"fillColor\": \"yellow\",  # First 6 digit for RGB color last 2 digit for itransparency value\n",
        "    \"color\": \"black\",  # This is the color of the border\n",
        "    \"width\": 1  # This is the strock of the border\n",
        "}\n",
        "Map.addLayer(world.style(**world_style), {}, \"World Administrative Boundary\")  # Kwargs - dictionary"
      ]
    },
    {
      "cell_type": "markdown",
      "metadata": {
        "id": "4IYA66oo6pPf"
      },
      "source": [
        "## Filtering Feature Collection\n",
        "Filtering a Feature Collection in Google Earth Engine involves selecting a subset of features based on specific criteria, such as spatial, attribute, or temporal conditions. This process is essential for isolating relevant data for analysis. Here are the key aspects of filtering a Feature Collection:\n",
        "\n",
        "### Attribute Filtering:\n",
        "\n",
        "Attribute filtering involves selecting features based on their attribute values, such as properties or characteristics.\n",
        "The filter function is often used in combination with ee.Filter to define attribute-based conditions.\n"
      ]
    },
    {
      "cell_type": "code",
      "execution_count": null,
      "metadata": {
        "id": "GClxSa1A7079",
        "colab": {
          "base_uri": "https://localhost:8080/",
          "height": 17
        },
        "outputId": "88b3c169-962e-49af-f521-34ca4fd0c892"
      },
      "outputs": [
        {
          "output_type": "display_data",
          "data": {
            "text/plain": [
              "<IPython.core.display.HTML object>"
            ],
            "text/html": [
              "\n",
              "            <style>\n",
              "                .geemap-dark {\n",
              "                    --jp-widgets-color: white;\n",
              "                    --jp-widgets-label-color: white;\n",
              "                    --jp-ui-font-color1: white;\n",
              "                    --jp-layout-color2: #454545;\n",
              "                    background-color: #383838;\n",
              "                }\n",
              "                    \n",
              "                .geemap-dark .jupyter-button {\n",
              "                    --jp-layout-color3: #383838;\n",
              "                }\n",
              "                \n",
              "                .geemap-colab {\n",
              "                    background-color: var(--colab-primary-surface-color, white);\n",
              "                }\n",
              "                    \n",
              "                .geemap-colab .jupyter-button {\n",
              "                    --jp-layout-color3: var(--colab-primary-surface-color, white);\n",
              "                }\n",
              "            </style>\n",
              "            "
            ]
          },
          "metadata": {}
        }
      ],
      "source": [
        "# Filter all the European countries\n",
        "european_countries = world.filter(ee.Filter.eq(\"continent\", \"Europe\"))\n",
        "european_countries_style = {\n",
        "    \"fillColor\": \"green\",\n",
        "    \"color\": \"black\",\n",
        "    \"width\": 1\n",
        "}\n",
        "Map.addLayer(european_countries.style(**european_countries_style), {}, \"European Countries\")\n",
        "Map.centerObject(european_countries, 3)"
      ]
    },
    {
      "cell_type": "markdown",
      "metadata": {
        "id": "nNCzxatpuaEg"
      },
      "source": [
        "### Spatial Filtering\n",
        "\n",
        "* Spatial filtering involves selecting features based on their geographic  location or proximity to a specified region.\n",
        "* Common spatial filters include geometry, intersects, bounds, and distance, allowing users to focus on features within a defined area or at a certain distance from a given point.\n",
        "\n",
        "\n",
        "\n"
      ]
    },
    {
      "cell_type": "code",
      "execution_count": null,
      "metadata": {
        "id": "kJcuDp8aO1mi",
        "colab": {
          "base_uri": "https://localhost:8080/",
          "height": 17
        },
        "outputId": "90b594ef-3876-4df8-a2f4-4b197f8ea707"
      },
      "outputs": [
        {
          "output_type": "display_data",
          "data": {
            "text/plain": [
              "<IPython.core.display.HTML object>"
            ],
            "text/html": [
              "\n",
              "            <style>\n",
              "                .geemap-dark {\n",
              "                    --jp-widgets-color: white;\n",
              "                    --jp-widgets-label-color: white;\n",
              "                    --jp-ui-font-color1: white;\n",
              "                    --jp-layout-color2: #454545;\n",
              "                    background-color: #383838;\n",
              "                }\n",
              "                    \n",
              "                .geemap-dark .jupyter-button {\n",
              "                    --jp-layout-color3: #383838;\n",
              "                }\n",
              "                \n",
              "                .geemap-colab {\n",
              "                    background-color: var(--colab-primary-surface-color, white);\n",
              "                }\n",
              "                    \n",
              "                .geemap-colab .jupyter-button {\n",
              "                    --jp-layout-color3: var(--colab-primary-surface-color, white);\n",
              "                }\n",
              "            </style>\n",
              "            "
            ]
          },
          "metadata": {}
        }
      ],
      "source": [
        "# Read 'Grided Population Data' from NASA SEDAC\n",
        "gpw = ee.FeatureCollection(\"projects/sat-io/open-datasets/sedac/gpw-v4-admin-unit-center-points-population-estimates-rev11\"); # When we use the .style\n",
        "# function then the vector file converted as a image\n",
        "\n",
        "# Filter the Feature collection with only European contries (this is the sptiala filtering)\n",
        "# Filter the points where population estimates is more than 500000 in 2020 (this is attribute filtering)\n",
        "gpw_european = gpw.filterBounds(european_countries)\n",
        "\n",
        "gpw_european_gt5lakhs_20 = gpw_european.filter(ee.Filter.gt(\"UN_2020_E\", 500000))\n",
        "gpw_europeanan_gt5lakhs_20_style = {\n",
        "    \"fillColor\": \"C70039\",\n",
        "    \"color\" : \"red\",\n",
        "    \"width\" : 1,\n",
        "    \"pointSize\" : 5\n",
        "}\n",
        "Map.addLayer(gpw_european_gt5lakhs_20.style(**gpw_europeanan_gt5lakhs_20_style), {}, \"Global Population Estimates > 10 Lakhs (Asia)\")\n",
        "### Now the whole vector file and the points are a image ###"
      ]
    },
    {
      "cell_type": "markdown",
      "metadata": {
        "id": "gTh9QP4eCW14"
      },
      "source": [
        "🤔 Note: In geemap, the addLayer function is designed to visualize data on the map by adding a layer. However, it's important to note that this function always returns an Image object, not a Feature Collection or individual Feature when using with style function"
      ]
    },
    {
      "cell_type": "markdown",
      "metadata": {
        "id": "9qDslxg41U9_"
      },
      "source": [
        "## Download the Filtered Feature Collection"
      ]
    },
    {
      "cell_type": "code",
      "execution_count": null,
      "metadata": {
        "id": "nuYZaV2Y1VcS",
        "colab": {
          "base_uri": "https://localhost:8080/",
          "height": 17
        },
        "outputId": "890a7e28-8da5-44ae-8e08-939a25f50248"
      },
      "outputs": [
        {
          "output_type": "display_data",
          "data": {
            "text/plain": [
              "<IPython.core.display.HTML object>"
            ],
            "text/html": [
              "\n",
              "            <style>\n",
              "                .geemap-dark {\n",
              "                    --jp-widgets-color: white;\n",
              "                    --jp-widgets-label-color: white;\n",
              "                    --jp-ui-font-color1: white;\n",
              "                    --jp-layout-color2: #454545;\n",
              "                    background-color: #383838;\n",
              "                }\n",
              "                    \n",
              "                .geemap-dark .jupyter-button {\n",
              "                    --jp-layout-color3: #383838;\n",
              "                }\n",
              "                \n",
              "                .geemap-colab {\n",
              "                    background-color: var(--colab-primary-surface-color, white);\n",
              "                }\n",
              "                    \n",
              "                .geemap-colab .jupyter-button {\n",
              "                    --jp-layout-color3: var(--colab-primary-surface-color, white);\n",
              "                }\n",
              "            </style>\n",
              "            "
            ]
          },
          "metadata": {}
        }
      ],
      "source": [
        "task = ee.batch.Export.table.toDrive(collection = gpw_european_gt5lakhs_20,\n",
        "                                     description = \"GPW_European_Pop_Est_2020\",\n",
        "                                     folder = \"GEE\",\n",
        "                                     fileNamePrefix = \"GPW_European_Pop_Est_2020\",\n",
        "                                     fileFormat = \"SHP\")\n",
        "# Export the filtered feature collection\n",
        "#task.start()"
      ]
    },
    {
      "cell_type": "markdown",
      "metadata": {
        "id": "3YsvA1nC5DN2"
      },
      "source": [
        "## **Working with Image Collection**\n",
        "In Google Earth Engine (GEE), an Image Collection is a fundamental data structure used to represent a group or sequence of images. These images can be satellite observations, remotely sensed data, or any other raster data that can be organized over time or space.\n",
        "\n"
      ]
    },
    {
      "cell_type": "code",
      "source": [
        "map = geemap.Map(height = \"300pt\", width = \"80%\")\n",
        "map"
      ],
      "metadata": {
        "id": "oFzAN62UC_w5"
      },
      "execution_count": null,
      "outputs": []
    },
    {
      "cell_type": "code",
      "source": [
        "marker = map.draw_last_feature\n",
        "marker"
      ],
      "metadata": {
        "id": "8bGSACtCC_zd"
      },
      "execution_count": null,
      "outputs": []
    },
    {
      "cell_type": "markdown",
      "source": [
        "## Import the LANDSAT 9 Level 2 tyer 2 Image Collection"
      ],
      "metadata": {
        "id": "I0_Xw9xbRKdm"
      }
    },
    {
      "cell_type": "code",
      "source": [
        "l9 = ee.ImageCollection(\"LANDSAT/LC09/C02/T1_L2\")\n",
        "l9"
      ],
      "metadata": {
        "id": "ojCa07ttC_19"
      },
      "execution_count": null,
      "outputs": []
    },
    {
      "cell_type": "markdown",
      "source": [
        "##Filtering Image Collection\n",
        "\n",
        "*   We can filter Image Collections based on various criteria, such as date range, spatial extent, or metadata properties.\n",
        "\n",
        "\n",
        "*   To optimize the workflow, it is advisable to follow a specific order when filtering an Image Collection. The recommended sequence includes filtering by boundary first, followed by dates, and then metadata properties.\n",
        "*   This approach helps reduce computational load and speeds up the execution of operations."
      ],
      "metadata": {
        "id": "HnPcRDrVkRKM"
      }
    },
    {
      "cell_type": "code",
      "source": [
        "l9FilteredImage = l9.filterBounds(marker.geometry())\\\n",
        "                    .filterDate(\"2022-01-01\", \"2022-12-31\")\\\n",
        "                    .filterMetadata(\"CLOUD_COVER\", \"Less_than\", 10)\\\n",
        "                    .first()\n",
        "rgb_Vis = {\n",
        "    \"min\": 8500,\n",
        "    \"max\": 17000,\n",
        "    \"bands\": [\"SR_B4\", \"SR_B3\", \"SR_B2\"]\n",
        "}\n",
        "\n",
        "sfcc_vis = {\n",
        "    \"min\": 8000,\n",
        "    \"max\": 18000,\n",
        "    \"bands\": [\"SR_B5\", \"SR_B4\", \"SR_B3\"]\n",
        "}\n",
        "\n",
        "Map.addLayer(l9FilteredImage, rgb_Vis, \"RGB Image\")\n",
        "Map.addLayer(l9FilteredImage, sfcc_vis, \"SFCC Image\")\n",
        "Map.centerObject(l9FilteredImage, 8)"
      ],
      "metadata": {
        "id": "12HV6yy5YsOm"
      },
      "execution_count": null,
      "outputs": []
    },
    {
      "cell_type": "code",
      "source": [
        "l9FilteredImage"
      ],
      "metadata": {
        "id": "H1TpD4XSZR7O"
      },
      "execution_count": null,
      "outputs": []
    },
    {
      "cell_type": "code",
      "source": [
        "Map"
      ],
      "metadata": {
        "id": "ezJxYj82g48S"
      },
      "execution_count": null,
      "outputs": []
    },
    {
      "cell_type": "markdown",
      "source": [
        "## Store the Meadata of the ImageCollection"
      ],
      "metadata": {
        "id": "MrMhh5t_SVA4"
      }
    },
    {
      "cell_type": "code",
      "source": [
        "# Store the Metadata properties name as a list\n",
        "Image_property_names = l9FilteredImage.propertyNames()\n",
        "Image_property_names"
      ],
      "metadata": {
        "id": "0TRDBmwGYsn1"
      },
      "execution_count": null,
      "outputs": []
    },
    {
      "cell_type": "code",
      "source": [
        "type(Image_property_names)"
      ],
      "metadata": {
        "colab": {
          "base_uri": "https://localhost:8080/",
          "height": 35
        },
        "id": "7EoAjxC_m_dK",
        "outputId": "49b5f810-3e0b-48a3-db6a-afdd5bda2845"
      },
      "execution_count": null,
      "outputs": [
        {
          "output_type": "display_data",
          "data": {
            "text/plain": [
              "<IPython.core.display.HTML object>"
            ],
            "text/html": [
              "\n",
              "            <style>\n",
              "                .geemap-dark {\n",
              "                    --jp-widgets-color: white;\n",
              "                    --jp-widgets-label-color: white;\n",
              "                    --jp-ui-font-color1: white;\n",
              "                    --jp-layout-color2: #454545;\n",
              "                    background-color: #383838;\n",
              "                }\n",
              "                    \n",
              "                .geemap-dark .jupyter-button {\n",
              "                    --jp-layout-color3: #383838;\n",
              "                }\n",
              "                \n",
              "                .geemap-colab {\n",
              "                    background-color: var(--colab-primary-surface-color, white);\n",
              "                }\n",
              "                    \n",
              "                .geemap-colab .jupyter-button {\n",
              "                    --jp-layout-color3: var(--colab-primary-surface-color, white);\n",
              "                }\n",
              "            </style>\n",
              "            "
            ]
          },
          "metadata": {}
        },
        {
          "output_type": "execute_result",
          "data": {
            "text/plain": [
              "ee.ee_list.List"
            ]
          },
          "metadata": {},
          "execution_count": 75
        }
      ]
    },
    {
      "cell_type": "code",
      "source": [
        "# Print the metadata properties information\n",
        "image_property = l9FilteredImage.toDictionary(Image_property_names)\n",
        "image_property"
      ],
      "metadata": {
        "id": "UErruY-rYswN"
      },
      "execution_count": null,
      "outputs": []
    },
    {
      "cell_type": "code",
      "source": [
        "type(image_property)"
      ],
      "metadata": {
        "id": "GVdrWdd2nGOY"
      },
      "execution_count": null,
      "outputs": []
    },
    {
      "cell_type": "markdown",
      "source": [
        "## Convert the GEE server-side data to client-side data"
      ],
      "metadata": {
        "id": "tQCsfJC9TpAt"
      }
    },
    {
      "cell_type": "markdown",
      "source": [
        "🤔 Note: getInfo() is a method in GEE API that allows users to retrieve the values of Earth Engine objects and transfer them from the server-side to the client-side. In the context of GEE, computations often occur on the server-side, which means that the actual data and results reside on Google's servers. To access and work with this information in your local environment, we use getInfo()."
      ],
      "metadata": {
        "id": "en51t1VgTkPh"
      }
    },
    {
      "cell_type": "code",
      "source": [
        "image_property = l9FilteredImage.toDictionary(Image_property_names).getInfo()\n",
        "image_property"
      ],
      "metadata": {
        "id": "IQNqFmTAnAGI"
      },
      "execution_count": null,
      "outputs": []
    },
    {
      "cell_type": "code",
      "source": [
        "type(image_property)"
      ],
      "metadata": {
        "id": "hZZ2lk5aYs63"
      },
      "execution_count": null,
      "outputs": []
    }
  ],
  "metadata": {
    "colab": {
      "provenance": [],
      "include_colab_link": true
    },
    "kernelspec": {
      "display_name": "Python 3",
      "name": "python3"
    },
    "language_info": {
      "name": "python"
    }
  },
  "nbformat": 4,
  "nbformat_minor": 0
}