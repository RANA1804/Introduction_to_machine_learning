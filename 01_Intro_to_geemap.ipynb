{
  "cells": [
    {
      "cell_type": "markdown",
      "metadata": {
        "id": "view-in-github",
        "colab_type": "text"
      },
      "source": [
        "<a href=\"https://colab.research.google.com/github/RANA1804/Introduction_to_machine_learning/blob/main/01_Intro_to_geemap.ipynb\" target=\"_parent\"><img src=\"https://colab.research.google.com/assets/colab-badge.svg\" alt=\"Open In Colab\"/></a>"
      ]
    },
    {
      "cell_type": "markdown",
      "metadata": {
        "id": "L4Sc8Sse5Xcm"
      },
      "source": [
        "# Intro to geemap\n",
        "## Installing the Updated Version of geemap\n",
        "Install geemap version 0.29.3 or a later release to enable the automatic authentication feature, as this functionality is only supported in these versions.To install other Python packages, you can use the pip install package_name command. To update a package, you can use pip install --upgrade package_name or pip install -U package_name"
      ]
    },
    {
      "cell_type": "code",
      "execution_count": null,
      "metadata": {
        "id": "cGrDaySG2BoK"
      },
      "outputs": [],
      "source": [
        "%pip install --upgrade geemap"
      ]
    },
    {
      "cell_type": "markdown",
      "metadata": {
        "id": "GROsj5ok4ZtT"
      },
      "source": [
        "## Import required Libraries"
      ]
    },
    {
      "cell_type": "code",
      "execution_count": 2,
      "metadata": {
        "id": "g1D3Knd34a9M"
      },
      "outputs": [],
      "source": [
        "import numpy as np\n",
        "import pandas as pd\n",
        "import matplotlib.pyplot as plt\n",
        "import ee\n",
        "import geemap"
      ]
    },
    {
      "cell_type": "markdown",
      "metadata": {
        "id": "f8ws7MuR4aFi"
      },
      "source": [
        "## Innitialize a map\n",
        "When initializing a Map object, you may be prompted for authorization. If this occurs, you can obtain the required authorization token by visiting the provided link.\n",
        "\n",
        "Certainly! When working with the Map object in a Python environment, you can play with various parameters to customize the map display."
      ]
    },
    {
      "cell_type": "code",
      "execution_count": 3,
      "metadata": {
        "colab": {
          "base_uri": "https://localhost:8080/",
          "height": 780,
          "referenced_widgets": [
            "52b38a02690847059a5d3d5a3ea09aab",
            "b6fa18c661624d29bd065624f64d1628",
            "0574b8418fc54f4e950f017d6ee7b825",
            "6fc4c3cbfe1f4f52bf0913758f5d6b10",
            "3cb7f505793d4e2d8ed80ef77dcacae1",
            "acc56ab9f009433988a28da364ff7eed",
            "3de62294dd6d4299a866b3c4c32938d8",
            "e8e284677e2f42f39f6c902f3a44801c",
            "3349261423fd4872bb4f3901aef823ee",
            "b10ff358b6364b40b7bbaa7bd8c022f2",
            "260dbb90cadf442a952c9909b7454446",
            "f9fd9cfc5aab4d9d9e7ea9fd1218939f",
            "f7ca7bd91d4b4d779d777862a3ef865d",
            "c58df3d0fb7f429684734811620187b4",
            "90f44378d8cb4934b8feafdae848e96e",
            "bbeec981cc3c47618170e6258c8f480d",
            "50cd0d2b1acb4ecfa78d7d3c974c0a6d",
            "e2e245225003425489e7d84b3560456b",
            "e388656bb7e44139ba90e5f89afd2775",
            "33f1ea0db517412abc77b0d89709bc38",
            "fc7ffcb920274f88877ea50e59b0c225",
            "05106cb8140b4838b9053a034b46c846",
            "b31989f1fa524186a72fb7094275f00f",
            "730d4f82458c4753a1ac8c7e9804361b"
          ]
        },
        "id": "7StKE8563toL",
        "outputId": "7a80403e-70fe-43dd-ac66-4a97ad9c76a3"
      },
      "outputs": [
        {
          "output_type": "display_data",
          "data": {
            "text/plain": [
              "<IPython.core.display.HTML object>"
            ],
            "text/html": [
              "\n",
              "            <style>\n",
              "                .geemap-dark {\n",
              "                    --jp-widgets-color: white;\n",
              "                    --jp-widgets-label-color: white;\n",
              "                    --jp-ui-font-color1: white;\n",
              "                    --jp-layout-color2: #454545;\n",
              "                    background-color: #383838;\n",
              "                }\n",
              "                    \n",
              "                .geemap-dark .jupyter-button {\n",
              "                    --jp-layout-color3: #383838;\n",
              "                }\n",
              "                \n",
              "                .geemap-colab {\n",
              "                    background-color: var(--colab-primary-surface-color, white);\n",
              "                }\n",
              "                    \n",
              "                .geemap-colab .jupyter-button {\n",
              "                    --jp-layout-color3: var(--colab-primary-surface-color, white);\n",
              "                }\n",
              "            </style>\n",
              "            "
            ]
          },
          "metadata": {}
        },
        {
          "output_type": "stream",
          "name": "stdout",
          "text": [
            "To authorize access needed by Earth Engine, open the following URL in a web browser and follow the instructions. If the web browser does not start automatically, please manually browse the URL below.\n",
            "\n",
            "    https://code.earthengine.google.com/client-auth?scopes=https%3A//www.googleapis.com/auth/earthengine%20https%3A//www.googleapis.com/auth/devstorage.full_control&request_id=4gYkOgcR7zJHy_-DCDhfn-dtmNfOInXxjAvR0WFF6GQ&tc=Ye-rLsYTW_eUFO6505dMZsAJkZ3ptW4A7Wb8c4JT_I4&cc=ZrmTGJHMh0iIiworNFIBJM_QTQ_TJtYe9jWS-xzoW-U\n",
            "\n",
            "The authorization workflow will generate a code, which you should paste in the box below.\n",
            "Enter verification code: 4/1AfJohXkXbL4WTEfEECuXqc1lpjCfSacxpk4advm6pLXpjOjZY5VSzsC1yiM\n",
            "\n",
            "Successfully saved authorization token.\n"
          ]
        },
        {
          "output_type": "display_data",
          "data": {
            "text/plain": [
              "Map(center=[0, 0], controls=(WidgetControl(options=['position', 'transparent_bg'], widget=SearchDataGUI(childr…"
            ],
            "application/vnd.jupyter.widget-view+json": {
              "version_major": 2,
              "version_minor": 0,
              "model_id": "52b38a02690847059a5d3d5a3ea09aab"
            }
          },
          "metadata": {
            "application/vnd.jupyter.widget-view+json": {
              "colab": {
                "custom_widget_manager": {
                  "url": "https://ssl.gstatic.com/colaboratory-static/widgets/colab-cdn-widget-manager/b3e629b1971e1542/manager.min.js"
                }
              }
            }
          }
        }
      ],
      "source": [
        "Map = geemap.Map() #geemap is a librarry & Map is a Class\n",
        "Map"
      ]
    },
    {
      "cell_type": "code",
      "execution_count": 17,
      "metadata": {
        "id": "aGH8UotG3tvz",
        "colab": {
          "base_uri": "https://localhost:8080/",
          "height": 574,
          "referenced_widgets": [
            "631567e3858441d7986ffda3df5d56eb",
            "aebf2f2fb05d4f6e822a7ed7531c4f3b",
            "5aa00727e2894e70bdf653550fa65138",
            "1db0a5c1302847b3a0fe070b5986d8da",
            "25387488c8394c418d6f46635cecfb18",
            "cceeb916ab5e44f5a828832d390ce2ee",
            "c7328d768d9e4fd592275aef74a6487a",
            "69628a4621be41e2a3d953dbd00ef2db",
            "c510c760187145d2b96e4328e1ded8c0",
            "057e13ff94e44a57a1bf79e45f9bd8ae",
            "0dd3e44dff3d411a8236c7f61a1d3fd7",
            "c48275d568f747f78d4ac1a82f93e7b4",
            "68f81e8455994078b6c8d482adc437ee",
            "56c2961d26fb40b2891814943adf6b48",
            "41d1abcb86ee4ff99567f19fee4feff1",
            "2c0e2d4534674e75bb0d865cc2c0d5a3",
            "552f89a6f4734f82ad7431dcb503503d",
            "60c346c6179140f0835cd222542b90ce",
            "43839462898c4094b5bc10a75ebe447a",
            "68d2bf434f3c4aad8b7ada9d6a81d107",
            "b09dca9daa2d49fca5655d6b3f96b48f",
            "f07a6417737b4cfe9025bbdccba8ae7b",
            "168bfcd6aba0489da4cba2d183d63429",
            "30b5fe104ac143f1b5efb8a19886b2d9",
            "ced3a7f8067b442ea4917073e7101220",
            "fa1f289917f840c0a4af27374dc2c13f"
          ]
        },
        "outputId": "66a7b379-bdfc-48d8-d744-27c84170de31"
      },
      "outputs": [
        {
          "output_type": "display_data",
          "data": {
            "text/plain": [
              "<IPython.core.display.HTML object>"
            ],
            "text/html": [
              "\n",
              "            <style>\n",
              "                .geemap-dark {\n",
              "                    --jp-widgets-color: white;\n",
              "                    --jp-widgets-label-color: white;\n",
              "                    --jp-ui-font-color1: white;\n",
              "                    --jp-layout-color2: #454545;\n",
              "                    background-color: #383838;\n",
              "                }\n",
              "                    \n",
              "                .geemap-dark .jupyter-button {\n",
              "                    --jp-layout-color3: #383838;\n",
              "                }\n",
              "                \n",
              "                .geemap-colab {\n",
              "                    background-color: var(--colab-primary-surface-color, white);\n",
              "                }\n",
              "                    \n",
              "                .geemap-colab .jupyter-button {\n",
              "                    --jp-layout-color3: var(--colab-primary-surface-color, white);\n",
              "                }\n",
              "            </style>\n",
              "            "
            ]
          },
          "metadata": {}
        },
        {
          "output_type": "display_data",
          "data": {
            "text/plain": [
              "Map(center=[0, 0], controls=(WidgetControl(options=['position', 'transparent_bg'], widget=SearchDataGUI(childr…"
            ],
            "application/vnd.jupyter.widget-view+json": {
              "version_major": 2,
              "version_minor": 0,
              "model_id": "631567e3858441d7986ffda3df5d56eb"
            }
          },
          "metadata": {
            "application/vnd.jupyter.widget-view+json": {
              "colab": {
                "custom_widget_manager": {
                  "url": "https://ssl.gstatic.com/colaboratory-static/widgets/colab-cdn-widget-manager/b3e629b1971e1542/manager.min.js"
                }
              }
            }
          }
        }
      ],
      "source": [
        "# Change the map\n",
        "Map = geemap.Map(height=\"400pt\", width= \"100%\", basemap = \"Esri.WorldImagery\")\n",
        "Map"
      ]
    },
    {
      "cell_type": "code",
      "execution_count": 5,
      "metadata": {
        "id": "eUAfuNfSJHnZ",
        "colab": {
          "base_uri": "https://localhost:8080/",
          "height": 34
        },
        "outputId": "ca52beac-4747-435f-cb2a-067013513943"
      },
      "outputs": [
        {
          "output_type": "display_data",
          "data": {
            "text/plain": [
              "<IPython.core.display.HTML object>"
            ],
            "text/html": [
              "\n",
              "            <style>\n",
              "                .geemap-dark {\n",
              "                    --jp-widgets-color: white;\n",
              "                    --jp-widgets-label-color: white;\n",
              "                    --jp-ui-font-color1: white;\n",
              "                    --jp-layout-color2: #454545;\n",
              "                    background-color: #383838;\n",
              "                }\n",
              "                    \n",
              "                .geemap-dark .jupyter-button {\n",
              "                    --jp-layout-color3: #383838;\n",
              "                }\n",
              "                \n",
              "                .geemap-colab {\n",
              "                    background-color: var(--colab-primary-surface-color, white);\n",
              "                }\n",
              "                    \n",
              "                .geemap-colab .jupyter-button {\n",
              "                    --jp-layout-color3: var(--colab-primary-surface-color, white);\n",
              "                }\n",
              "            </style>\n",
              "            "
            ]
          },
          "metadata": {}
        },
        {
          "output_type": "stream",
          "name": "stdout",
          "text": [
            "Esri.WorldImagery has been already added before.\n"
          ]
        }
      ],
      "source": [
        "# We can use this way to Change the basemap layer to 'Esri World Imagery'\n",
        "Map.add_basemap(basemap=\"Esri.WorldImagery\")"
      ]
    },
    {
      "cell_type": "markdown",
      "source": [
        "## Showing the name of all Basemaps"
      ],
      "metadata": {
        "id": "kfKdACamkhNf"
      }
    },
    {
      "cell_type": "code",
      "execution_count": 6,
      "metadata": {
        "id": "ANk8s82A3t2K",
        "colab": {
          "base_uri": "https://localhost:8080/",
          "height": 1000
        },
        "outputId": "b260be97-421f-434d-d604-ad64233166d8"
      },
      "outputs": [
        {
          "output_type": "display_data",
          "data": {
            "text/plain": [
              "<IPython.core.display.HTML object>"
            ],
            "text/html": [
              "\n",
              "            <style>\n",
              "                .geemap-dark {\n",
              "                    --jp-widgets-color: white;\n",
              "                    --jp-widgets-label-color: white;\n",
              "                    --jp-ui-font-color1: white;\n",
              "                    --jp-layout-color2: #454545;\n",
              "                    background-color: #383838;\n",
              "                }\n",
              "                    \n",
              "                .geemap-dark .jupyter-button {\n",
              "                    --jp-layout-color3: #383838;\n",
              "                }\n",
              "                \n",
              "                .geemap-colab {\n",
              "                    background-color: var(--colab-primary-surface-color, white);\n",
              "                }\n",
              "                    \n",
              "                .geemap-colab .jupyter-button {\n",
              "                    --jp-layout-color3: var(--colab-primary-surface-color, white);\n",
              "                }\n",
              "            </style>\n",
              "            "
            ]
          },
          "metadata": {}
        },
        {
          "output_type": "stream",
          "name": "stdout",
          "text": [
            "OpenStreetMap\n",
            "Esri.WorldStreetMap\n",
            "Esri.WorldImagery\n",
            "Esri.WorldTopoMap\n",
            "FWS NWI Wetlands\n",
            "FWS NWI Wetlands Raster\n",
            "NLCD 2021 CONUS Land Cover\n",
            "NLCD 2019 CONUS Land Cover\n",
            "NLCD 2016 CONUS Land Cover\n",
            "NLCD 2013 CONUS Land Cover\n",
            "NLCD 2011 CONUS Land Cover\n",
            "NLCD 2008 CONUS Land Cover\n",
            "NLCD 2006 CONUS Land Cover\n",
            "NLCD 2004 CONUS Land Cover\n",
            "NLCD 2001 CONUS Land Cover\n",
            "USGS NAIP Imagery\n",
            "USGS NAIP Imagery False Color\n",
            "USGS NAIP Imagery NDVI\n",
            "USGS Hydrography\n",
            "USGS 3DEP Elevation\n",
            "ESA Worldcover 2020\n",
            "ESA Worldcover 2020 S2 FCC\n",
            "ESA Worldcover 2020 S2 TCC\n",
            "ESA Worldcover 2021\n",
            "ESA Worldcover 2021 S2 FCC\n",
            "ESA Worldcover 2021 S2 TCC\n",
            "BasemapAT.basemap\n",
            "BasemapAT.grau\n",
            "BasemapAT.highdpi\n",
            "BasemapAT.orthofoto\n",
            "BasemapAT.overlay\n",
            "BasemapAT.surface\n",
            "BasemapAT.terrain\n",
            "CartoDB.DarkMatter\n",
            "CartoDB.DarkMatterNoLabels\n",
            "CartoDB.DarkMatterOnlyLabels\n",
            "CartoDB.Positron\n",
            "CartoDB.PositronNoLabels\n",
            "CartoDB.PositronOnlyLabels\n",
            "CartoDB.Voyager\n",
            "CartoDB.VoyagerLabelsUnder\n",
            "CartoDB.VoyagerNoLabels\n",
            "CartoDB.VoyagerOnlyLabels\n",
            "CyclOSM\n",
            "Esri.AntarcticBasemap\n",
            "Esri.AntarcticImagery\n",
            "Esri.ArcticImagery\n",
            "Esri.ArcticOceanBase\n",
            "Esri.ArcticOceanReference\n",
            "Esri.DeLorme\n",
            "Esri.NatGeoWorldMap\n",
            "Esri.OceanBasemap\n",
            "Esri.WorldGrayCanvas\n",
            "Esri.WorldPhysical\n",
            "Esri.WorldShadedRelief\n",
            "Esri.WorldTerrain\n",
            "FreeMapSK\n",
            "Gaode.Normal\n",
            "Gaode.Satellite\n",
            "HikeBike.HikeBike\n",
            "HikeBike.HillShading\n",
            "JusticeMap.americanIndian\n",
            "JusticeMap.asian\n",
            "JusticeMap.black\n",
            "JusticeMap.hispanic\n",
            "JusticeMap.income\n",
            "JusticeMap.multi\n",
            "JusticeMap.nonWhite\n",
            "JusticeMap.plurality\n",
            "JusticeMap.white\n",
            "MtbMap\n",
            "NASAGIBS.ASTER_GDEM_Greyscale_Shaded_Relief\n",
            "NASAGIBS.BlueMarble\n",
            "NASAGIBS.BlueMarble3031\n",
            "NASAGIBS.BlueMarble3413\n",
            "NASAGIBS.ModisAquaBands721CR\n",
            "NASAGIBS.ModisAquaTrueColorCR\n",
            "NASAGIBS.ModisTerraAOD\n",
            "NASAGIBS.ModisTerraBands367CR\n",
            "NASAGIBS.ModisTerraBands721CR\n",
            "NASAGIBS.ModisTerraChlorophyll\n",
            "NASAGIBS.ModisTerraLSTDay\n",
            "NASAGIBS.ModisTerraSnowCover\n",
            "NASAGIBS.ModisTerraTrueColorCR\n",
            "NASAGIBS.ViirsEarthAtNight2012\n",
            "NASAGIBS.ViirsTrueColorCR\n",
            "NLS\n",
            "OPNVKarte\n",
            "OneMapSG.Default\n",
            "OneMapSG.Grey\n",
            "OneMapSG.LandLot\n",
            "OneMapSG.Night\n",
            "OneMapSG.Original\n",
            "OpenAIP\n",
            "OpenFireMap\n",
            "OpenRailwayMap\n",
            "OpenSeaMap\n",
            "OpenSnowMap.pistes\n",
            "OpenStreetMap.BZH\n",
            "OpenStreetMap.BlackAndWhite\n",
            "OpenStreetMap.CH\n",
            "OpenStreetMap.DE\n",
            "OpenStreetMap.HOT\n",
            "OpenStreetMap.Mapnik\n",
            "OpenTopoMap\n",
            "SafeCast\n",
            "Stadia.AlidadeSmooth\n",
            "Stadia.AlidadeSmoothDark\n",
            "Stadia.OSMBright\n",
            "Stadia.Outdoors\n",
            "Stadia.StamenTerrain\n",
            "Stadia.StamenTerrainBackground\n",
            "Stadia.StamenTerrainLabels\n",
            "Stadia.StamenTerrainLines\n",
            "Stadia.StamenToner\n",
            "Stadia.StamenTonerBackground\n",
            "Stadia.StamenTonerLabels\n",
            "Stadia.StamenTonerLines\n",
            "Stadia.StamenTonerLite\n",
            "Stadia.StamenWatercolor\n",
            "Strava.All\n",
            "Strava.Ride\n",
            "Strava.Run\n",
            "Strava.Water\n",
            "Strava.Winter\n",
            "SwissFederalGeoportal.JourneyThroughTime\n",
            "SwissFederalGeoportal.NationalMapColor\n",
            "SwissFederalGeoportal.NationalMapGrey\n",
            "SwissFederalGeoportal.SWISSIMAGE\n",
            "USGS.USImagery\n",
            "USGS.USImageryTopo\n",
            "USGS.USTopo\n",
            "WaymarkedTrails.cycling\n",
            "WaymarkedTrails.hiking\n",
            "WaymarkedTrails.mtb\n",
            "WaymarkedTrails.riding\n",
            "WaymarkedTrails.skating\n",
            "WaymarkedTrails.slopes\n",
            "nlmaps.grijs\n",
            "nlmaps.luchtfoto\n",
            "nlmaps.pastel\n",
            "nlmaps.standaard\n",
            "nlmaps.water\n"
          ]
        }
      ],
      "source": [
        "basemaps = geemap.basemaps\n",
        "for basemap in basemaps:\n",
        "  print(basemap)"
      ]
    },
    {
      "cell_type": "markdown",
      "metadata": {
        "id": "jUJCmvve3t7p"
      },
      "source": [
        "## Working with Feature Collection\n",
        "In Google Earth Engine, a Feature Collection is a type of data structure that represents a collection of vector features. These features could represent points, lines, polygons, or a combination of these geometries. Feature Collections are fundamental for working with spatial data and conducting geospatial analyses in Earth Engine.\n",
        "\n"
      ]
    },
    {
      "cell_type": "code",
      "execution_count": 7,
      "metadata": {
        "id": "qMusaUxo3uAV",
        "colab": {
          "base_uri": "https://localhost:8080/",
          "height": 621,
          "referenced_widgets": [
            "b6f7cb14a9374fdd9f7339b7087ae9a7",
            "6a3ca982d5394bcb9e03da7e49cdb7c5",
            "5e05cdb53f964fc1b5fcf6e30aa3e9dc",
            "b70b5ccdb73b462f9eeecec7f1c6ef73",
            "f4c39dfe7b1b41849168728dc634de83",
            "08465bb3b2e745e6bcf28a1d2b77a2df",
            "dc88d6349c24463aada5904e9ebaf2ac",
            "9483310426e842c7a9150e482518bf9f",
            "d80f92aef2b0436e96529bdcdc64bd95",
            "fa75a72433394ca6a7d98a9b68937880",
            "2ecb59355bd343d2be2ee5dd9c5a55ed",
            "003b3eef5a4e4498b11a74dbd05055f6",
            "e25411d6f72e40b3b12299b96ab820e5",
            "77f7c21a1d0b4501b8c08cd98f78393c",
            "a563ccfd3ddb4660864593921db836ed",
            "e8749c1a3b9e4de1824d5afc4bf7cc18",
            "cfad99dc487e4effb0b1bb7ab44fa4c5",
            "e4dcc5dbc8094741b6ff21347d881e18",
            "18de75f1ba6846eeba0e7e4fde0c83b5",
            "7eecfcb7bd7c42b6a966d9ebd90a8181",
            "021c930c40e84e03998d3d40d56e2417",
            "766b297d37b1401e8a018b83e8c435d4",
            "bf218c5d1fc6489889f37ce3c2706494",
            "9b1fac0feb384ad1a666af4e2caa6006",
            "16a920c1ae1c4e91bfe967b5952843d2",
            "abf0467f8be7476899b5185eeea4ed02",
            "9fa7a5498ded4213b796aaa307faf395"
          ]
        },
        "outputId": "20b92bed-ff96-4914-854a-2d7045e8dbc9"
      },
      "outputs": [
        {
          "output_type": "display_data",
          "data": {
            "text/plain": [
              "<IPython.core.display.HTML object>"
            ],
            "text/html": [
              "\n",
              "            <style>\n",
              "                .geemap-dark {\n",
              "                    --jp-widgets-color: white;\n",
              "                    --jp-widgets-label-color: white;\n",
              "                    --jp-ui-font-color1: white;\n",
              "                    --jp-layout-color2: #454545;\n",
              "                    background-color: #383838;\n",
              "                }\n",
              "                    \n",
              "                .geemap-dark .jupyter-button {\n",
              "                    --jp-layout-color3: #383838;\n",
              "                }\n",
              "                \n",
              "                .geemap-colab {\n",
              "                    background-color: var(--colab-primary-surface-color, white);\n",
              "                }\n",
              "                    \n",
              "                .geemap-colab .jupyter-button {\n",
              "                    --jp-layout-color3: var(--colab-primary-surface-color, white);\n",
              "                }\n",
              "            </style>\n",
              "            "
            ]
          },
          "metadata": {}
        },
        {
          "output_type": "display_data",
          "data": {
            "text/plain": [
              "Map(center=[0, 0], controls=(WidgetControl(options=['position', 'transparent_bg'], widget=SearchDataGUI(childr…"
            ],
            "application/vnd.jupyter.widget-view+json": {
              "version_major": 2,
              "version_minor": 0,
              "model_id": "b6f7cb14a9374fdd9f7339b7087ae9a7"
            }
          },
          "metadata": {
            "application/vnd.jupyter.widget-view+json": {
              "colab": {
                "custom_widget_manager": {
                  "url": "https://ssl.gstatic.com/colaboratory-static/widgets/colab-cdn-widget-manager/b3e629b1971e1542/manager.min.js"
                }
              }
            }
          }
        }
      ],
      "source": [
        "# Set up a new map object\n",
        "Map = geemap.Map()\n",
        "Map"
      ]
    },
    {
      "cell_type": "code",
      "execution_count": 8,
      "metadata": {
        "id": "MLLz_VbM3uI9",
        "colab": {
          "base_uri": "https://localhost:8080/",
          "height": 17
        },
        "outputId": "96d5023b-a4d3-4204-97f0-f29628a0e21a"
      },
      "outputs": [
        {
          "output_type": "display_data",
          "data": {
            "text/plain": [
              "<IPython.core.display.HTML object>"
            ],
            "text/html": [
              "\n",
              "            <style>\n",
              "                .geemap-dark {\n",
              "                    --jp-widgets-color: white;\n",
              "                    --jp-widgets-label-color: white;\n",
              "                    --jp-ui-font-color1: white;\n",
              "                    --jp-layout-color2: #454545;\n",
              "                    background-color: #383838;\n",
              "                }\n",
              "                    \n",
              "                .geemap-dark .jupyter-button {\n",
              "                    --jp-layout-color3: #383838;\n",
              "                }\n",
              "                \n",
              "                .geemap-colab {\n",
              "                    background-color: var(--colab-primary-surface-color, white);\n",
              "                }\n",
              "                    \n",
              "                .geemap-colab .jupyter-button {\n",
              "                    --jp-layout-color3: var(--colab-primary-surface-color, white);\n",
              "                }\n",
              "            </style>\n",
              "            "
            ]
          },
          "metadata": {}
        }
      ],
      "source": [
        "# Imput the shapefile (in this case World Administrative Boundary)\n",
        "world = ee.FeatureCollection(\"users/geonextgis/World_Administrative_Boundaries\")\n",
        "\n",
        "world_style = {\n",
        "    \"fillColor\": \"yellow\", # First 6 digit for RGB color last 2 digit for itransparency value\n",
        "    \"color\": \"black\", # This is the color of the border\n",
        "    \"width\": 1 # This is the strock of the border\n",
        "}\n",
        "Map.addLayer(world.style(**world_style), {}, \"World Administrative Boundary\") # Kwargs - dictionary"
      ]
    },
    {
      "cell_type": "markdown",
      "metadata": {
        "id": "4IYA66oo6pPf"
      },
      "source": [
        "## Filtering Feature Collection\n",
        "Filtering a Feature Collection in Google Earth Engine involves selecting a subset of features based on specific criteria, such as spatial, attribute, or temporal conditions. This process is essential for isolating relevant data for analysis. Here are the key aspects of filtering a Feature Collection:\n",
        "\n",
        "### Attribute Filtering:\n",
        "\n",
        "Attribute filtering involves selecting features based on their attribute values, such as properties or characteristics.\n",
        "The filter function is often used in combination with ee.Filter to define attribute-based conditions.\n"
      ]
    },
    {
      "cell_type": "code",
      "execution_count": 9,
      "metadata": {
        "id": "GClxSa1A7079",
        "colab": {
          "base_uri": "https://localhost:8080/",
          "height": 17
        },
        "outputId": "a95438de-52c1-4dfa-ff98-13443c94ca35"
      },
      "outputs": [
        {
          "output_type": "display_data",
          "data": {
            "text/plain": [
              "<IPython.core.display.HTML object>"
            ],
            "text/html": [
              "\n",
              "            <style>\n",
              "                .geemap-dark {\n",
              "                    --jp-widgets-color: white;\n",
              "                    --jp-widgets-label-color: white;\n",
              "                    --jp-ui-font-color1: white;\n",
              "                    --jp-layout-color2: #454545;\n",
              "                    background-color: #383838;\n",
              "                }\n",
              "                    \n",
              "                .geemap-dark .jupyter-button {\n",
              "                    --jp-layout-color3: #383838;\n",
              "                }\n",
              "                \n",
              "                .geemap-colab {\n",
              "                    background-color: var(--colab-primary-surface-color, white);\n",
              "                }\n",
              "                    \n",
              "                .geemap-colab .jupyter-button {\n",
              "                    --jp-layout-color3: var(--colab-primary-surface-color, white);\n",
              "                }\n",
              "            </style>\n",
              "            "
            ]
          },
          "metadata": {}
        }
      ],
      "source": [
        "# Filter all the European countries\n",
        "european_countries = world.filter(ee.Filter.eq(\"continent\", \"Europe\"))\n",
        "european_countries_style = {\n",
        "    \"fillColor\": \"green\",\n",
        "    \"color\": \"black\",\n",
        "    \"width\": 1\n",
        "}\n",
        "Map.addLayer(european_countries.style(**european_countries_style), {}, \"European Countries\")\n",
        "Map.centerObject(european_countries, 3)"
      ]
    },
    {
      "cell_type": "markdown",
      "metadata": {
        "id": "nNCzxatpuaEg"
      },
      "source": [
        "### Spatial Filtering\n",
        "\n",
        "* Spatial filtering involves selecting features based on their geographic  location or proximity to a specified region.\n",
        "* Common spatial filters include geometry, intersects, bounds, and distance, allowing users to focus on features within a defined area or at a certain distance from a given point.\n",
        "\n",
        "\n",
        "\n"
      ]
    },
    {
      "cell_type": "code",
      "execution_count": 10,
      "metadata": {
        "id": "kJcuDp8aO1mi",
        "colab": {
          "base_uri": "https://localhost:8080/",
          "height": 17
        },
        "outputId": "708dbe79-50df-43d5-d926-6f7bec2e93d4"
      },
      "outputs": [
        {
          "output_type": "display_data",
          "data": {
            "text/plain": [
              "<IPython.core.display.HTML object>"
            ],
            "text/html": [
              "\n",
              "            <style>\n",
              "                .geemap-dark {\n",
              "                    --jp-widgets-color: white;\n",
              "                    --jp-widgets-label-color: white;\n",
              "                    --jp-ui-font-color1: white;\n",
              "                    --jp-layout-color2: #454545;\n",
              "                    background-color: #383838;\n",
              "                }\n",
              "                    \n",
              "                .geemap-dark .jupyter-button {\n",
              "                    --jp-layout-color3: #383838;\n",
              "                }\n",
              "                \n",
              "                .geemap-colab {\n",
              "                    background-color: var(--colab-primary-surface-color, white);\n",
              "                }\n",
              "                    \n",
              "                .geemap-colab .jupyter-button {\n",
              "                    --jp-layout-color3: var(--colab-primary-surface-color, white);\n",
              "                }\n",
              "            </style>\n",
              "            "
            ]
          },
          "metadata": {}
        }
      ],
      "source": [
        "# Read 'Grided Population Data' from NASA SEDAC\n",
        "gpw = ee.FeatureCollection(\"projects/sat-io/open-datasets/sedac/gpw-v4-admin-unit-center-points-population-estimates-rev11\"); # When we use the .style\n",
        "# function then the vector file converted as a image\n",
        "\n",
        "# Filter the Feature collection with only European contries (this is the sptiala filtering)\n",
        "# Filter the points where population estimates is more than 500000 in 2020 (this is attribute filtering)\n",
        "gpw_european = gpw.filterBounds(european_countries)\n",
        "\n",
        "gpw_european_gt5lakhs_20 = gpw_european.filter(ee.Filter.gt(\"UN_2020_E\", 500000))\n",
        "gpw_europeanan_gt5lakhs_20_style = {\n",
        "    \"fillColor\": \"C70039\",\n",
        "    \"color\" : \"red\",\n",
        "    \"width\" : 1,\n",
        "    \"pointSize\" : 5\n",
        "}\n",
        "Map.addLayer(gpw_european_gt5lakhs_20.style(**gpw_europeanan_gt5lakhs_20_style), {}, \"Global Population Estimates > 10 Lakhs (Asia)\")\n",
        "### Now the whole vector file and the points are a image ###"
      ]
    },
    {
      "cell_type": "markdown",
      "metadata": {
        "id": "gTh9QP4eCW14"
      },
      "source": [
        "🤔 Note: In geemap, the addLayer function is designed to visualize data on the map by adding a layer. However, it's important to note that this function always returns an Image object, not a Feature Collection or individual Feature when using with style function"
      ]
    },
    {
      "cell_type": "markdown",
      "metadata": {
        "id": "9qDslxg41U9_"
      },
      "source": [
        "## Download the Filtered Feature Collection"
      ]
    },
    {
      "cell_type": "code",
      "execution_count": 11,
      "metadata": {
        "id": "nuYZaV2Y1VcS",
        "colab": {
          "base_uri": "https://localhost:8080/",
          "height": 17
        },
        "outputId": "9fbc34b8-c5a9-4866-877f-873fc0043453"
      },
      "outputs": [
        {
          "output_type": "display_data",
          "data": {
            "text/plain": [
              "<IPython.core.display.HTML object>"
            ],
            "text/html": [
              "\n",
              "            <style>\n",
              "                .geemap-dark {\n",
              "                    --jp-widgets-color: white;\n",
              "                    --jp-widgets-label-color: white;\n",
              "                    --jp-ui-font-color1: white;\n",
              "                    --jp-layout-color2: #454545;\n",
              "                    background-color: #383838;\n",
              "                }\n",
              "                    \n",
              "                .geemap-dark .jupyter-button {\n",
              "                    --jp-layout-color3: #383838;\n",
              "                }\n",
              "                \n",
              "                .geemap-colab {\n",
              "                    background-color: var(--colab-primary-surface-color, white);\n",
              "                }\n",
              "                    \n",
              "                .geemap-colab .jupyter-button {\n",
              "                    --jp-layout-color3: var(--colab-primary-surface-color, white);\n",
              "                }\n",
              "            </style>\n",
              "            "
            ]
          },
          "metadata": {}
        }
      ],
      "source": [
        "task = ee.batch.Export.table.toDrive(collection = gpw_european_gt5lakhs_20,\n",
        "                                     description = \"GPW_European_Pop_Est_2020\",\n",
        "                                     folder = \"GEE\",\n",
        "                                     fileNamePrefix = \"GPW_European_Pop_Est_2020\",\n",
        "                                     fileFormat = \"SHP\")\n",
        "# Export the filtered feature collection\n",
        "#task.start()"
      ]
    },
    {
      "cell_type": "markdown",
      "metadata": {
        "id": "3YsvA1nC5DN2"
      },
      "source": [
        "## **Working with Image Collection**\n",
        "In Google Earth Engine (GEE), an Image Collection is a fundamental data structure used to represent a group or sequence of images. These images can be satellite observations, remotely sensed data, or any other raster data that can be organized over time or space.\n",
        "\n"
      ]
    },
    {
      "cell_type": "code",
      "source": [
        "map = geemap.Map(height = \"300pt\", width = \"80%\")\n",
        "map"
      ],
      "metadata": {
        "id": "oFzAN62UC_w5",
        "colab": {
          "base_uri": "https://localhost:8080/",
          "height": 421,
          "referenced_widgets": [
            "4b400793f7454f019dae8c0be94b38e6",
            "270c99a35f99490cbe7b0103152de09d",
            "ed3dabafd50a417b90d9d2e0f439e088",
            "16da4265a45547af9b7daa737c73bc76",
            "7ca303d02c0f420faa429acb6af89fcc",
            "3fb040c151e748588fd84ead69dcb14b",
            "6d3e590f744b4dbabe0b81b3ff892ad9",
            "03b52fbf07724d868207794c29afa651",
            "19642be67fed4cacb17303c3ae3a39f7",
            "918383d8b97f4953ab9f9c3aae6dea7e",
            "d7c8246bae5248c4a48baa91c59dcb55",
            "c4c7accff8684cfca412798eae70371c",
            "b320ddc078b249e8ad628aa52670dab4",
            "615d05a92fa94d518273ff77a787078b",
            "c9a9f21b24ba4711803c3457f4b86ec1",
            "0a09f08772d540dcbf4b0377ad0889e7",
            "c651daecd79c4d12b85ed6748d2724f3",
            "f95dccca48b1494299004531d310efd0",
            "1274f49bef7e4e29b0be3ff9568a8b6e",
            "977cadd148e54e8fbac7f9dd72e253d9",
            "35a61fc89b1547bba8f416501daed0ec",
            "3ba9e299a94a47e885c393b1c994a97c",
            "920ddb81a2114bcaa8bf76644c60e383",
            "4c39799e8e004c7f915d2621ff1c7d81",
            "e4eb8dbf3cbb4bb7add446187a77e603"
          ]
        },
        "outputId": "833ad201-e4d1-452f-f23e-15aa4ad87ae8"
      },
      "execution_count": 12,
      "outputs": [
        {
          "output_type": "display_data",
          "data": {
            "text/plain": [
              "<IPython.core.display.HTML object>"
            ],
            "text/html": [
              "\n",
              "            <style>\n",
              "                .geemap-dark {\n",
              "                    --jp-widgets-color: white;\n",
              "                    --jp-widgets-label-color: white;\n",
              "                    --jp-ui-font-color1: white;\n",
              "                    --jp-layout-color2: #454545;\n",
              "                    background-color: #383838;\n",
              "                }\n",
              "                    \n",
              "                .geemap-dark .jupyter-button {\n",
              "                    --jp-layout-color3: #383838;\n",
              "                }\n",
              "                \n",
              "                .geemap-colab {\n",
              "                    background-color: var(--colab-primary-surface-color, white);\n",
              "                }\n",
              "                    \n",
              "                .geemap-colab .jupyter-button {\n",
              "                    --jp-layout-color3: var(--colab-primary-surface-color, white);\n",
              "                }\n",
              "            </style>\n",
              "            "
            ]
          },
          "metadata": {}
        },
        {
          "output_type": "display_data",
          "data": {
            "text/plain": [
              "Map(center=[0, 0], controls=(WidgetControl(options=['position', 'transparent_bg'], widget=SearchDataGUI(childr…"
            ],
            "application/vnd.jupyter.widget-view+json": {
              "version_major": 2,
              "version_minor": 0,
              "model_id": "4b400793f7454f019dae8c0be94b38e6"
            }
          },
          "metadata": {
            "application/vnd.jupyter.widget-view+json": {
              "colab": {
                "custom_widget_manager": {
                  "url": "https://ssl.gstatic.com/colaboratory-static/widgets/colab-cdn-widget-manager/b3e629b1971e1542/manager.min.js"
                }
              }
            }
          }
        }
      ]
    },
    {
      "cell_type": "code",
      "source": [
        "marker = map.draw_last_feature\n",
        "marker"
      ],
      "metadata": {
        "id": "8bGSACtCC_zd",
        "colab": {
          "base_uri": "https://localhost:8080/",
          "height": 68
        },
        "outputId": "9534502d-ee39-4672-b1a3-d0e4c8c858de"
      },
      "execution_count": 18,
      "outputs": [
        {
          "output_type": "display_data",
          "data": {
            "text/plain": [
              "<IPython.core.display.HTML object>"
            ],
            "text/html": [
              "\n",
              "            <style>\n",
              "                .geemap-dark {\n",
              "                    --jp-widgets-color: white;\n",
              "                    --jp-widgets-label-color: white;\n",
              "                    --jp-ui-font-color1: white;\n",
              "                    --jp-layout-color2: #454545;\n",
              "                    background-color: #383838;\n",
              "                }\n",
              "                    \n",
              "                .geemap-dark .jupyter-button {\n",
              "                    --jp-layout-color3: #383838;\n",
              "                }\n",
              "                \n",
              "                .geemap-colab {\n",
              "                    background-color: var(--colab-primary-surface-color, white);\n",
              "                }\n",
              "                    \n",
              "                .geemap-colab .jupyter-button {\n",
              "                    --jp-layout-color3: var(--colab-primary-surface-color, white);\n",
              "                }\n",
              "            </style>\n",
              "            "
            ]
          },
          "metadata": {}
        },
        {
          "output_type": "execute_result",
          "data": {
            "text/plain": [
              "<ee.feature.Feature at 0x7ca8e030a6b0>"
            ],
            "text/html": [
              "<div><style>:root {\n",
              "  --font-color-primary: var(--jp-content-font-color0, rgba(0, 0, 0, 1));\n",
              "  --font-color-secondary: var(--jp-content-font-color2, rgba(0, 0, 0, 0.6));\n",
              "  --font-color-accent: rgba(123, 31, 162, 1);\n",
              "  --border-color: var(--jp-border-color2, #e0e0e0);\n",
              "  --background-color: var(--jp-layout-color0, white);\n",
              "  --background-color-row-even: var(--jp-layout-color1, white);\n",
              "  --background-color-row-odd: var(--jp-layout-color2, #eeeeee);\n",
              "}\n",
              "\n",
              "html[theme=\"dark\"],\n",
              "body[data-theme=\"dark\"],\n",
              "body.vscode-dark {\n",
              "  --font-color-primary: rgba(255, 255, 255, 1);\n",
              "  --font-color-secondary: rgba(255, 255, 255, 0.6);\n",
              "  --font-color-accent: rgb(173, 132, 190);\n",
              "  --border-color: #2e2e2e;\n",
              "  --background-color: #111111;\n",
              "  --background-color-row-even: #111111;\n",
              "  --background-color-row-odd: #313131;\n",
              "}\n",
              "\n",
              ".ee {\n",
              "  padding: 1em;\n",
              "  line-height: 1.5em;\n",
              "  min-width: 300px;\n",
              "  max-width: 1200px;\n",
              "  overflow-y: scroll;\n",
              "  max-height: 600px;\n",
              "  border: 1px solid var(--border-color);\n",
              "  font-family: monospace;\n",
              "}\n",
              "\n",
              ".ee li {\n",
              "  list-style-type: none;\n",
              "}\n",
              "\n",
              ".ee ul {\n",
              "  padding-left: 1.5em !important;\n",
              "  margin: 0;\n",
              "}\n",
              "\n",
              ".ee > ul {\n",
              "  padding-left: 0 !important;\n",
              "}\n",
              "\n",
              ".ee-open,\n",
              ".ee-shut {\n",
              "  color: var(--font-color-secondary);\n",
              "  cursor: pointer;\n",
              "  margin: 0;\n",
              "}\n",
              "\n",
              ".ee-open:hover,\n",
              ".ee-shut:hover {\n",
              "  color: var(--font-color-primary);\n",
              "}\n",
              "\n",
              ".ee-k {\n",
              "  color: var(--font-color-accent);\n",
              "  margin-right: 6px;\n",
              "}\n",
              "\n",
              ".ee-v {\n",
              "  color: var(--font-color-primary);\n",
              "}\n",
              "\n",
              ".ee-toggle {\n",
              "  display: none;\n",
              "}\n",
              "\n",
              ".ee-shut + ul {\n",
              "  display: none;\n",
              "}\n",
              "\n",
              ".ee-open + ul {\n",
              "  display: block;\n",
              "}\n",
              "\n",
              ".ee-shut::before {\n",
              "  display: inline-block;\n",
              "  content: \"▼\";\n",
              "  margin-right: 6px;\n",
              "  transform: rotate(-90deg);\n",
              "  transition: transform 0.2s;\n",
              "}\n",
              "\n",
              ".ee-open::before {\n",
              "  transform: rotate(0deg);\n",
              "  display: inline-block;\n",
              "  content: \"▼\";\n",
              "  margin-right: 6px;\n",
              "  transition: transform 0.2s;\n",
              "}\n",
              "</style><div class='ee'><ul><li><label class='ee-shut'>Feature (Point, 0 properties)<input type='checkbox' class='ee-toggle'></label><ul><li><span class='ee-k'>type:</span><span class='ee-v'>Feature</span></li><li><label class='ee-shut'>geometry: Point (79.76, 28.57)<input type='checkbox' class='ee-toggle'></label><ul><li><span class='ee-k'>type:</span><span class='ee-v'>Point</span></li><li><label class='ee-shut'>coordinates: [79.764714, 28.57467]<input type='checkbox' class='ee-toggle'></label><ul><li><span class='ee-k'>0:</span><span class='ee-v'>79.764714</span></li><li><span class='ee-k'>1:</span><span class='ee-v'>28.57467</span></li></ul></li></ul></li><li><label class='ee-shut'>properties: Object (0 properties)<input type='checkbox' class='ee-toggle'></label><ul></ul></li></ul></li></ul></div><script>function toggleHeader() {\n",
              "    const parent = this.parentElement;\n",
              "    parent.className = parent.className === \"ee-open\" ? \"ee-shut\" : \"ee-open\";\n",
              "}\n",
              "\n",
              "for (let c of document.getElementsByClassName(\"ee-toggle\")) {\n",
              "    c.onclick = toggleHeader;\n",
              "}</script></div>"
            ]
          },
          "metadata": {},
          "execution_count": 18
        }
      ]
    },
    {
      "cell_type": "markdown",
      "source": [
        "## Import the LANDSAT 9 Level 2 tyer 2 Image Collection"
      ],
      "metadata": {
        "id": "I0_Xw9xbRKdm"
      }
    },
    {
      "cell_type": "code",
      "source": [
        "l9 = ee.ImageCollection(\"LANDSAT/LC09/C02/T1_L2\")\n",
        "l9"
      ],
      "metadata": {
        "id": "ojCa07ttC_19",
        "colab": {
          "base_uri": "https://localhost:8080/",
          "height": 34
        },
        "outputId": "b4403bd3-608b-497c-efdc-6a2e678a6d28"
      },
      "execution_count": 19,
      "outputs": [
        {
          "output_type": "display_data",
          "data": {
            "text/plain": [
              "<IPython.core.display.HTML object>"
            ],
            "text/html": [
              "\n",
              "            <style>\n",
              "                .geemap-dark {\n",
              "                    --jp-widgets-color: white;\n",
              "                    --jp-widgets-label-color: white;\n",
              "                    --jp-ui-font-color1: white;\n",
              "                    --jp-layout-color2: #454545;\n",
              "                    background-color: #383838;\n",
              "                }\n",
              "                    \n",
              "                .geemap-dark .jupyter-button {\n",
              "                    --jp-layout-color3: #383838;\n",
              "                }\n",
              "                \n",
              "                .geemap-colab {\n",
              "                    background-color: var(--colab-primary-surface-color, white);\n",
              "                }\n",
              "                    \n",
              "                .geemap-colab .jupyter-button {\n",
              "                    --jp-layout-color3: var(--colab-primary-surface-color, white);\n",
              "                }\n",
              "            </style>\n",
              "            "
            ]
          },
          "metadata": {}
        },
        {
          "output_type": "execute_result",
          "data": {
            "text/plain": [
              "<ee.imagecollection.ImageCollection at 0x7ca8e030a770>"
            ],
            "text/html": [
              "<pre>&lt;ee.imagecollection.ImageCollection object at 0x7ca8e052eef0&gt;</pre>"
            ]
          },
          "metadata": {},
          "execution_count": 19
        }
      ]
    },
    {
      "cell_type": "markdown",
      "source": [
        "##Filtering Image Collection\n",
        "\n",
        "*   We can filter Image Collections based on various criteria, such as date range, spatial extent, or metadata properties.\n",
        "\n",
        "\n",
        "*   To optimize the workflow, it is advisable to follow a specific order when filtering an Image Collection. The recommended sequence includes filtering by boundary first, followed by dates, and then metadata properties.\n",
        "*   This approach helps reduce computational load and speeds up the execution of operations."
      ],
      "metadata": {
        "id": "HnPcRDrVkRKM"
      }
    },
    {
      "cell_type": "code",
      "source": [
        "l9FilteredImage = l9.filterBounds(marker.geometry())\\\n",
        "                    .filterDate(\"2022-01-01\", \"2022-12-31\")\\\n",
        "                    .filterMetadata(\"CLOUD_COVER\", \"Less_than\", 10)\\\n",
        "                    .first()\n",
        "rgb_Vis = {\n",
        "    \"min\": 8500,\n",
        "    \"max\": 17000,\n",
        "    \"bands\": [\"SR_B4\", \"SR_B3\", \"SR_B2\"]\n",
        "}\n",
        "\n",
        "sfcc_vis = {\n",
        "    \"min\": 8000,\n",
        "    \"max\": 18000,\n",
        "    \"bands\": [\"SR_B5\", \"SR_B4\", \"SR_B3\"]\n",
        "}\n",
        "\n",
        "Map.addLayer(l9FilteredImage, rgb_Vis, \"RGB Image\")\n",
        "Map.addLayer(l9FilteredImage, sfcc_vis, \"SFCC Image\")\n",
        "Map.centerObject(l9FilteredImage, 8)"
      ],
      "metadata": {
        "colab": {
          "base_uri": "https://localhost:8080/",
          "height": 17
        },
        "id": "12HV6yy5YsOm",
        "outputId": "fdda2626-36de-4498-d7b1-5508c88433af"
      },
      "execution_count": 20,
      "outputs": [
        {
          "output_type": "display_data",
          "data": {
            "text/plain": [
              "<IPython.core.display.HTML object>"
            ],
            "text/html": [
              "\n",
              "            <style>\n",
              "                .geemap-dark {\n",
              "                    --jp-widgets-color: white;\n",
              "                    --jp-widgets-label-color: white;\n",
              "                    --jp-ui-font-color1: white;\n",
              "                    --jp-layout-color2: #454545;\n",
              "                    background-color: #383838;\n",
              "                }\n",
              "                    \n",
              "                .geemap-dark .jupyter-button {\n",
              "                    --jp-layout-color3: #383838;\n",
              "                }\n",
              "                \n",
              "                .geemap-colab {\n",
              "                    background-color: var(--colab-primary-surface-color, white);\n",
              "                }\n",
              "                    \n",
              "                .geemap-colab .jupyter-button {\n",
              "                    --jp-layout-color3: var(--colab-primary-surface-color, white);\n",
              "                }\n",
              "            </style>\n",
              "            "
            ]
          },
          "metadata": {}
        }
      ]
    },
    {
      "cell_type": "code",
      "source": [
        "l9FilteredImage"
      ],
      "metadata": {
        "colab": {
          "base_uri": "https://localhost:8080/",
          "height": 68
        },
        "id": "H1TpD4XSZR7O",
        "outputId": "e965026b-bae8-433e-b1b1-25467ca64b8e"
      },
      "execution_count": 21,
      "outputs": [
        {
          "output_type": "display_data",
          "data": {
            "text/plain": [
              "<IPython.core.display.HTML object>"
            ],
            "text/html": [
              "\n",
              "            <style>\n",
              "                .geemap-dark {\n",
              "                    --jp-widgets-color: white;\n",
              "                    --jp-widgets-label-color: white;\n",
              "                    --jp-ui-font-color1: white;\n",
              "                    --jp-layout-color2: #454545;\n",
              "                    background-color: #383838;\n",
              "                }\n",
              "                    \n",
              "                .geemap-dark .jupyter-button {\n",
              "                    --jp-layout-color3: #383838;\n",
              "                }\n",
              "                \n",
              "                .geemap-colab {\n",
              "                    background-color: var(--colab-primary-surface-color, white);\n",
              "                }\n",
              "                    \n",
              "                .geemap-colab .jupyter-button {\n",
              "                    --jp-layout-color3: var(--colab-primary-surface-color, white);\n",
              "                }\n",
              "            </style>\n",
              "            "
            ]
          },
          "metadata": {}
        },
        {
          "output_type": "execute_result",
          "data": {
            "text/plain": [
              "<ee.image.Image at 0x7ca8e030ac20>"
            ],
            "text/html": [
              "<div><style>:root {\n",
              "  --font-color-primary: var(--jp-content-font-color0, rgba(0, 0, 0, 1));\n",
              "  --font-color-secondary: var(--jp-content-font-color2, rgba(0, 0, 0, 0.6));\n",
              "  --font-color-accent: rgba(123, 31, 162, 1);\n",
              "  --border-color: var(--jp-border-color2, #e0e0e0);\n",
              "  --background-color: var(--jp-layout-color0, white);\n",
              "  --background-color-row-even: var(--jp-layout-color1, white);\n",
              "  --background-color-row-odd: var(--jp-layout-color2, #eeeeee);\n",
              "}\n",
              "\n",
              "html[theme=\"dark\"],\n",
              "body[data-theme=\"dark\"],\n",
              "body.vscode-dark {\n",
              "  --font-color-primary: rgba(255, 255, 255, 1);\n",
              "  --font-color-secondary: rgba(255, 255, 255, 0.6);\n",
              "  --font-color-accent: rgb(173, 132, 190);\n",
              "  --border-color: #2e2e2e;\n",
              "  --background-color: #111111;\n",
              "  --background-color-row-even: #111111;\n",
              "  --background-color-row-odd: #313131;\n",
              "}\n",
              "\n",
              ".ee {\n",
              "  padding: 1em;\n",
              "  line-height: 1.5em;\n",
              "  min-width: 300px;\n",
              "  max-width: 1200px;\n",
              "  overflow-y: scroll;\n",
              "  max-height: 600px;\n",
              "  border: 1px solid var(--border-color);\n",
              "  font-family: monospace;\n",
              "}\n",
              "\n",
              ".ee li {\n",
              "  list-style-type: none;\n",
              "}\n",
              "\n",
              ".ee ul {\n",
              "  padding-left: 1.5em !important;\n",
              "  margin: 0;\n",
              "}\n",
              "\n",
              ".ee > ul {\n",
              "  padding-left: 0 !important;\n",
              "}\n",
              "\n",
              ".ee-open,\n",
              ".ee-shut {\n",
              "  color: var(--font-color-secondary);\n",
              "  cursor: pointer;\n",
              "  margin: 0;\n",
              "}\n",
              "\n",
              ".ee-open:hover,\n",
              ".ee-shut:hover {\n",
              "  color: var(--font-color-primary);\n",
              "}\n",
              "\n",
              ".ee-k {\n",
              "  color: var(--font-color-accent);\n",
              "  margin-right: 6px;\n",
              "}\n",
              "\n",
              ".ee-v {\n",
              "  color: var(--font-color-primary);\n",
              "}\n",
              "\n",
              ".ee-toggle {\n",
              "  display: none;\n",
              "}\n",
              "\n",
              ".ee-shut + ul {\n",
              "  display: none;\n",
              "}\n",
              "\n",
              ".ee-open + ul {\n",
              "  display: block;\n",
              "}\n",
              "\n",
              ".ee-shut::before {\n",
              "  display: inline-block;\n",
              "  content: \"▼\";\n",
              "  margin-right: 6px;\n",
              "  transform: rotate(-90deg);\n",
              "  transition: transform 0.2s;\n",
              "}\n",
              "\n",
              ".ee-open::before {\n",
              "  transform: rotate(0deg);\n",
              "  display: inline-block;\n",
              "  content: \"▼\";\n",
              "  margin-right: 6px;\n",
              "  transition: transform 0.2s;\n",
              "}\n",
              "</style><div class='ee'><ul><li><label class='ee-shut'>Image LANDSAT/LC09/C02/T1_L2/LC09_145040_20220216 (19 bands)<input type='checkbox' class='ee-toggle'></label><ul><li><span class='ee-k'>type:</span><span class='ee-v'>Image</span></li><li><span class='ee-k'>id:</span><span class='ee-v'>LANDSAT/LC09/C02/T1_L2/LC09_145040_20220216</span></li><li><span class='ee-k'>version:</span><span class='ee-v'>1682720677392042</span></li><li><label class='ee-shut'>bands: List (19 elements)<input type='checkbox' class='ee-toggle'></label><ul><li><label class='ee-shut'>0: \"SR_B1\", unsigned int16, EPSG:32644, 7721x7841 px<input type='checkbox' class='ee-toggle'></label><ul><li><span class='ee-k'>id:</span><span class='ee-v'>SR_B1</span></li><li><span class='ee-k'>crs:</span><span class='ee-v'>EPSG:32644</span></li><li><label class='ee-shut'>crs_transform: [30, 0, 232485, 0, -30, 3311715]<input type='checkbox' class='ee-toggle'></label><ul><li><span class='ee-k'>0:</span><span class='ee-v'>30</span></li><li><span class='ee-k'>1:</span><span class='ee-v'>0</span></li><li><span class='ee-k'>2:</span><span class='ee-v'>232485</span></li><li><span class='ee-k'>3:</span><span class='ee-v'>0</span></li><li><span class='ee-k'>4:</span><span class='ee-v'>-30</span></li><li><span class='ee-k'>5:</span><span class='ee-v'>3311715</span></li></ul></li><li><label class='ee-shut'>data_type: unsigned int16<input type='checkbox' class='ee-toggle'></label><ul><li><span class='ee-k'>type:</span><span class='ee-v'>PixelType</span></li><li><span class='ee-k'>max:</span><span class='ee-v'>65535</span></li><li><span class='ee-k'>min:</span><span class='ee-v'>0</span></li><li><span class='ee-k'>precision:</span><span class='ee-v'>int</span></li></ul></li><li><label class='ee-shut'>dimensions: [7721, 7841]<input type='checkbox' class='ee-toggle'></label><ul><li><span class='ee-k'>0:</span><span class='ee-v'>7721</span></li><li><span class='ee-k'>1:</span><span class='ee-v'>7841</span></li></ul></li></ul></li><li><label class='ee-shut'>1: \"SR_B2\", unsigned int16, EPSG:32644, 7721x7841 px<input type='checkbox' class='ee-toggle'></label><ul><li><span class='ee-k'>id:</span><span class='ee-v'>SR_B2</span></li><li><span class='ee-k'>crs:</span><span class='ee-v'>EPSG:32644</span></li><li><label class='ee-shut'>crs_transform: [30, 0, 232485, 0, -30, 3311715]<input type='checkbox' class='ee-toggle'></label><ul><li><span class='ee-k'>0:</span><span class='ee-v'>30</span></li><li><span class='ee-k'>1:</span><span class='ee-v'>0</span></li><li><span class='ee-k'>2:</span><span class='ee-v'>232485</span></li><li><span class='ee-k'>3:</span><span class='ee-v'>0</span></li><li><span class='ee-k'>4:</span><span class='ee-v'>-30</span></li><li><span class='ee-k'>5:</span><span class='ee-v'>3311715</span></li></ul></li><li><label class='ee-shut'>data_type: unsigned int16<input type='checkbox' class='ee-toggle'></label><ul><li><span class='ee-k'>type:</span><span class='ee-v'>PixelType</span></li><li><span class='ee-k'>max:</span><span class='ee-v'>65535</span></li><li><span class='ee-k'>min:</span><span class='ee-v'>0</span></li><li><span class='ee-k'>precision:</span><span class='ee-v'>int</span></li></ul></li><li><label class='ee-shut'>dimensions: [7721, 7841]<input type='checkbox' class='ee-toggle'></label><ul><li><span class='ee-k'>0:</span><span class='ee-v'>7721</span></li><li><span class='ee-k'>1:</span><span class='ee-v'>7841</span></li></ul></li></ul></li><li><label class='ee-shut'>2: \"SR_B3\", unsigned int16, EPSG:32644, 7721x7841 px<input type='checkbox' class='ee-toggle'></label><ul><li><span class='ee-k'>id:</span><span class='ee-v'>SR_B3</span></li><li><span class='ee-k'>crs:</span><span class='ee-v'>EPSG:32644</span></li><li><label class='ee-shut'>crs_transform: [30, 0, 232485, 0, -30, 3311715]<input type='checkbox' class='ee-toggle'></label><ul><li><span class='ee-k'>0:</span><span class='ee-v'>30</span></li><li><span class='ee-k'>1:</span><span class='ee-v'>0</span></li><li><span class='ee-k'>2:</span><span class='ee-v'>232485</span></li><li><span class='ee-k'>3:</span><span class='ee-v'>0</span></li><li><span class='ee-k'>4:</span><span class='ee-v'>-30</span></li><li><span class='ee-k'>5:</span><span class='ee-v'>3311715</span></li></ul></li><li><label class='ee-shut'>data_type: unsigned int16<input type='checkbox' class='ee-toggle'></label><ul><li><span class='ee-k'>type:</span><span class='ee-v'>PixelType</span></li><li><span class='ee-k'>max:</span><span class='ee-v'>65535</span></li><li><span class='ee-k'>min:</span><span class='ee-v'>0</span></li><li><span class='ee-k'>precision:</span><span class='ee-v'>int</span></li></ul></li><li><label class='ee-shut'>dimensions: [7721, 7841]<input type='checkbox' class='ee-toggle'></label><ul><li><span class='ee-k'>0:</span><span class='ee-v'>7721</span></li><li><span class='ee-k'>1:</span><span class='ee-v'>7841</span></li></ul></li></ul></li><li><label class='ee-shut'>3: \"SR_B4\", unsigned int16, EPSG:32644, 7721x7841 px<input type='checkbox' class='ee-toggle'></label><ul><li><span class='ee-k'>id:</span><span class='ee-v'>SR_B4</span></li><li><span class='ee-k'>crs:</span><span class='ee-v'>EPSG:32644</span></li><li><label class='ee-shut'>crs_transform: [30, 0, 232485, 0, -30, 3311715]<input type='checkbox' class='ee-toggle'></label><ul><li><span class='ee-k'>0:</span><span class='ee-v'>30</span></li><li><span class='ee-k'>1:</span><span class='ee-v'>0</span></li><li><span class='ee-k'>2:</span><span class='ee-v'>232485</span></li><li><span class='ee-k'>3:</span><span class='ee-v'>0</span></li><li><span class='ee-k'>4:</span><span class='ee-v'>-30</span></li><li><span class='ee-k'>5:</span><span class='ee-v'>3311715</span></li></ul></li><li><label class='ee-shut'>data_type: unsigned int16<input type='checkbox' class='ee-toggle'></label><ul><li><span class='ee-k'>type:</span><span class='ee-v'>PixelType</span></li><li><span class='ee-k'>max:</span><span class='ee-v'>65535</span></li><li><span class='ee-k'>min:</span><span class='ee-v'>0</span></li><li><span class='ee-k'>precision:</span><span class='ee-v'>int</span></li></ul></li><li><label class='ee-shut'>dimensions: [7721, 7841]<input type='checkbox' class='ee-toggle'></label><ul><li><span class='ee-k'>0:</span><span class='ee-v'>7721</span></li><li><span class='ee-k'>1:</span><span class='ee-v'>7841</span></li></ul></li></ul></li><li><label class='ee-shut'>4: \"SR_B5\", unsigned int16, EPSG:32644, 7721x7841 px<input type='checkbox' class='ee-toggle'></label><ul><li><span class='ee-k'>id:</span><span class='ee-v'>SR_B5</span></li><li><span class='ee-k'>crs:</span><span class='ee-v'>EPSG:32644</span></li><li><label class='ee-shut'>crs_transform: [30, 0, 232485, 0, -30, 3311715]<input type='checkbox' class='ee-toggle'></label><ul><li><span class='ee-k'>0:</span><span class='ee-v'>30</span></li><li><span class='ee-k'>1:</span><span class='ee-v'>0</span></li><li><span class='ee-k'>2:</span><span class='ee-v'>232485</span></li><li><span class='ee-k'>3:</span><span class='ee-v'>0</span></li><li><span class='ee-k'>4:</span><span class='ee-v'>-30</span></li><li><span class='ee-k'>5:</span><span class='ee-v'>3311715</span></li></ul></li><li><label class='ee-shut'>data_type: unsigned int16<input type='checkbox' class='ee-toggle'></label><ul><li><span class='ee-k'>type:</span><span class='ee-v'>PixelType</span></li><li><span class='ee-k'>max:</span><span class='ee-v'>65535</span></li><li><span class='ee-k'>min:</span><span class='ee-v'>0</span></li><li><span class='ee-k'>precision:</span><span class='ee-v'>int</span></li></ul></li><li><label class='ee-shut'>dimensions: [7721, 7841]<input type='checkbox' class='ee-toggle'></label><ul><li><span class='ee-k'>0:</span><span class='ee-v'>7721</span></li><li><span class='ee-k'>1:</span><span class='ee-v'>7841</span></li></ul></li></ul></li><li><label class='ee-shut'>5: \"SR_B6\", unsigned int16, EPSG:32644, 7721x7841 px<input type='checkbox' class='ee-toggle'></label><ul><li><span class='ee-k'>id:</span><span class='ee-v'>SR_B6</span></li><li><span class='ee-k'>crs:</span><span class='ee-v'>EPSG:32644</span></li><li><label class='ee-shut'>crs_transform: [30, 0, 232485, 0, -30, 3311715]<input type='checkbox' class='ee-toggle'></label><ul><li><span class='ee-k'>0:</span><span class='ee-v'>30</span></li><li><span class='ee-k'>1:</span><span class='ee-v'>0</span></li><li><span class='ee-k'>2:</span><span class='ee-v'>232485</span></li><li><span class='ee-k'>3:</span><span class='ee-v'>0</span></li><li><span class='ee-k'>4:</span><span class='ee-v'>-30</span></li><li><span class='ee-k'>5:</span><span class='ee-v'>3311715</span></li></ul></li><li><label class='ee-shut'>data_type: unsigned int16<input type='checkbox' class='ee-toggle'></label><ul><li><span class='ee-k'>type:</span><span class='ee-v'>PixelType</span></li><li><span class='ee-k'>max:</span><span class='ee-v'>65535</span></li><li><span class='ee-k'>min:</span><span class='ee-v'>0</span></li><li><span class='ee-k'>precision:</span><span class='ee-v'>int</span></li></ul></li><li><label class='ee-shut'>dimensions: [7721, 7841]<input type='checkbox' class='ee-toggle'></label><ul><li><span class='ee-k'>0:</span><span class='ee-v'>7721</span></li><li><span class='ee-k'>1:</span><span class='ee-v'>7841</span></li></ul></li></ul></li><li><label class='ee-shut'>6: \"SR_B7\", unsigned int16, EPSG:32644, 7721x7841 px<input type='checkbox' class='ee-toggle'></label><ul><li><span class='ee-k'>id:</span><span class='ee-v'>SR_B7</span></li><li><span class='ee-k'>crs:</span><span class='ee-v'>EPSG:32644</span></li><li><label class='ee-shut'>crs_transform: [30, 0, 232485, 0, -30, 3311715]<input type='checkbox' class='ee-toggle'></label><ul><li><span class='ee-k'>0:</span><span class='ee-v'>30</span></li><li><span class='ee-k'>1:</span><span class='ee-v'>0</span></li><li><span class='ee-k'>2:</span><span class='ee-v'>232485</span></li><li><span class='ee-k'>3:</span><span class='ee-v'>0</span></li><li><span class='ee-k'>4:</span><span class='ee-v'>-30</span></li><li><span class='ee-k'>5:</span><span class='ee-v'>3311715</span></li></ul></li><li><label class='ee-shut'>data_type: unsigned int16<input type='checkbox' class='ee-toggle'></label><ul><li><span class='ee-k'>type:</span><span class='ee-v'>PixelType</span></li><li><span class='ee-k'>max:</span><span class='ee-v'>65535</span></li><li><span class='ee-k'>min:</span><span class='ee-v'>0</span></li><li><span class='ee-k'>precision:</span><span class='ee-v'>int</span></li></ul></li><li><label class='ee-shut'>dimensions: [7721, 7841]<input type='checkbox' class='ee-toggle'></label><ul><li><span class='ee-k'>0:</span><span class='ee-v'>7721</span></li><li><span class='ee-k'>1:</span><span class='ee-v'>7841</span></li></ul></li></ul></li><li><label class='ee-shut'>7: \"SR_QA_AEROSOL\", unsigned int8, EPSG:32644, 7721x7841 px<input type='checkbox' class='ee-toggle'></label><ul><li><span class='ee-k'>id:</span><span class='ee-v'>SR_QA_AEROSOL</span></li><li><span class='ee-k'>crs:</span><span class='ee-v'>EPSG:32644</span></li><li><label class='ee-shut'>crs_transform: [30, 0, 232485, 0, -30, 3311715]<input type='checkbox' class='ee-toggle'></label><ul><li><span class='ee-k'>0:</span><span class='ee-v'>30</span></li><li><span class='ee-k'>1:</span><span class='ee-v'>0</span></li><li><span class='ee-k'>2:</span><span class='ee-v'>232485</span></li><li><span class='ee-k'>3:</span><span class='ee-v'>0</span></li><li><span class='ee-k'>4:</span><span class='ee-v'>-30</span></li><li><span class='ee-k'>5:</span><span class='ee-v'>3311715</span></li></ul></li><li><label class='ee-shut'>data_type: unsigned int8<input type='checkbox' class='ee-toggle'></label><ul><li><span class='ee-k'>type:</span><span class='ee-v'>PixelType</span></li><li><span class='ee-k'>max:</span><span class='ee-v'>255</span></li><li><span class='ee-k'>min:</span><span class='ee-v'>0</span></li><li><span class='ee-k'>precision:</span><span class='ee-v'>int</span></li></ul></li><li><label class='ee-shut'>dimensions: [7721, 7841]<input type='checkbox' class='ee-toggle'></label><ul><li><span class='ee-k'>0:</span><span class='ee-v'>7721</span></li><li><span class='ee-k'>1:</span><span class='ee-v'>7841</span></li></ul></li></ul></li><li><label class='ee-shut'>8: \"ST_B10\", unsigned int16, EPSG:32644, 7721x7841 px<input type='checkbox' class='ee-toggle'></label><ul><li><span class='ee-k'>id:</span><span class='ee-v'>ST_B10</span></li><li><span class='ee-k'>crs:</span><span class='ee-v'>EPSG:32644</span></li><li><label class='ee-shut'>crs_transform: [30, 0, 232485, 0, -30, 3311715]<input type='checkbox' class='ee-toggle'></label><ul><li><span class='ee-k'>0:</span><span class='ee-v'>30</span></li><li><span class='ee-k'>1:</span><span class='ee-v'>0</span></li><li><span class='ee-k'>2:</span><span class='ee-v'>232485</span></li><li><span class='ee-k'>3:</span><span class='ee-v'>0</span></li><li><span class='ee-k'>4:</span><span class='ee-v'>-30</span></li><li><span class='ee-k'>5:</span><span class='ee-v'>3311715</span></li></ul></li><li><label class='ee-shut'>data_type: unsigned int16<input type='checkbox' class='ee-toggle'></label><ul><li><span class='ee-k'>type:</span><span class='ee-v'>PixelType</span></li><li><span class='ee-k'>max:</span><span class='ee-v'>65535</span></li><li><span class='ee-k'>min:</span><span class='ee-v'>0</span></li><li><span class='ee-k'>precision:</span><span class='ee-v'>int</span></li></ul></li><li><label class='ee-shut'>dimensions: [7721, 7841]<input type='checkbox' class='ee-toggle'></label><ul><li><span class='ee-k'>0:</span><span class='ee-v'>7721</span></li><li><span class='ee-k'>1:</span><span class='ee-v'>7841</span></li></ul></li></ul></li><li><label class='ee-shut'>9: \"ST_ATRAN\", signed int16, EPSG:32644, 7721x7841 px<input type='checkbox' class='ee-toggle'></label><ul><li><span class='ee-k'>id:</span><span class='ee-v'>ST_ATRAN</span></li><li><span class='ee-k'>crs:</span><span class='ee-v'>EPSG:32644</span></li><li><label class='ee-shut'>crs_transform: [30, 0, 232485, 0, -30, 3311715]<input type='checkbox' class='ee-toggle'></label><ul><li><span class='ee-k'>0:</span><span class='ee-v'>30</span></li><li><span class='ee-k'>1:</span><span class='ee-v'>0</span></li><li><span class='ee-k'>2:</span><span class='ee-v'>232485</span></li><li><span class='ee-k'>3:</span><span class='ee-v'>0</span></li><li><span class='ee-k'>4:</span><span class='ee-v'>-30</span></li><li><span class='ee-k'>5:</span><span class='ee-v'>3311715</span></li></ul></li><li><label class='ee-shut'>data_type: signed int16<input type='checkbox' class='ee-toggle'></label><ul><li><span class='ee-k'>type:</span><span class='ee-v'>PixelType</span></li><li><span class='ee-k'>max:</span><span class='ee-v'>32767</span></li><li><span class='ee-k'>min:</span><span class='ee-v'>-32768</span></li><li><span class='ee-k'>precision:</span><span class='ee-v'>int</span></li></ul></li><li><label class='ee-shut'>dimensions: [7721, 7841]<input type='checkbox' class='ee-toggle'></label><ul><li><span class='ee-k'>0:</span><span class='ee-v'>7721</span></li><li><span class='ee-k'>1:</span><span class='ee-v'>7841</span></li></ul></li></ul></li><li><label class='ee-shut'>10: \"ST_CDIST\", signed int16, EPSG:32644, 7721x7841 px<input type='checkbox' class='ee-toggle'></label><ul><li><span class='ee-k'>id:</span><span class='ee-v'>ST_CDIST</span></li><li><span class='ee-k'>crs:</span><span class='ee-v'>EPSG:32644</span></li><li><label class='ee-shut'>crs_transform: [30, 0, 232485, 0, -30, 3311715]<input type='checkbox' class='ee-toggle'></label><ul><li><span class='ee-k'>0:</span><span class='ee-v'>30</span></li><li><span class='ee-k'>1:</span><span class='ee-v'>0</span></li><li><span class='ee-k'>2:</span><span class='ee-v'>232485</span></li><li><span class='ee-k'>3:</span><span class='ee-v'>0</span></li><li><span class='ee-k'>4:</span><span class='ee-v'>-30</span></li><li><span class='ee-k'>5:</span><span class='ee-v'>3311715</span></li></ul></li><li><label class='ee-shut'>data_type: signed int16<input type='checkbox' class='ee-toggle'></label><ul><li><span class='ee-k'>type:</span><span class='ee-v'>PixelType</span></li><li><span class='ee-k'>max:</span><span class='ee-v'>32767</span></li><li><span class='ee-k'>min:</span><span class='ee-v'>-32768</span></li><li><span class='ee-k'>precision:</span><span class='ee-v'>int</span></li></ul></li><li><label class='ee-shut'>dimensions: [7721, 7841]<input type='checkbox' class='ee-toggle'></label><ul><li><span class='ee-k'>0:</span><span class='ee-v'>7721</span></li><li><span class='ee-k'>1:</span><span class='ee-v'>7841</span></li></ul></li></ul></li><li><label class='ee-shut'>11: \"ST_DRAD\", signed int16, EPSG:32644, 7721x7841 px<input type='checkbox' class='ee-toggle'></label><ul><li><span class='ee-k'>id:</span><span class='ee-v'>ST_DRAD</span></li><li><span class='ee-k'>crs:</span><span class='ee-v'>EPSG:32644</span></li><li><label class='ee-shut'>crs_transform: [30, 0, 232485, 0, -30, 3311715]<input type='checkbox' class='ee-toggle'></label><ul><li><span class='ee-k'>0:</span><span class='ee-v'>30</span></li><li><span class='ee-k'>1:</span><span class='ee-v'>0</span></li><li><span class='ee-k'>2:</span><span class='ee-v'>232485</span></li><li><span class='ee-k'>3:</span><span class='ee-v'>0</span></li><li><span class='ee-k'>4:</span><span class='ee-v'>-30</span></li><li><span class='ee-k'>5:</span><span class='ee-v'>3311715</span></li></ul></li><li><label class='ee-shut'>data_type: signed int16<input type='checkbox' class='ee-toggle'></label><ul><li><span class='ee-k'>type:</span><span class='ee-v'>PixelType</span></li><li><span class='ee-k'>max:</span><span class='ee-v'>32767</span></li><li><span class='ee-k'>min:</span><span class='ee-v'>-32768</span></li><li><span class='ee-k'>precision:</span><span class='ee-v'>int</span></li></ul></li><li><label class='ee-shut'>dimensions: [7721, 7841]<input type='checkbox' class='ee-toggle'></label><ul><li><span class='ee-k'>0:</span><span class='ee-v'>7721</span></li><li><span class='ee-k'>1:</span><span class='ee-v'>7841</span></li></ul></li></ul></li><li><label class='ee-shut'>12: \"ST_EMIS\", signed int16, EPSG:32644, 7721x7841 px<input type='checkbox' class='ee-toggle'></label><ul><li><span class='ee-k'>id:</span><span class='ee-v'>ST_EMIS</span></li><li><span class='ee-k'>crs:</span><span class='ee-v'>EPSG:32644</span></li><li><label class='ee-shut'>crs_transform: [30, 0, 232485, 0, -30, 3311715]<input type='checkbox' class='ee-toggle'></label><ul><li><span class='ee-k'>0:</span><span class='ee-v'>30</span></li><li><span class='ee-k'>1:</span><span class='ee-v'>0</span></li><li><span class='ee-k'>2:</span><span class='ee-v'>232485</span></li><li><span class='ee-k'>3:</span><span class='ee-v'>0</span></li><li><span class='ee-k'>4:</span><span class='ee-v'>-30</span></li><li><span class='ee-k'>5:</span><span class='ee-v'>3311715</span></li></ul></li><li><label class='ee-shut'>data_type: signed int16<input type='checkbox' class='ee-toggle'></label><ul><li><span class='ee-k'>type:</span><span class='ee-v'>PixelType</span></li><li><span class='ee-k'>max:</span><span class='ee-v'>32767</span></li><li><span class='ee-k'>min:</span><span class='ee-v'>-32768</span></li><li><span class='ee-k'>precision:</span><span class='ee-v'>int</span></li></ul></li><li><label class='ee-shut'>dimensions: [7721, 7841]<input type='checkbox' class='ee-toggle'></label><ul><li><span class='ee-k'>0:</span><span class='ee-v'>7721</span></li><li><span class='ee-k'>1:</span><span class='ee-v'>7841</span></li></ul></li></ul></li><li><label class='ee-shut'>13: \"ST_EMSD\", signed int16, EPSG:32644, 7721x7841 px<input type='checkbox' class='ee-toggle'></label><ul><li><span class='ee-k'>id:</span><span class='ee-v'>ST_EMSD</span></li><li><span class='ee-k'>crs:</span><span class='ee-v'>EPSG:32644</span></li><li><label class='ee-shut'>crs_transform: [30, 0, 232485, 0, -30, 3311715]<input type='checkbox' class='ee-toggle'></label><ul><li><span class='ee-k'>0:</span><span class='ee-v'>30</span></li><li><span class='ee-k'>1:</span><span class='ee-v'>0</span></li><li><span class='ee-k'>2:</span><span class='ee-v'>232485</span></li><li><span class='ee-k'>3:</span><span class='ee-v'>0</span></li><li><span class='ee-k'>4:</span><span class='ee-v'>-30</span></li><li><span class='ee-k'>5:</span><span class='ee-v'>3311715</span></li></ul></li><li><label class='ee-shut'>data_type: signed int16<input type='checkbox' class='ee-toggle'></label><ul><li><span class='ee-k'>type:</span><span class='ee-v'>PixelType</span></li><li><span class='ee-k'>max:</span><span class='ee-v'>32767</span></li><li><span class='ee-k'>min:</span><span class='ee-v'>-32768</span></li><li><span class='ee-k'>precision:</span><span class='ee-v'>int</span></li></ul></li><li><label class='ee-shut'>dimensions: [7721, 7841]<input type='checkbox' class='ee-toggle'></label><ul><li><span class='ee-k'>0:</span><span class='ee-v'>7721</span></li><li><span class='ee-k'>1:</span><span class='ee-v'>7841</span></li></ul></li></ul></li><li><label class='ee-shut'>14: \"ST_QA\", signed int16, EPSG:32644, 7721x7841 px<input type='checkbox' class='ee-toggle'></label><ul><li><span class='ee-k'>id:</span><span class='ee-v'>ST_QA</span></li><li><span class='ee-k'>crs:</span><span class='ee-v'>EPSG:32644</span></li><li><label class='ee-shut'>crs_transform: [30, 0, 232485, 0, -30, 3311715]<input type='checkbox' class='ee-toggle'></label><ul><li><span class='ee-k'>0:</span><span class='ee-v'>30</span></li><li><span class='ee-k'>1:</span><span class='ee-v'>0</span></li><li><span class='ee-k'>2:</span><span class='ee-v'>232485</span></li><li><span class='ee-k'>3:</span><span class='ee-v'>0</span></li><li><span class='ee-k'>4:</span><span class='ee-v'>-30</span></li><li><span class='ee-k'>5:</span><span class='ee-v'>3311715</span></li></ul></li><li><label class='ee-shut'>data_type: signed int16<input type='checkbox' class='ee-toggle'></label><ul><li><span class='ee-k'>type:</span><span class='ee-v'>PixelType</span></li><li><span class='ee-k'>max:</span><span class='ee-v'>32767</span></li><li><span class='ee-k'>min:</span><span class='ee-v'>-32768</span></li><li><span class='ee-k'>precision:</span><span class='ee-v'>int</span></li></ul></li><li><label class='ee-shut'>dimensions: [7721, 7841]<input type='checkbox' class='ee-toggle'></label><ul><li><span class='ee-k'>0:</span><span class='ee-v'>7721</span></li><li><span class='ee-k'>1:</span><span class='ee-v'>7841</span></li></ul></li></ul></li><li><label class='ee-shut'>15: \"ST_TRAD\", signed int16, EPSG:32644, 7721x7841 px<input type='checkbox' class='ee-toggle'></label><ul><li><span class='ee-k'>id:</span><span class='ee-v'>ST_TRAD</span></li><li><span class='ee-k'>crs:</span><span class='ee-v'>EPSG:32644</span></li><li><label class='ee-shut'>crs_transform: [30, 0, 232485, 0, -30, 3311715]<input type='checkbox' class='ee-toggle'></label><ul><li><span class='ee-k'>0:</span><span class='ee-v'>30</span></li><li><span class='ee-k'>1:</span><span class='ee-v'>0</span></li><li><span class='ee-k'>2:</span><span class='ee-v'>232485</span></li><li><span class='ee-k'>3:</span><span class='ee-v'>0</span></li><li><span class='ee-k'>4:</span><span class='ee-v'>-30</span></li><li><span class='ee-k'>5:</span><span class='ee-v'>3311715</span></li></ul></li><li><label class='ee-shut'>data_type: signed int16<input type='checkbox' class='ee-toggle'></label><ul><li><span class='ee-k'>type:</span><span class='ee-v'>PixelType</span></li><li><span class='ee-k'>max:</span><span class='ee-v'>32767</span></li><li><span class='ee-k'>min:</span><span class='ee-v'>-32768</span></li><li><span class='ee-k'>precision:</span><span class='ee-v'>int</span></li></ul></li><li><label class='ee-shut'>dimensions: [7721, 7841]<input type='checkbox' class='ee-toggle'></label><ul><li><span class='ee-k'>0:</span><span class='ee-v'>7721</span></li><li><span class='ee-k'>1:</span><span class='ee-v'>7841</span></li></ul></li></ul></li><li><label class='ee-shut'>16: \"ST_URAD\", signed int16, EPSG:32644, 7721x7841 px<input type='checkbox' class='ee-toggle'></label><ul><li><span class='ee-k'>id:</span><span class='ee-v'>ST_URAD</span></li><li><span class='ee-k'>crs:</span><span class='ee-v'>EPSG:32644</span></li><li><label class='ee-shut'>crs_transform: [30, 0, 232485, 0, -30, 3311715]<input type='checkbox' class='ee-toggle'></label><ul><li><span class='ee-k'>0:</span><span class='ee-v'>30</span></li><li><span class='ee-k'>1:</span><span class='ee-v'>0</span></li><li><span class='ee-k'>2:</span><span class='ee-v'>232485</span></li><li><span class='ee-k'>3:</span><span class='ee-v'>0</span></li><li><span class='ee-k'>4:</span><span class='ee-v'>-30</span></li><li><span class='ee-k'>5:</span><span class='ee-v'>3311715</span></li></ul></li><li><label class='ee-shut'>data_type: signed int16<input type='checkbox' class='ee-toggle'></label><ul><li><span class='ee-k'>type:</span><span class='ee-v'>PixelType</span></li><li><span class='ee-k'>max:</span><span class='ee-v'>32767</span></li><li><span class='ee-k'>min:</span><span class='ee-v'>-32768</span></li><li><span class='ee-k'>precision:</span><span class='ee-v'>int</span></li></ul></li><li><label class='ee-shut'>dimensions: [7721, 7841]<input type='checkbox' class='ee-toggle'></label><ul><li><span class='ee-k'>0:</span><span class='ee-v'>7721</span></li><li><span class='ee-k'>1:</span><span class='ee-v'>7841</span></li></ul></li></ul></li><li><label class='ee-shut'>17: \"QA_PIXEL\", unsigned int16, EPSG:32644, 7721x7841 px<input type='checkbox' class='ee-toggle'></label><ul><li><span class='ee-k'>id:</span><span class='ee-v'>QA_PIXEL</span></li><li><span class='ee-k'>crs:</span><span class='ee-v'>EPSG:32644</span></li><li><label class='ee-shut'>crs_transform: [30, 0, 232485, 0, -30, 3311715]<input type='checkbox' class='ee-toggle'></label><ul><li><span class='ee-k'>0:</span><span class='ee-v'>30</span></li><li><span class='ee-k'>1:</span><span class='ee-v'>0</span></li><li><span class='ee-k'>2:</span><span class='ee-v'>232485</span></li><li><span class='ee-k'>3:</span><span class='ee-v'>0</span></li><li><span class='ee-k'>4:</span><span class='ee-v'>-30</span></li><li><span class='ee-k'>5:</span><span class='ee-v'>3311715</span></li></ul></li><li><label class='ee-shut'>data_type: unsigned int16<input type='checkbox' class='ee-toggle'></label><ul><li><span class='ee-k'>type:</span><span class='ee-v'>PixelType</span></li><li><span class='ee-k'>max:</span><span class='ee-v'>65535</span></li><li><span class='ee-k'>min:</span><span class='ee-v'>0</span></li><li><span class='ee-k'>precision:</span><span class='ee-v'>int</span></li></ul></li><li><label class='ee-shut'>dimensions: [7721, 7841]<input type='checkbox' class='ee-toggle'></label><ul><li><span class='ee-k'>0:</span><span class='ee-v'>7721</span></li><li><span class='ee-k'>1:</span><span class='ee-v'>7841</span></li></ul></li></ul></li><li><label class='ee-shut'>18: \"QA_RADSAT\", unsigned int16, EPSG:32644, 7721x7841 px<input type='checkbox' class='ee-toggle'></label><ul><li><span class='ee-k'>id:</span><span class='ee-v'>QA_RADSAT</span></li><li><span class='ee-k'>crs:</span><span class='ee-v'>EPSG:32644</span></li><li><label class='ee-shut'>crs_transform: [30, 0, 232485, 0, -30, 3311715]<input type='checkbox' class='ee-toggle'></label><ul><li><span class='ee-k'>0:</span><span class='ee-v'>30</span></li><li><span class='ee-k'>1:</span><span class='ee-v'>0</span></li><li><span class='ee-k'>2:</span><span class='ee-v'>232485</span></li><li><span class='ee-k'>3:</span><span class='ee-v'>0</span></li><li><span class='ee-k'>4:</span><span class='ee-v'>-30</span></li><li><span class='ee-k'>5:</span><span class='ee-v'>3311715</span></li></ul></li><li><label class='ee-shut'>data_type: unsigned int16<input type='checkbox' class='ee-toggle'></label><ul><li><span class='ee-k'>type:</span><span class='ee-v'>PixelType</span></li><li><span class='ee-k'>max:</span><span class='ee-v'>65535</span></li><li><span class='ee-k'>min:</span><span class='ee-v'>0</span></li><li><span class='ee-k'>precision:</span><span class='ee-v'>int</span></li></ul></li><li><label class='ee-shut'>dimensions: [7721, 7841]<input type='checkbox' class='ee-toggle'></label><ul><li><span class='ee-k'>0:</span><span class='ee-v'>7721</span></li><li><span class='ee-k'>1:</span><span class='ee-v'>7841</span></li></ul></li></ul></li></ul></li><li><label class='ee-shut'>properties: Object (90 properties)<input type='checkbox' class='ee-toggle'></label><ul><li><span class='ee-k'>ALGORITHM_SOURCE_SURFACE_REFLECTANCE:</span><span class='ee-v'>LaSRC_1.5.0</span></li><li><span class='ee-k'>ALGORITHM_SOURCE_SURFACE_TEMPERATURE:</span><span class='ee-v'>st_1.3.0</span></li><li><span class='ee-k'>CLOUD_COVER:</span><span class='ee-v'>0.7</span></li><li><span class='ee-k'>CLOUD_COVER_LAND:</span><span class='ee-v'>0.7</span></li><li><span class='ee-k'>COLLECTION_CATEGORY:</span><span class='ee-v'>T1</span></li><li><span class='ee-k'>COLLECTION_NUMBER:</span><span class='ee-v'>2</span></li><li><span class='ee-k'>DATA_SOURCE_AIR_TEMPERATURE:</span><span class='ee-v'>MODIS</span></li><li><span class='ee-k'>DATA_SOURCE_ELEVATION:</span><span class='ee-v'>GLS2000</span></li><li><span class='ee-k'>DATA_SOURCE_OZONE:</span><span class='ee-v'>MODIS</span></li><li><span class='ee-k'>DATA_SOURCE_PRESSURE:</span><span class='ee-v'>Calculated</span></li><li><span class='ee-k'>DATA_SOURCE_REANALYSIS:</span><span class='ee-v'>GEOS-5 FP-IT</span></li><li><span class='ee-k'>DATA_SOURCE_WATER_VAPOR:</span><span class='ee-v'>MODIS</span></li><li><span class='ee-k'>DATE_ACQUIRED:</span><span class='ee-v'>2022-02-16</span></li><li><span class='ee-k'>DATE_PRODUCT_GENERATED:</span><span class='ee-v'>1682602984000</span></li><li><span class='ee-k'>DATUM:</span><span class='ee-v'>WGS84</span></li><li><span class='ee-k'>EARTH_SUN_DISTANCE:</span><span class='ee-v'>0.987834</span></li><li><span class='ee-k'>ELLIPSOID:</span><span class='ee-v'>WGS84</span></li><li><span class='ee-k'>GEOMETRIC_RMSE_MODEL:</span><span class='ee-v'>5.728</span></li><li><span class='ee-k'>GEOMETRIC_RMSE_MODEL_X:</span><span class='ee-v'>4.069</span></li><li><span class='ee-k'>GEOMETRIC_RMSE_MODEL_Y:</span><span class='ee-v'>4.032</span></li><li><span class='ee-k'>GEOMETRIC_RMSE_VERIFY:</span><span class='ee-v'>3.122</span></li><li><span class='ee-k'>GRID_CELL_SIZE_REFLECTIVE:</span><span class='ee-v'>30</span></li><li><span class='ee-k'>GRID_CELL_SIZE_THERMAL:</span><span class='ee-v'>30</span></li><li><span class='ee-k'>GROUND_CONTROL_POINTS_MODEL:</span><span class='ee-v'>473</span></li><li><span class='ee-k'>GROUND_CONTROL_POINTS_VERIFY:</span><span class='ee-v'>85</span></li><li><span class='ee-k'>GROUND_CONTROL_POINTS_VERSION:</span><span class='ee-v'>5</span></li><li><span class='ee-k'>IMAGE_QUALITY_OLI:</span><span class='ee-v'>9</span></li><li><span class='ee-k'>IMAGE_QUALITY_TIRS:</span><span class='ee-v'>9</span></li><li><span class='ee-k'>L1_DATE_PRODUCT_GENERATED:</span><span class='ee-v'>2023-04-27T13:08:32Z</span></li><li><span class='ee-k'>L1_LANDSAT_PRODUCT_ID:</span><span class='ee-v'>LC09_L1TP_145040_20220216_20230427_02_T1</span></li><li><span class='ee-k'>L1_PROCESSING_LEVEL:</span><span class='ee-v'>L1TP</span></li><li><span class='ee-k'>L1_PROCESSING_SOFTWARE_VERSION:</span><span class='ee-v'>LPGS_16.2.0</span></li><li><span class='ee-k'>L1_REQUEST_ID:</span><span class='ee-v'>1713827_00024</span></li><li><span class='ee-k'>LANDSAT_PRODUCT_ID:</span><span class='ee-v'>LC09_L2SP_145040_20220216_20230427_02_T1</span></li><li><span class='ee-k'>LANDSAT_SCENE_ID:</span><span class='ee-v'>LC91450402022047LGN01</span></li><li><span class='ee-k'>MAP_PROJECTION:</span><span class='ee-v'>UTM</span></li><li><span class='ee-k'>NADIR_OFFNADIR:</span><span class='ee-v'>NADIR</span></li><li><span class='ee-k'>ORIENTATION:</span><span class='ee-v'>NORTH_UP</span></li><li><span class='ee-k'>PROCESSING_LEVEL:</span><span class='ee-v'>L2SP</span></li><li><span class='ee-k'>PROCESSING_SOFTWARE_VERSION:</span><span class='ee-v'>LPGS_16.2.0</span></li><li><span class='ee-k'>REFLECTANCE_ADD_BAND_1:</span><span class='ee-v'>-0.2</span></li><li><span class='ee-k'>REFLECTANCE_ADD_BAND_2:</span><span class='ee-v'>-0.2</span></li><li><span class='ee-k'>REFLECTANCE_ADD_BAND_3:</span><span class='ee-v'>-0.2</span></li><li><span class='ee-k'>REFLECTANCE_ADD_BAND_4:</span><span class='ee-v'>-0.2</span></li><li><span class='ee-k'>REFLECTANCE_ADD_BAND_5:</span><span class='ee-v'>-0.2</span></li><li><span class='ee-k'>REFLECTANCE_ADD_BAND_6:</span><span class='ee-v'>-0.2</span></li><li><span class='ee-k'>REFLECTANCE_ADD_BAND_7:</span><span class='ee-v'>-0.2</span></li><li><span class='ee-k'>REFLECTANCE_MULT_BAND_1:</span><span class='ee-v'>2.75e-05</span></li><li><span class='ee-k'>REFLECTANCE_MULT_BAND_2:</span><span class='ee-v'>2.75e-05</span></li><li><span class='ee-k'>REFLECTANCE_MULT_BAND_3:</span><span class='ee-v'>2.75e-05</span></li><li><span class='ee-k'>REFLECTANCE_MULT_BAND_4:</span><span class='ee-v'>2.75e-05</span></li><li><span class='ee-k'>REFLECTANCE_MULT_BAND_5:</span><span class='ee-v'>2.75e-05</span></li><li><span class='ee-k'>REFLECTANCE_MULT_BAND_6:</span><span class='ee-v'>2.75e-05</span></li><li><span class='ee-k'>REFLECTANCE_MULT_BAND_7:</span><span class='ee-v'>2.75e-05</span></li><li><span class='ee-k'>REFLECTIVE_LINES:</span><span class='ee-v'>7841</span></li><li><span class='ee-k'>REFLECTIVE_SAMPLES:</span><span class='ee-v'>7721</span></li><li><span class='ee-k'>REQUEST_ID:</span><span class='ee-v'>1713827_00024</span></li><li><span class='ee-k'>ROLL_ANGLE:</span><span class='ee-v'>0</span></li><li><span class='ee-k'>SATURATION_BAND_1:</span><span class='ee-v'>N</span></li><li><span class='ee-k'>SATURATION_BAND_2:</span><span class='ee-v'>N</span></li><li><span class='ee-k'>SATURATION_BAND_3:</span><span class='ee-v'>N</span></li><li><span class='ee-k'>SATURATION_BAND_4:</span><span class='ee-v'>N</span></li><li><span class='ee-k'>SATURATION_BAND_5:</span><span class='ee-v'>N</span></li><li><span class='ee-k'>SATURATION_BAND_6:</span><span class='ee-v'>Y</span></li><li><span class='ee-k'>SATURATION_BAND_7:</span><span class='ee-v'>Y</span></li><li><span class='ee-k'>SATURATION_BAND_8:</span><span class='ee-v'>N</span></li><li><span class='ee-k'>SATURATION_BAND_9:</span><span class='ee-v'>N</span></li><li><span class='ee-k'>SCENE_CENTER_TIME:</span><span class='ee-v'>05:12:51.5591190Z</span></li><li><span class='ee-k'>SENSOR_ID:</span><span class='ee-v'>OLI_TIRS</span></li><li><span class='ee-k'>SPACECRAFT_ID:</span><span class='ee-v'>LANDSAT_9</span></li><li><span class='ee-k'>STATION_ID:</span><span class='ee-v'>LGN</span></li><li><span class='ee-k'>SUN_AZIMUTH:</span><span class='ee-v'>145.14669802</span></li><li><span class='ee-k'>SUN_ELEVATION:</span><span class='ee-v'>41.81100119</span></li><li><span class='ee-k'>TARGET_WRS_PATH:</span><span class='ee-v'>145</span></li><li><span class='ee-k'>TARGET_WRS_ROW:</span><span class='ee-v'>40</span></li><li><span class='ee-k'>TEMPERATURE_ADD_BAND_ST_B10:</span><span class='ee-v'>149</span></li><li><span class='ee-k'>TEMPERATURE_MAXIMUM_BAND_ST_B10:</span><span class='ee-v'>372.999941</span></li><li><span class='ee-k'>TEMPERATURE_MINIMUM_BAND_ST_B10:</span><span class='ee-v'>149.003418</span></li><li><span class='ee-k'>TEMPERATURE_MULT_BAND_ST_B10:</span><span class='ee-v'>0.00341802</span></li><li><span class='ee-k'>THERMAL_LINES:</span><span class='ee-v'>7841</span></li><li><span class='ee-k'>THERMAL_SAMPLES:</span><span class='ee-v'>7721</span></li><li><span class='ee-k'>UTM_ZONE:</span><span class='ee-v'>44</span></li><li><span class='ee-k'>WRS_PATH:</span><span class='ee-v'>145</span></li><li><span class='ee-k'>WRS_ROW:</span><span class='ee-v'>40</span></li><li><span class='ee-k'>WRS_TYPE:</span><span class='ee-v'>2</span></li><li><span class='ee-k'>system:asset_size:</span><span class='ee-v'>959231889</span></li><li><label class='ee-shut'>system:footprint: LinearRing (21 vertices)<input type='checkbox' class='ee-toggle'></label><ul><li><span class='ee-k'>type:</span><span class='ee-v'>LinearRing</span></li><li><label class='ee-shut'>coordinates: List (21 elements)<input type='checkbox' class='ee-toggle'></label><ul><li><label class='ee-shut'>0: [80.15074434211638, 27.81442741617665]<input type='checkbox' class='ee-toggle'></label><ul><li><span class='ee-k'>0:</span><span class='ee-v'>80.15074434211638</span></li><li><span class='ee-k'>1:</span><span class='ee-v'>27.81442741617665</span></li></ul></li><li><label class='ee-shut'>1: [80.1524269375504, 27.81443774524396]<input type='checkbox' class='ee-toggle'></label><ul><li><span class='ee-k'>0:</span><span class='ee-v'>80.1524269375504</span></li><li><span class='ee-k'>1:</span><span class='ee-v'>27.81443774524396</span></li></ul></li><li><label class='ee-shut'>2: [80.16677096673668, 27.86889396470336]<input type='checkbox' class='ee-toggle'></label><ul><li><span class='ee-k'>0:</span><span class='ee-v'>80.16677096673668</span></li><li><span class='ee-k'>1:</span><span class='ee-v'>27.86889396470336</span></li></ul></li><li><label class='ee-shut'>3: [80.36698084701655, 28.62775171962619]<input type='checkbox' class='ee-toggle'></label><ul><li><span class='ee-k'>0:</span><span class='ee-v'>80.36698084701655</span></li><li><span class='ee-k'>1:</span><span class='ee-v'>28.62775171962619</span></li></ul></li><li><label class='ee-shut'>4: [80.4221329762975, 28.83551216475895]<input type='checkbox' class='ee-toggle'></label><ul><li><span class='ee-k'>0:</span><span class='ee-v'>80.4221329762975</span></li><li><span class='ee-k'>1:</span><span class='ee-v'>28.83551216475895</span></li></ul></li><li><label class='ee-shut'>5: [80.44279786227852, 28.91356249602671]<input type='checkbox' class='ee-toggle'></label><ul><li><span class='ee-k'>0:</span><span class='ee-v'>80.44279786227852</span></li><li><span class='ee-k'>1:</span><span class='ee-v'>28.91356249602671</span></li></ul></li><li><label class='ee-shut'>6: [80.50033926882595, 29.13104989722987]<input type='checkbox' class='ee-toggle'></label><ul><li><span class='ee-k'>0:</span><span class='ee-v'>80.50033926882595</span></li><li><span class='ee-k'>1:</span><span class='ee-v'>29.13104989722987</span></li></ul></li><li><label class='ee-shut'>7: [80.60308012288074, 29.518315101743283]<input type='checkbox' class='ee-toggle'></label><ul><li><span class='ee-k'>0:</span><span class='ee-v'>80.60308012288074</span></li><li><span class='ee-k'>1:</span><span class='ee-v'>29.518315101743283</span></li></ul></li><li><label class='ee-shut'>8: [80.60915526534983, 29.542755601246526]<input type='checkbox' class='ee-toggle'></label><ul><li><span class='ee-k'>0:</span><span class='ee-v'>80.60915526534983</span></li><li><span class='ee-k'>1:</span><span class='ee-v'>29.542755601246526</span></li></ul></li><li><label class='ee-shut'>9: [80.52402540416995, 29.56007400137991]<input type='checkbox' class='ee-toggle'></label><ul><li><span class='ee-k'>0:</span><span class='ee-v'>80.52402540416995</span></li><li><span class='ee-k'>1:</span><span class='ee-v'>29.56007400137991</span></li></ul></li><li><label class='ee-shut'>10: [80.18840756582956, 29.62775725504288]<input type='checkbox' class='ee-toggle'></label><ul><li><span class='ee-k'>0:</span><span class='ee-v'>80.18840756582956</span></li><li><span class='ee-k'>1:</span><span class='ee-v'>29.62775725504288</span></li></ul></li><li><label class='ee-shut'>11: [79.75383183780704, 29.71399438614965]<input type='checkbox' class='ee-toggle'></label><ul><li><span class='ee-k'>0:</span><span class='ee-v'>79.75383183780704</span></li><li><span class='ee-k'>1:</span><span class='ee-v'>29.71399438614965</span></li></ul></li><li><label class='ee-shut'>12: [79.05129909372488, 29.85005436537443]<input type='checkbox' class='ee-toggle'></label><ul><li><span class='ee-k'>0:</span><span class='ee-v'>79.05129909372488</span></li><li><span class='ee-k'>1:</span><span class='ee-v'>29.85005436537443</span></li></ul></li><li><label class='ee-shut'>13: [78.72924418131973, 29.911042577285375]<input type='checkbox' class='ee-toggle'></label><ul><li><span class='ee-k'>0:</span><span class='ee-v'>78.72924418131973</span></li><li><span class='ee-k'>1:</span><span class='ee-v'>29.911042577285375</span></li></ul></li><li><label class='ee-shut'>14: [78.72697638004706, 29.904699857147307]<input type='checkbox' class='ee-toggle'></label><ul><li><span class='ee-k'>0:</span><span class='ee-v'>78.72697638004706</span></li><li><span class='ee-k'>1:</span><span class='ee-v'>29.904699857147307</span></li></ul></li><li><label class='ee-shut'>15: [78.61750885428908, 29.468727476547436]<input type='checkbox' class='ee-toggle'></label><ul><li><span class='ee-k'>0:</span><span class='ee-v'>78.61750885428908</span></li><li><span class='ee-k'>1:</span><span class='ee-v'>29.468727476547436</span></li></ul></li><li><label class='ee-shut'>16: [78.45329016080177, 28.806421750107333]<input type='checkbox' class='ee-toggle'></label><ul><li><span class='ee-k'>0:</span><span class='ee-v'>78.45329016080177</span></li><li><span class='ee-k'>1:</span><span class='ee-v'>28.806421750107333</span></li></ul></li><li><label class='ee-shut'>17: [78.30055682928145, 28.18385336930107]<input type='checkbox' class='ee-toggle'></label><ul><li><span class='ee-k'>0:</span><span class='ee-v'>78.30055682928145</span></li><li><span class='ee-k'>1:</span><span class='ee-v'>28.18385336930107</span></li></ul></li><li><label class='ee-shut'>18: [78.37561222752642, 28.169407010750724]<input type='checkbox' class='ee-toggle'></label><ul><li><span class='ee-k'>0:</span><span class='ee-v'>78.37561222752642</span></li><li><span class='ee-k'>1:</span><span class='ee-v'>28.169407010750724</span></li></ul></li><li><label class='ee-shut'>19: [80.08721384446693, 27.827569988358785]<input type='checkbox' class='ee-toggle'></label><ul><li><span class='ee-k'>0:</span><span class='ee-v'>80.08721384446693</span></li><li><span class='ee-k'>1:</span><span class='ee-v'>27.827569988358785</span></li></ul></li><li><label class='ee-shut'>20: [80.15074434211638, 27.81442741617665]<input type='checkbox' class='ee-toggle'></label><ul><li><span class='ee-k'>0:</span><span class='ee-v'>80.15074434211638</span></li><li><span class='ee-k'>1:</span><span class='ee-v'>27.81442741617665</span></li></ul></li></ul></li></ul></li><li><span class='ee-k'>system:index:</span><span class='ee-v'>LC09_145040_20220216</span></li><li><span class='ee-k'>system:time_end:</span><span class='ee-v'>1644988371559</span></li><li><span class='ee-k'>system:time_start:</span><span class='ee-v'>1644988371559</span></li></ul></li></ul></li></ul></div><script>function toggleHeader() {\n",
              "    const parent = this.parentElement;\n",
              "    parent.className = parent.className === \"ee-open\" ? \"ee-shut\" : \"ee-open\";\n",
              "}\n",
              "\n",
              "for (let c of document.getElementsByClassName(\"ee-toggle\")) {\n",
              "    c.onclick = toggleHeader;\n",
              "}</script></div>"
            ]
          },
          "metadata": {},
          "execution_count": 21
        }
      ]
    },
    {
      "cell_type": "code",
      "source": [
        "Map"
      ],
      "metadata": {
        "colab": {
          "base_uri": "https://localhost:8080/",
          "height": 574,
          "referenced_widgets": [
            "631567e3858441d7986ffda3df5d56eb",
            "aebf2f2fb05d4f6e822a7ed7531c4f3b",
            "5aa00727e2894e70bdf653550fa65138",
            "1db0a5c1302847b3a0fe070b5986d8da",
            "25387488c8394c418d6f46635cecfb18",
            "cceeb916ab5e44f5a828832d390ce2ee",
            "c7328d768d9e4fd592275aef74a6487a",
            "69628a4621be41e2a3d953dbd00ef2db",
            "c510c760187145d2b96e4328e1ded8c0",
            "057e13ff94e44a57a1bf79e45f9bd8ae",
            "0dd3e44dff3d411a8236c7f61a1d3fd7",
            "c48275d568f747f78d4ac1a82f93e7b4",
            "ced3a7f8067b442ea4917073e7101220",
            "fa1f289917f840c0a4af27374dc2c13f",
            "68f81e8455994078b6c8d482adc437ee",
            "41d1abcb86ee4ff99567f19fee4feff1",
            "2c0e2d4534674e75bb0d865cc2c0d5a3",
            "552f89a6f4734f82ad7431dcb503503d",
            "60c346c6179140f0835cd222542b90ce",
            "43839462898c4094b5bc10a75ebe447a",
            "68d2bf434f3c4aad8b7ada9d6a81d107",
            "b09dca9daa2d49fca5655d6b3f96b48f",
            "f07a6417737b4cfe9025bbdccba8ae7b",
            "168bfcd6aba0489da4cba2d183d63429",
            "30b5fe104ac143f1b5efb8a19886b2d9"
          ]
        },
        "id": "ezJxYj82g48S",
        "outputId": "e345d520-fde9-4aaa-e15e-b7621dcbd982"
      },
      "execution_count": 22,
      "outputs": [
        {
          "output_type": "display_data",
          "data": {
            "text/plain": [
              "<IPython.core.display.HTML object>"
            ],
            "text/html": [
              "\n",
              "            <style>\n",
              "                .geemap-dark {\n",
              "                    --jp-widgets-color: white;\n",
              "                    --jp-widgets-label-color: white;\n",
              "                    --jp-ui-font-color1: white;\n",
              "                    --jp-layout-color2: #454545;\n",
              "                    background-color: #383838;\n",
              "                }\n",
              "                    \n",
              "                .geemap-dark .jupyter-button {\n",
              "                    --jp-layout-color3: #383838;\n",
              "                }\n",
              "                \n",
              "                .geemap-colab {\n",
              "                    background-color: var(--colab-primary-surface-color, white);\n",
              "                }\n",
              "                    \n",
              "                .geemap-colab .jupyter-button {\n",
              "                    --jp-layout-color3: var(--colab-primary-surface-color, white);\n",
              "                }\n",
              "            </style>\n",
              "            "
            ]
          },
          "metadata": {}
        },
        {
          "output_type": "display_data",
          "data": {
            "text/plain": [
              "Map(bottom=27542.0, center=[28.86601534665936, 79.44860635753558], controls=(WidgetControl(options=['position'…"
            ],
            "application/vnd.jupyter.widget-view+json": {
              "version_major": 2,
              "version_minor": 0,
              "model_id": "631567e3858441d7986ffda3df5d56eb"
            }
          },
          "metadata": {
            "application/vnd.jupyter.widget-view+json": {
              "colab": {
                "custom_widget_manager": {
                  "url": "https://ssl.gstatic.com/colaboratory-static/widgets/colab-cdn-widget-manager/b3e629b1971e1542/manager.min.js"
                }
              }
            }
          }
        }
      ]
    },
    {
      "cell_type": "markdown",
      "source": [
        "## Store the Meadata of the ImageCollection"
      ],
      "metadata": {
        "id": "MrMhh5t_SVA4"
      }
    },
    {
      "cell_type": "code",
      "source": [
        "# Store the Metadata properties name as a list\n",
        "Image_property_names = l9FilteredImage.propertyNames()\n",
        "Image_property_names"
      ],
      "metadata": {
        "colab": {
          "base_uri": "https://localhost:8080/",
          "height": 68
        },
        "id": "0TRDBmwGYsn1",
        "outputId": "eb81275e-9b93-4fc4-ee51-1382c51560b1"
      },
      "execution_count": 23,
      "outputs": [
        {
          "output_type": "display_data",
          "data": {
            "text/plain": [
              "<IPython.core.display.HTML object>"
            ],
            "text/html": [
              "\n",
              "            <style>\n",
              "                .geemap-dark {\n",
              "                    --jp-widgets-color: white;\n",
              "                    --jp-widgets-label-color: white;\n",
              "                    --jp-ui-font-color1: white;\n",
              "                    --jp-layout-color2: #454545;\n",
              "                    background-color: #383838;\n",
              "                }\n",
              "                    \n",
              "                .geemap-dark .jupyter-button {\n",
              "                    --jp-layout-color3: #383838;\n",
              "                }\n",
              "                \n",
              "                .geemap-colab {\n",
              "                    background-color: var(--colab-primary-surface-color, white);\n",
              "                }\n",
              "                    \n",
              "                .geemap-colab .jupyter-button {\n",
              "                    --jp-layout-color3: var(--colab-primary-surface-color, white);\n",
              "                }\n",
              "            </style>\n",
              "            "
            ]
          },
          "metadata": {}
        },
        {
          "output_type": "execute_result",
          "data": {
            "text/plain": [
              "<ee.ee_list.List at 0x7ca8e030ae90>"
            ],
            "text/html": [
              "<div><style>:root {\n",
              "  --font-color-primary: var(--jp-content-font-color0, rgba(0, 0, 0, 1));\n",
              "  --font-color-secondary: var(--jp-content-font-color2, rgba(0, 0, 0, 0.6));\n",
              "  --font-color-accent: rgba(123, 31, 162, 1);\n",
              "  --border-color: var(--jp-border-color2, #e0e0e0);\n",
              "  --background-color: var(--jp-layout-color0, white);\n",
              "  --background-color-row-even: var(--jp-layout-color1, white);\n",
              "  --background-color-row-odd: var(--jp-layout-color2, #eeeeee);\n",
              "}\n",
              "\n",
              "html[theme=\"dark\"],\n",
              "body[data-theme=\"dark\"],\n",
              "body.vscode-dark {\n",
              "  --font-color-primary: rgba(255, 255, 255, 1);\n",
              "  --font-color-secondary: rgba(255, 255, 255, 0.6);\n",
              "  --font-color-accent: rgb(173, 132, 190);\n",
              "  --border-color: #2e2e2e;\n",
              "  --background-color: #111111;\n",
              "  --background-color-row-even: #111111;\n",
              "  --background-color-row-odd: #313131;\n",
              "}\n",
              "\n",
              ".ee {\n",
              "  padding: 1em;\n",
              "  line-height: 1.5em;\n",
              "  min-width: 300px;\n",
              "  max-width: 1200px;\n",
              "  overflow-y: scroll;\n",
              "  max-height: 600px;\n",
              "  border: 1px solid var(--border-color);\n",
              "  font-family: monospace;\n",
              "}\n",
              "\n",
              ".ee li {\n",
              "  list-style-type: none;\n",
              "}\n",
              "\n",
              ".ee ul {\n",
              "  padding-left: 1.5em !important;\n",
              "  margin: 0;\n",
              "}\n",
              "\n",
              ".ee > ul {\n",
              "  padding-left: 0 !important;\n",
              "}\n",
              "\n",
              ".ee-open,\n",
              ".ee-shut {\n",
              "  color: var(--font-color-secondary);\n",
              "  cursor: pointer;\n",
              "  margin: 0;\n",
              "}\n",
              "\n",
              ".ee-open:hover,\n",
              ".ee-shut:hover {\n",
              "  color: var(--font-color-primary);\n",
              "}\n",
              "\n",
              ".ee-k {\n",
              "  color: var(--font-color-accent);\n",
              "  margin-right: 6px;\n",
              "}\n",
              "\n",
              ".ee-v {\n",
              "  color: var(--font-color-primary);\n",
              "}\n",
              "\n",
              ".ee-toggle {\n",
              "  display: none;\n",
              "}\n",
              "\n",
              ".ee-shut + ul {\n",
              "  display: none;\n",
              "}\n",
              "\n",
              ".ee-open + ul {\n",
              "  display: block;\n",
              "}\n",
              "\n",
              ".ee-shut::before {\n",
              "  display: inline-block;\n",
              "  content: \"▼\";\n",
              "  margin-right: 6px;\n",
              "  transform: rotate(-90deg);\n",
              "  transition: transform 0.2s;\n",
              "}\n",
              "\n",
              ".ee-open::before {\n",
              "  transform: rotate(0deg);\n",
              "  display: inline-block;\n",
              "  content: \"▼\";\n",
              "  margin-right: 6px;\n",
              "  transition: transform 0.2s;\n",
              "}\n",
              "</style><div class='ee'><ul><li><label class='ee-shut'>List (94 elements)<input type='checkbox' class='ee-toggle'></label><ul><li><span class='ee-k'>0:</span><span class='ee-v'>DATA_SOURCE_ELEVATION</span></li><li><span class='ee-k'>1:</span><span class='ee-v'>WRS_TYPE</span></li><li><span class='ee-k'>2:</span><span class='ee-v'>system:id</span></li><li><span class='ee-k'>3:</span><span class='ee-v'>REFLECTANCE_ADD_BAND_1</span></li><li><span class='ee-k'>4:</span><span class='ee-v'>REFLECTANCE_ADD_BAND_2</span></li><li><span class='ee-k'>5:</span><span class='ee-v'>DATUM</span></li><li><span class='ee-k'>6:</span><span class='ee-v'>REFLECTANCE_ADD_BAND_3</span></li><li><span class='ee-k'>7:</span><span class='ee-v'>REFLECTANCE_ADD_BAND_4</span></li><li><span class='ee-k'>8:</span><span class='ee-v'>REFLECTANCE_ADD_BAND_5</span></li><li><span class='ee-k'>9:</span><span class='ee-v'>REFLECTANCE_ADD_BAND_6</span></li><li><span class='ee-k'>10:</span><span class='ee-v'>REFLECTANCE_ADD_BAND_7</span></li><li><span class='ee-k'>11:</span><span class='ee-v'>system:footprint</span></li><li><span class='ee-k'>12:</span><span class='ee-v'>REFLECTIVE_SAMPLES</span></li><li><span class='ee-k'>13:</span><span class='ee-v'>system:version</span></li><li><span class='ee-k'>14:</span><span class='ee-v'>GROUND_CONTROL_POINTS_VERSION</span></li><li><span class='ee-k'>15:</span><span class='ee-v'>SUN_AZIMUTH</span></li><li><span class='ee-k'>16:</span><span class='ee-v'>UTM_ZONE</span></li><li><span class='ee-k'>17:</span><span class='ee-v'>DATE_ACQUIRED</span></li><li><span class='ee-k'>18:</span><span class='ee-v'>ELLIPSOID</span></li><li><span class='ee-k'>19:</span><span class='ee-v'>system:time_end</span></li><li><span class='ee-k'>20:</span><span class='ee-v'>DATA_SOURCE_PRESSURE</span></li><li><span class='ee-k'>21:</span><span class='ee-v'>LANDSAT_PRODUCT_ID</span></li><li><span class='ee-k'>22:</span><span class='ee-v'>STATION_ID</span></li><li><span class='ee-k'>23:</span><span class='ee-v'>TEMPERATURE_ADD_BAND_ST_B10</span></li><li><span class='ee-k'>24:</span><span class='ee-v'>DATA_SOURCE_REANALYSIS</span></li><li><span class='ee-k'>25:</span><span class='ee-v'>REFLECTANCE_MULT_BAND_7</span></li><li><span class='ee-k'>26:</span><span class='ee-v'>system:time_start</span></li><li><span class='ee-k'>27:</span><span class='ee-v'>REFLECTANCE_MULT_BAND_6</span></li><li><span class='ee-k'>28:</span><span class='ee-v'>L1_PROCESSING_LEVEL</span></li><li><span class='ee-k'>29:</span><span class='ee-v'>PROCESSING_SOFTWARE_VERSION</span></li><li><span class='ee-k'>30:</span><span class='ee-v'>L1_DATE_PRODUCT_GENERATED</span></li><li><span class='ee-k'>31:</span><span class='ee-v'>ORIENTATION</span></li><li><span class='ee-k'>32:</span><span class='ee-v'>REFLECTANCE_MULT_BAND_1</span></li><li><span class='ee-k'>33:</span><span class='ee-v'>WRS_ROW</span></li><li><span class='ee-k'>34:</span><span class='ee-v'>REFLECTANCE_MULT_BAND_3</span></li><li><span class='ee-k'>35:</span><span class='ee-v'>REFLECTANCE_MULT_BAND_2</span></li><li><span class='ee-k'>36:</span><span class='ee-v'>TARGET_WRS_ROW</span></li><li><span class='ee-k'>37:</span><span class='ee-v'>REFLECTANCE_MULT_BAND_5</span></li><li><span class='ee-k'>38:</span><span class='ee-v'>REFLECTANCE_MULT_BAND_4</span></li><li><span class='ee-k'>39:</span><span class='ee-v'>THERMAL_LINES</span></li><li><span class='ee-k'>40:</span><span class='ee-v'>GRID_CELL_SIZE_THERMAL</span></li><li><span class='ee-k'>41:</span><span class='ee-v'>IMAGE_QUALITY_TIRS</span></li><li><span class='ee-k'>42:</span><span class='ee-v'>NADIR_OFFNADIR</span></li><li><span class='ee-k'>43:</span><span class='ee-v'>CLOUD_COVER</span></li><li><span class='ee-k'>44:</span><span class='ee-v'>REQUEST_ID</span></li><li><span class='ee-k'>45:</span><span class='ee-v'>EARTH_SUN_DISTANCE</span></li><li><span class='ee-k'>46:</span><span class='ee-v'>GEOMETRIC_RMSE_VERIFY</span></li><li><span class='ee-k'>47:</span><span class='ee-v'>COLLECTION_CATEGORY</span></li><li><span class='ee-k'>48:</span><span class='ee-v'>SCENE_CENTER_TIME</span></li><li><span class='ee-k'>49:</span><span class='ee-v'>GRID_CELL_SIZE_REFLECTIVE</span></li><li><span class='ee-k'>50:</span><span class='ee-v'>SUN_ELEVATION</span></li><li><span class='ee-k'>51:</span><span class='ee-v'>ALGORITHM_SOURCE_SURFACE_TEMPERATURE</span></li><li><span class='ee-k'>52:</span><span class='ee-v'>TEMPERATURE_MAXIMUM_BAND_ST_B10</span></li><li><span class='ee-k'>53:</span><span class='ee-v'>CLOUD_COVER_LAND</span></li><li><span class='ee-k'>54:</span><span class='ee-v'>GEOMETRIC_RMSE_MODEL</span></li><li><span class='ee-k'>55:</span><span class='ee-v'>ROLL_ANGLE</span></li><li><span class='ee-k'>56:</span><span class='ee-v'>COLLECTION_NUMBER</span></li><li><span class='ee-k'>57:</span><span class='ee-v'>DATE_PRODUCT_GENERATED</span></li><li><span class='ee-k'>58:</span><span class='ee-v'>L1_REQUEST_ID</span></li><li><span class='ee-k'>59:</span><span class='ee-v'>DATA_SOURCE_OZONE</span></li><li><span class='ee-k'>60:</span><span class='ee-v'>SATURATION_BAND_1</span></li><li><span class='ee-k'>61:</span><span class='ee-v'>DATA_SOURCE_WATER_VAPOR</span></li><li><span class='ee-k'>62:</span><span class='ee-v'>SATURATION_BAND_2</span></li><li><span class='ee-k'>63:</span><span class='ee-v'>SATURATION_BAND_3</span></li><li><span class='ee-k'>64:</span><span class='ee-v'>IMAGE_QUALITY_OLI</span></li><li><span class='ee-k'>65:</span><span class='ee-v'>SATURATION_BAND_4</span></li><li><span class='ee-k'>66:</span><span class='ee-v'>LANDSAT_SCENE_ID</span></li><li><span class='ee-k'>67:</span><span class='ee-v'>SATURATION_BAND_5</span></li><li><span class='ee-k'>68:</span><span class='ee-v'>MAP_PROJECTION</span></li><li><span class='ee-k'>69:</span><span class='ee-v'>SATURATION_BAND_6</span></li><li><span class='ee-k'>70:</span><span class='ee-v'>SENSOR_ID</span></li><li><span class='ee-k'>71:</span><span class='ee-v'>SATURATION_BAND_7</span></li><li><span class='ee-k'>72:</span><span class='ee-v'>SATURATION_BAND_8</span></li><li><span class='ee-k'>73:</span><span class='ee-v'>WRS_PATH</span></li><li><span class='ee-k'>74:</span><span class='ee-v'>L1_PROCESSING_SOFTWARE_VERSION</span></li><li><span class='ee-k'>75:</span><span class='ee-v'>SATURATION_BAND_9</span></li><li><span class='ee-k'>76:</span><span class='ee-v'>TARGET_WRS_PATH</span></li><li><span class='ee-k'>77:</span><span class='ee-v'>L1_LANDSAT_PRODUCT_ID</span></li><li><span class='ee-k'>78:</span><span class='ee-v'>TEMPERATURE_MULT_BAND_ST_B10</span></li><li><span class='ee-k'>79:</span><span class='ee-v'>PROCESSING_LEVEL</span></li><li><span class='ee-k'>80:</span><span class='ee-v'>ALGORITHM_SOURCE_SURFACE_REFLECTANCE</span></li><li><span class='ee-k'>81:</span><span class='ee-v'>GROUND_CONTROL_POINTS_MODEL</span></li><li><span class='ee-k'>82:</span><span class='ee-v'>SPACECRAFT_ID</span></li><li><span class='ee-k'>83:</span><span class='ee-v'>TEMPERATURE_MINIMUM_BAND_ST_B10</span></li><li><span class='ee-k'>84:</span><span class='ee-v'>GEOMETRIC_RMSE_MODEL_Y</span></li><li><span class='ee-k'>85:</span><span class='ee-v'>REFLECTIVE_LINES</span></li><li><span class='ee-k'>86:</span><span class='ee-v'>GEOMETRIC_RMSE_MODEL_X</span></li><li><span class='ee-k'>87:</span><span class='ee-v'>THERMAL_SAMPLES</span></li><li><span class='ee-k'>88:</span><span class='ee-v'>system:asset_size</span></li><li><span class='ee-k'>89:</span><span class='ee-v'>DATA_SOURCE_AIR_TEMPERATURE</span></li><li><span class='ee-k'>90:</span><span class='ee-v'>GROUND_CONTROL_POINTS_VERIFY</span></li><li><span class='ee-k'>91:</span><span class='ee-v'>system:index</span></li><li><span class='ee-k'>92:</span><span class='ee-v'>system:bands</span></li><li><span class='ee-k'>93:</span><span class='ee-v'>system:band_names</span></li></ul></li></ul></div><script>function toggleHeader() {\n",
              "    const parent = this.parentElement;\n",
              "    parent.className = parent.className === \"ee-open\" ? \"ee-shut\" : \"ee-open\";\n",
              "}\n",
              "\n",
              "for (let c of document.getElementsByClassName(\"ee-toggle\")) {\n",
              "    c.onclick = toggleHeader;\n",
              "}</script></div>"
            ]
          },
          "metadata": {},
          "execution_count": 23
        }
      ]
    },
    {
      "cell_type": "code",
      "source": [
        "type(Image_property_names)"
      ],
      "metadata": {
        "colab": {
          "base_uri": "https://localhost:8080/",
          "height": 34
        },
        "id": "7EoAjxC_m_dK",
        "outputId": "fd6b7d7a-87dc-49bd-92fb-d4468ff00cb3"
      },
      "execution_count": 24,
      "outputs": [
        {
          "output_type": "display_data",
          "data": {
            "text/plain": [
              "<IPython.core.display.HTML object>"
            ],
            "text/html": [
              "\n",
              "            <style>\n",
              "                .geemap-dark {\n",
              "                    --jp-widgets-color: white;\n",
              "                    --jp-widgets-label-color: white;\n",
              "                    --jp-ui-font-color1: white;\n",
              "                    --jp-layout-color2: #454545;\n",
              "                    background-color: #383838;\n",
              "                }\n",
              "                    \n",
              "                .geemap-dark .jupyter-button {\n",
              "                    --jp-layout-color3: #383838;\n",
              "                }\n",
              "                \n",
              "                .geemap-colab {\n",
              "                    background-color: var(--colab-primary-surface-color, white);\n",
              "                }\n",
              "                    \n",
              "                .geemap-colab .jupyter-button {\n",
              "                    --jp-layout-color3: var(--colab-primary-surface-color, white);\n",
              "                }\n",
              "            </style>\n",
              "            "
            ]
          },
          "metadata": {}
        },
        {
          "output_type": "execute_result",
          "data": {
            "text/plain": [
              "ee.ee_list.List"
            ]
          },
          "metadata": {},
          "execution_count": 24
        }
      ]
    },
    {
      "cell_type": "code",
      "source": [
        "# Print the metadata properties information\n",
        "image_property = l9FilteredImage.toDictionary(Image_property_names)\n",
        "image_property"
      ],
      "metadata": {
        "id": "UErruY-rYswN",
        "colab": {
          "base_uri": "https://localhost:8080/",
          "height": 68
        },
        "outputId": "b4aa9c51-8cca-4fea-ea53-919ab322e71d"
      },
      "execution_count": 25,
      "outputs": [
        {
          "output_type": "display_data",
          "data": {
            "text/plain": [
              "<IPython.core.display.HTML object>"
            ],
            "text/html": [
              "\n",
              "            <style>\n",
              "                .geemap-dark {\n",
              "                    --jp-widgets-color: white;\n",
              "                    --jp-widgets-label-color: white;\n",
              "                    --jp-ui-font-color1: white;\n",
              "                    --jp-layout-color2: #454545;\n",
              "                    background-color: #383838;\n",
              "                }\n",
              "                    \n",
              "                .geemap-dark .jupyter-button {\n",
              "                    --jp-layout-color3: #383838;\n",
              "                }\n",
              "                \n",
              "                .geemap-colab {\n",
              "                    background-color: var(--colab-primary-surface-color, white);\n",
              "                }\n",
              "                    \n",
              "                .geemap-colab .jupyter-button {\n",
              "                    --jp-layout-color3: var(--colab-primary-surface-color, white);\n",
              "                }\n",
              "            </style>\n",
              "            "
            ]
          },
          "metadata": {}
        },
        {
          "output_type": "execute_result",
          "data": {
            "text/plain": [
              "<ee.dictionary.Dictionary at 0x7ca8e044eb90>"
            ],
            "text/html": [
              "<div><style>:root {\n",
              "  --font-color-primary: var(--jp-content-font-color0, rgba(0, 0, 0, 1));\n",
              "  --font-color-secondary: var(--jp-content-font-color2, rgba(0, 0, 0, 0.6));\n",
              "  --font-color-accent: rgba(123, 31, 162, 1);\n",
              "  --border-color: var(--jp-border-color2, #e0e0e0);\n",
              "  --background-color: var(--jp-layout-color0, white);\n",
              "  --background-color-row-even: var(--jp-layout-color1, white);\n",
              "  --background-color-row-odd: var(--jp-layout-color2, #eeeeee);\n",
              "}\n",
              "\n",
              "html[theme=\"dark\"],\n",
              "body[data-theme=\"dark\"],\n",
              "body.vscode-dark {\n",
              "  --font-color-primary: rgba(255, 255, 255, 1);\n",
              "  --font-color-secondary: rgba(255, 255, 255, 0.6);\n",
              "  --font-color-accent: rgb(173, 132, 190);\n",
              "  --border-color: #2e2e2e;\n",
              "  --background-color: #111111;\n",
              "  --background-color-row-even: #111111;\n",
              "  --background-color-row-odd: #313131;\n",
              "}\n",
              "\n",
              ".ee {\n",
              "  padding: 1em;\n",
              "  line-height: 1.5em;\n",
              "  min-width: 300px;\n",
              "  max-width: 1200px;\n",
              "  overflow-y: scroll;\n",
              "  max-height: 600px;\n",
              "  border: 1px solid var(--border-color);\n",
              "  font-family: monospace;\n",
              "}\n",
              "\n",
              ".ee li {\n",
              "  list-style-type: none;\n",
              "}\n",
              "\n",
              ".ee ul {\n",
              "  padding-left: 1.5em !important;\n",
              "  margin: 0;\n",
              "}\n",
              "\n",
              ".ee > ul {\n",
              "  padding-left: 0 !important;\n",
              "}\n",
              "\n",
              ".ee-open,\n",
              ".ee-shut {\n",
              "  color: var(--font-color-secondary);\n",
              "  cursor: pointer;\n",
              "  margin: 0;\n",
              "}\n",
              "\n",
              ".ee-open:hover,\n",
              ".ee-shut:hover {\n",
              "  color: var(--font-color-primary);\n",
              "}\n",
              "\n",
              ".ee-k {\n",
              "  color: var(--font-color-accent);\n",
              "  margin-right: 6px;\n",
              "}\n",
              "\n",
              ".ee-v {\n",
              "  color: var(--font-color-primary);\n",
              "}\n",
              "\n",
              ".ee-toggle {\n",
              "  display: none;\n",
              "}\n",
              "\n",
              ".ee-shut + ul {\n",
              "  display: none;\n",
              "}\n",
              "\n",
              ".ee-open + ul {\n",
              "  display: block;\n",
              "}\n",
              "\n",
              ".ee-shut::before {\n",
              "  display: inline-block;\n",
              "  content: \"▼\";\n",
              "  margin-right: 6px;\n",
              "  transform: rotate(-90deg);\n",
              "  transition: transform 0.2s;\n",
              "}\n",
              "\n",
              ".ee-open::before {\n",
              "  transform: rotate(0deg);\n",
              "  display: inline-block;\n",
              "  content: \"▼\";\n",
              "  margin-right: 6px;\n",
              "  transition: transform 0.2s;\n",
              "}\n",
              "</style><div class='ee'><ul><li><label class='ee-shut'>Object (92 properties)<input type='checkbox' class='ee-toggle'></label><ul><li><span class='ee-k'>ALGORITHM_SOURCE_SURFACE_REFLECTANCE:</span><span class='ee-v'>LaSRC_1.5.0</span></li><li><span class='ee-k'>ALGORITHM_SOURCE_SURFACE_TEMPERATURE:</span><span class='ee-v'>st_1.3.0</span></li><li><span class='ee-k'>CLOUD_COVER:</span><span class='ee-v'>0.7</span></li><li><span class='ee-k'>CLOUD_COVER_LAND:</span><span class='ee-v'>0.7</span></li><li><span class='ee-k'>COLLECTION_CATEGORY:</span><span class='ee-v'>T1</span></li><li><span class='ee-k'>COLLECTION_NUMBER:</span><span class='ee-v'>2</span></li><li><span class='ee-k'>DATA_SOURCE_AIR_TEMPERATURE:</span><span class='ee-v'>MODIS</span></li><li><span class='ee-k'>DATA_SOURCE_ELEVATION:</span><span class='ee-v'>GLS2000</span></li><li><span class='ee-k'>DATA_SOURCE_OZONE:</span><span class='ee-v'>MODIS</span></li><li><span class='ee-k'>DATA_SOURCE_PRESSURE:</span><span class='ee-v'>Calculated</span></li><li><span class='ee-k'>DATA_SOURCE_REANALYSIS:</span><span class='ee-v'>GEOS-5 FP-IT</span></li><li><span class='ee-k'>DATA_SOURCE_WATER_VAPOR:</span><span class='ee-v'>MODIS</span></li><li><span class='ee-k'>DATE_ACQUIRED:</span><span class='ee-v'>2022-02-16</span></li><li><span class='ee-k'>DATE_PRODUCT_GENERATED:</span><span class='ee-v'>1682602984000</span></li><li><span class='ee-k'>DATUM:</span><span class='ee-v'>WGS84</span></li><li><span class='ee-k'>EARTH_SUN_DISTANCE:</span><span class='ee-v'>0.987834</span></li><li><span class='ee-k'>ELLIPSOID:</span><span class='ee-v'>WGS84</span></li><li><span class='ee-k'>GEOMETRIC_RMSE_MODEL:</span><span class='ee-v'>5.728</span></li><li><span class='ee-k'>GEOMETRIC_RMSE_MODEL_X:</span><span class='ee-v'>4.069</span></li><li><span class='ee-k'>GEOMETRIC_RMSE_MODEL_Y:</span><span class='ee-v'>4.032</span></li><li><span class='ee-k'>GEOMETRIC_RMSE_VERIFY:</span><span class='ee-v'>3.122</span></li><li><span class='ee-k'>GRID_CELL_SIZE_REFLECTIVE:</span><span class='ee-v'>30</span></li><li><span class='ee-k'>GRID_CELL_SIZE_THERMAL:</span><span class='ee-v'>30</span></li><li><span class='ee-k'>GROUND_CONTROL_POINTS_MODEL:</span><span class='ee-v'>473</span></li><li><span class='ee-k'>GROUND_CONTROL_POINTS_VERIFY:</span><span class='ee-v'>85</span></li><li><span class='ee-k'>GROUND_CONTROL_POINTS_VERSION:</span><span class='ee-v'>5</span></li><li><span class='ee-k'>IMAGE_QUALITY_OLI:</span><span class='ee-v'>9</span></li><li><span class='ee-k'>IMAGE_QUALITY_TIRS:</span><span class='ee-v'>9</span></li><li><span class='ee-k'>L1_DATE_PRODUCT_GENERATED:</span><span class='ee-v'>2023-04-27T13:08:32Z</span></li><li><span class='ee-k'>L1_LANDSAT_PRODUCT_ID:</span><span class='ee-v'>LC09_L1TP_145040_20220216_20230427_02_T1</span></li><li><span class='ee-k'>L1_PROCESSING_LEVEL:</span><span class='ee-v'>L1TP</span></li><li><span class='ee-k'>L1_PROCESSING_SOFTWARE_VERSION:</span><span class='ee-v'>LPGS_16.2.0</span></li><li><span class='ee-k'>L1_REQUEST_ID:</span><span class='ee-v'>1713827_00024</span></li><li><span class='ee-k'>LANDSAT_PRODUCT_ID:</span><span class='ee-v'>LC09_L2SP_145040_20220216_20230427_02_T1</span></li><li><span class='ee-k'>LANDSAT_SCENE_ID:</span><span class='ee-v'>LC91450402022047LGN01</span></li><li><span class='ee-k'>MAP_PROJECTION:</span><span class='ee-v'>UTM</span></li><li><span class='ee-k'>NADIR_OFFNADIR:</span><span class='ee-v'>NADIR</span></li><li><span class='ee-k'>ORIENTATION:</span><span class='ee-v'>NORTH_UP</span></li><li><span class='ee-k'>PROCESSING_LEVEL:</span><span class='ee-v'>L2SP</span></li><li><span class='ee-k'>PROCESSING_SOFTWARE_VERSION:</span><span class='ee-v'>LPGS_16.2.0</span></li><li><span class='ee-k'>REFLECTANCE_ADD_BAND_1:</span><span class='ee-v'>-0.2</span></li><li><span class='ee-k'>REFLECTANCE_ADD_BAND_2:</span><span class='ee-v'>-0.2</span></li><li><span class='ee-k'>REFLECTANCE_ADD_BAND_3:</span><span class='ee-v'>-0.2</span></li><li><span class='ee-k'>REFLECTANCE_ADD_BAND_4:</span><span class='ee-v'>-0.2</span></li><li><span class='ee-k'>REFLECTANCE_ADD_BAND_5:</span><span class='ee-v'>-0.2</span></li><li><span class='ee-k'>REFLECTANCE_ADD_BAND_6:</span><span class='ee-v'>-0.2</span></li><li><span class='ee-k'>REFLECTANCE_ADD_BAND_7:</span><span class='ee-v'>-0.2</span></li><li><span class='ee-k'>REFLECTANCE_MULT_BAND_1:</span><span class='ee-v'>2.75e-05</span></li><li><span class='ee-k'>REFLECTANCE_MULT_BAND_2:</span><span class='ee-v'>2.75e-05</span></li><li><span class='ee-k'>REFLECTANCE_MULT_BAND_3:</span><span class='ee-v'>2.75e-05</span></li><li><span class='ee-k'>REFLECTANCE_MULT_BAND_4:</span><span class='ee-v'>2.75e-05</span></li><li><span class='ee-k'>REFLECTANCE_MULT_BAND_5:</span><span class='ee-v'>2.75e-05</span></li><li><span class='ee-k'>REFLECTANCE_MULT_BAND_6:</span><span class='ee-v'>2.75e-05</span></li><li><span class='ee-k'>REFLECTANCE_MULT_BAND_7:</span><span class='ee-v'>2.75e-05</span></li><li><span class='ee-k'>REFLECTIVE_LINES:</span><span class='ee-v'>7841</span></li><li><span class='ee-k'>REFLECTIVE_SAMPLES:</span><span class='ee-v'>7721</span></li><li><span class='ee-k'>REQUEST_ID:</span><span class='ee-v'>1713827_00024</span></li><li><span class='ee-k'>ROLL_ANGLE:</span><span class='ee-v'>0</span></li><li><span class='ee-k'>SATURATION_BAND_1:</span><span class='ee-v'>N</span></li><li><span class='ee-k'>SATURATION_BAND_2:</span><span class='ee-v'>N</span></li><li><span class='ee-k'>SATURATION_BAND_3:</span><span class='ee-v'>N</span></li><li><span class='ee-k'>SATURATION_BAND_4:</span><span class='ee-v'>N</span></li><li><span class='ee-k'>SATURATION_BAND_5:</span><span class='ee-v'>N</span></li><li><span class='ee-k'>SATURATION_BAND_6:</span><span class='ee-v'>Y</span></li><li><span class='ee-k'>SATURATION_BAND_7:</span><span class='ee-v'>Y</span></li><li><span class='ee-k'>SATURATION_BAND_8:</span><span class='ee-v'>N</span></li><li><span class='ee-k'>SATURATION_BAND_9:</span><span class='ee-v'>N</span></li><li><span class='ee-k'>SCENE_CENTER_TIME:</span><span class='ee-v'>05:12:51.5591190Z</span></li><li><span class='ee-k'>SENSOR_ID:</span><span class='ee-v'>OLI_TIRS</span></li><li><span class='ee-k'>SPACECRAFT_ID:</span><span class='ee-v'>LANDSAT_9</span></li><li><span class='ee-k'>STATION_ID:</span><span class='ee-v'>LGN</span></li><li><span class='ee-k'>SUN_AZIMUTH:</span><span class='ee-v'>145.14669802</span></li><li><span class='ee-k'>SUN_ELEVATION:</span><span class='ee-v'>41.81100119</span></li><li><span class='ee-k'>TARGET_WRS_PATH:</span><span class='ee-v'>145</span></li><li><span class='ee-k'>TARGET_WRS_ROW:</span><span class='ee-v'>40</span></li><li><span class='ee-k'>TEMPERATURE_ADD_BAND_ST_B10:</span><span class='ee-v'>149</span></li><li><span class='ee-k'>TEMPERATURE_MAXIMUM_BAND_ST_B10:</span><span class='ee-v'>372.999941</span></li><li><span class='ee-k'>TEMPERATURE_MINIMUM_BAND_ST_B10:</span><span class='ee-v'>149.003418</span></li><li><span class='ee-k'>TEMPERATURE_MULT_BAND_ST_B10:</span><span class='ee-v'>0.00341802</span></li><li><span class='ee-k'>THERMAL_LINES:</span><span class='ee-v'>7841</span></li><li><span class='ee-k'>THERMAL_SAMPLES:</span><span class='ee-v'>7721</span></li><li><span class='ee-k'>UTM_ZONE:</span><span class='ee-v'>44</span></li><li><span class='ee-k'>WRS_PATH:</span><span class='ee-v'>145</span></li><li><span class='ee-k'>WRS_ROW:</span><span class='ee-v'>40</span></li><li><span class='ee-k'>WRS_TYPE:</span><span class='ee-v'>2</span></li><li><span class='ee-k'>system:asset_size:</span><span class='ee-v'>959231889</span></li><li><label class='ee-shut'>system:footprint: LinearRing (21 vertices)<input type='checkbox' class='ee-toggle'></label><ul><li><span class='ee-k'>type:</span><span class='ee-v'>LinearRing</span></li><li><label class='ee-shut'>coordinates: List (21 elements)<input type='checkbox' class='ee-toggle'></label><ul><li><label class='ee-shut'>0: [80.15074434211638, 27.81442741617665]<input type='checkbox' class='ee-toggle'></label><ul><li><span class='ee-k'>0:</span><span class='ee-v'>80.15074434211638</span></li><li><span class='ee-k'>1:</span><span class='ee-v'>27.81442741617665</span></li></ul></li><li><label class='ee-shut'>1: [80.1524269375504, 27.81443774524396]<input type='checkbox' class='ee-toggle'></label><ul><li><span class='ee-k'>0:</span><span class='ee-v'>80.1524269375504</span></li><li><span class='ee-k'>1:</span><span class='ee-v'>27.81443774524396</span></li></ul></li><li><label class='ee-shut'>2: [80.16677096673668, 27.86889396470336]<input type='checkbox' class='ee-toggle'></label><ul><li><span class='ee-k'>0:</span><span class='ee-v'>80.16677096673668</span></li><li><span class='ee-k'>1:</span><span class='ee-v'>27.86889396470336</span></li></ul></li><li><label class='ee-shut'>3: [80.36698084701655, 28.62775171962619]<input type='checkbox' class='ee-toggle'></label><ul><li><span class='ee-k'>0:</span><span class='ee-v'>80.36698084701655</span></li><li><span class='ee-k'>1:</span><span class='ee-v'>28.62775171962619</span></li></ul></li><li><label class='ee-shut'>4: [80.4221329762975, 28.83551216475895]<input type='checkbox' class='ee-toggle'></label><ul><li><span class='ee-k'>0:</span><span class='ee-v'>80.4221329762975</span></li><li><span class='ee-k'>1:</span><span class='ee-v'>28.83551216475895</span></li></ul></li><li><label class='ee-shut'>5: [80.44279786227852, 28.91356249602671]<input type='checkbox' class='ee-toggle'></label><ul><li><span class='ee-k'>0:</span><span class='ee-v'>80.44279786227852</span></li><li><span class='ee-k'>1:</span><span class='ee-v'>28.91356249602671</span></li></ul></li><li><label class='ee-shut'>6: [80.50033926882595, 29.13104989722987]<input type='checkbox' class='ee-toggle'></label><ul><li><span class='ee-k'>0:</span><span class='ee-v'>80.50033926882595</span></li><li><span class='ee-k'>1:</span><span class='ee-v'>29.13104989722987</span></li></ul></li><li><label class='ee-shut'>7: [80.60308012288074, 29.518315101743283]<input type='checkbox' class='ee-toggle'></label><ul><li><span class='ee-k'>0:</span><span class='ee-v'>80.60308012288074</span></li><li><span class='ee-k'>1:</span><span class='ee-v'>29.518315101743283</span></li></ul></li><li><label class='ee-shut'>8: [80.60915526534983, 29.542755601246526]<input type='checkbox' class='ee-toggle'></label><ul><li><span class='ee-k'>0:</span><span class='ee-v'>80.60915526534983</span></li><li><span class='ee-k'>1:</span><span class='ee-v'>29.542755601246526</span></li></ul></li><li><label class='ee-shut'>9: [80.52402540416995, 29.56007400137991]<input type='checkbox' class='ee-toggle'></label><ul><li><span class='ee-k'>0:</span><span class='ee-v'>80.52402540416995</span></li><li><span class='ee-k'>1:</span><span class='ee-v'>29.56007400137991</span></li></ul></li><li><label class='ee-shut'>10: [80.18840756582956, 29.62775725504288]<input type='checkbox' class='ee-toggle'></label><ul><li><span class='ee-k'>0:</span><span class='ee-v'>80.18840756582956</span></li><li><span class='ee-k'>1:</span><span class='ee-v'>29.62775725504288</span></li></ul></li><li><label class='ee-shut'>11: [79.75383183780704, 29.71399438614965]<input type='checkbox' class='ee-toggle'></label><ul><li><span class='ee-k'>0:</span><span class='ee-v'>79.75383183780704</span></li><li><span class='ee-k'>1:</span><span class='ee-v'>29.71399438614965</span></li></ul></li><li><label class='ee-shut'>12: [79.05129909372488, 29.85005436537443]<input type='checkbox' class='ee-toggle'></label><ul><li><span class='ee-k'>0:</span><span class='ee-v'>79.05129909372488</span></li><li><span class='ee-k'>1:</span><span class='ee-v'>29.85005436537443</span></li></ul></li><li><label class='ee-shut'>13: [78.72924418131973, 29.911042577285375]<input type='checkbox' class='ee-toggle'></label><ul><li><span class='ee-k'>0:</span><span class='ee-v'>78.72924418131973</span></li><li><span class='ee-k'>1:</span><span class='ee-v'>29.911042577285375</span></li></ul></li><li><label class='ee-shut'>14: [78.72697638004706, 29.904699857147307]<input type='checkbox' class='ee-toggle'></label><ul><li><span class='ee-k'>0:</span><span class='ee-v'>78.72697638004706</span></li><li><span class='ee-k'>1:</span><span class='ee-v'>29.904699857147307</span></li></ul></li><li><label class='ee-shut'>15: [78.61750885428908, 29.468727476547436]<input type='checkbox' class='ee-toggle'></label><ul><li><span class='ee-k'>0:</span><span class='ee-v'>78.61750885428908</span></li><li><span class='ee-k'>1:</span><span class='ee-v'>29.468727476547436</span></li></ul></li><li><label class='ee-shut'>16: [78.45329016080177, 28.806421750107333]<input type='checkbox' class='ee-toggle'></label><ul><li><span class='ee-k'>0:</span><span class='ee-v'>78.45329016080177</span></li><li><span class='ee-k'>1:</span><span class='ee-v'>28.806421750107333</span></li></ul></li><li><label class='ee-shut'>17: [78.30055682928145, 28.18385336930107]<input type='checkbox' class='ee-toggle'></label><ul><li><span class='ee-k'>0:</span><span class='ee-v'>78.30055682928145</span></li><li><span class='ee-k'>1:</span><span class='ee-v'>28.18385336930107</span></li></ul></li><li><label class='ee-shut'>18: [78.37561222752642, 28.169407010750724]<input type='checkbox' class='ee-toggle'></label><ul><li><span class='ee-k'>0:</span><span class='ee-v'>78.37561222752642</span></li><li><span class='ee-k'>1:</span><span class='ee-v'>28.169407010750724</span></li></ul></li><li><label class='ee-shut'>19: [80.08721384446693, 27.827569988358785]<input type='checkbox' class='ee-toggle'></label><ul><li><span class='ee-k'>0:</span><span class='ee-v'>80.08721384446693</span></li><li><span class='ee-k'>1:</span><span class='ee-v'>27.827569988358785</span></li></ul></li><li><label class='ee-shut'>20: [80.15074434211638, 27.81442741617665]<input type='checkbox' class='ee-toggle'></label><ul><li><span class='ee-k'>0:</span><span class='ee-v'>80.15074434211638</span></li><li><span class='ee-k'>1:</span><span class='ee-v'>27.81442741617665</span></li></ul></li></ul></li></ul></li><li><span class='ee-k'>system:id:</span><span class='ee-v'>LANDSAT/LC09/C02/T1_L2/LC09_145040_20220216</span></li><li><span class='ee-k'>system:index:</span><span class='ee-v'>LC09_145040_20220216</span></li><li><span class='ee-k'>system:time_end:</span><span class='ee-v'>1644988371559</span></li><li><span class='ee-k'>system:time_start:</span><span class='ee-v'>1644988371559</span></li><li><span class='ee-k'>system:version:</span><span class='ee-v'>1682720677392042</span></li></ul></li></ul></div><script>function toggleHeader() {\n",
              "    const parent = this.parentElement;\n",
              "    parent.className = parent.className === \"ee-open\" ? \"ee-shut\" : \"ee-open\";\n",
              "}\n",
              "\n",
              "for (let c of document.getElementsByClassName(\"ee-toggle\")) {\n",
              "    c.onclick = toggleHeader;\n",
              "}</script></div>"
            ]
          },
          "metadata": {},
          "execution_count": 25
        }
      ]
    },
    {
      "cell_type": "code",
      "source": [
        "type(image_property)"
      ],
      "metadata": {
        "colab": {
          "base_uri": "https://localhost:8080/",
          "height": 34
        },
        "id": "GVdrWdd2nGOY",
        "outputId": "11b736d1-44ca-484d-a264-214f47987372"
      },
      "execution_count": 26,
      "outputs": [
        {
          "output_type": "display_data",
          "data": {
            "text/plain": [
              "<IPython.core.display.HTML object>"
            ],
            "text/html": [
              "\n",
              "            <style>\n",
              "                .geemap-dark {\n",
              "                    --jp-widgets-color: white;\n",
              "                    --jp-widgets-label-color: white;\n",
              "                    --jp-ui-font-color1: white;\n",
              "                    --jp-layout-color2: #454545;\n",
              "                    background-color: #383838;\n",
              "                }\n",
              "                    \n",
              "                .geemap-dark .jupyter-button {\n",
              "                    --jp-layout-color3: #383838;\n",
              "                }\n",
              "                \n",
              "                .geemap-colab {\n",
              "                    background-color: var(--colab-primary-surface-color, white);\n",
              "                }\n",
              "                    \n",
              "                .geemap-colab .jupyter-button {\n",
              "                    --jp-layout-color3: var(--colab-primary-surface-color, white);\n",
              "                }\n",
              "            </style>\n",
              "            "
            ]
          },
          "metadata": {}
        },
        {
          "output_type": "execute_result",
          "data": {
            "text/plain": [
              "ee.dictionary.Dictionary"
            ]
          },
          "metadata": {},
          "execution_count": 26
        }
      ]
    },
    {
      "cell_type": "markdown",
      "source": [
        "## Convert the GEE server-side data to client-side data"
      ],
      "metadata": {
        "id": "tQCsfJC9TpAt"
      }
    },
    {
      "cell_type": "markdown",
      "source": [
        "🤔 Note: getInfo() is a method in GEE API that allows users to retrieve the values of Earth Engine objects and transfer them from the server-side to the client-side. In the context of GEE, computations often occur on the server-side, which means that the actual data and results reside on Google's servers. To access and work with this information in your local environment, we use getInfo()."
      ],
      "metadata": {
        "id": "en51t1VgTkPh"
      }
    },
    {
      "cell_type": "code",
      "source": [
        "image_property = l9FilteredImage.toDictionary(Image_property_names).getInfo()\n",
        "image_property"
      ],
      "metadata": {
        "id": "IQNqFmTAnAGI",
        "colab": {
          "base_uri": "https://localhost:8080/",
          "height": 1000
        },
        "outputId": "5ecc3578-35eb-497a-cfc1-84554c794f8d"
      },
      "execution_count": 27,
      "outputs": [
        {
          "output_type": "display_data",
          "data": {
            "text/plain": [
              "<IPython.core.display.HTML object>"
            ],
            "text/html": [
              "\n",
              "            <style>\n",
              "                .geemap-dark {\n",
              "                    --jp-widgets-color: white;\n",
              "                    --jp-widgets-label-color: white;\n",
              "                    --jp-ui-font-color1: white;\n",
              "                    --jp-layout-color2: #454545;\n",
              "                    background-color: #383838;\n",
              "                }\n",
              "                    \n",
              "                .geemap-dark .jupyter-button {\n",
              "                    --jp-layout-color3: #383838;\n",
              "                }\n",
              "                \n",
              "                .geemap-colab {\n",
              "                    background-color: var(--colab-primary-surface-color, white);\n",
              "                }\n",
              "                    \n",
              "                .geemap-colab .jupyter-button {\n",
              "                    --jp-layout-color3: var(--colab-primary-surface-color, white);\n",
              "                }\n",
              "            </style>\n",
              "            "
            ]
          },
          "metadata": {}
        },
        {
          "output_type": "execute_result",
          "data": {
            "text/plain": [
              "{'ALGORITHM_SOURCE_SURFACE_REFLECTANCE': 'LaSRC_1.5.0',\n",
              " 'ALGORITHM_SOURCE_SURFACE_TEMPERATURE': 'st_1.3.0',\n",
              " 'CLOUD_COVER': 0.7,\n",
              " 'CLOUD_COVER_LAND': 0.7,\n",
              " 'COLLECTION_CATEGORY': 'T1',\n",
              " 'COLLECTION_NUMBER': 2,\n",
              " 'DATA_SOURCE_AIR_TEMPERATURE': 'MODIS',\n",
              " 'DATA_SOURCE_ELEVATION': 'GLS2000',\n",
              " 'DATA_SOURCE_OZONE': 'MODIS',\n",
              " 'DATA_SOURCE_PRESSURE': 'Calculated',\n",
              " 'DATA_SOURCE_REANALYSIS': 'GEOS-5 FP-IT',\n",
              " 'DATA_SOURCE_WATER_VAPOR': 'MODIS',\n",
              " 'DATE_ACQUIRED': '2022-02-16',\n",
              " 'DATE_PRODUCT_GENERATED': 1682602984000,\n",
              " 'DATUM': 'WGS84',\n",
              " 'EARTH_SUN_DISTANCE': 0.987834,\n",
              " 'ELLIPSOID': 'WGS84',\n",
              " 'GEOMETRIC_RMSE_MODEL': 5.728,\n",
              " 'GEOMETRIC_RMSE_MODEL_X': 4.069,\n",
              " 'GEOMETRIC_RMSE_MODEL_Y': 4.032,\n",
              " 'GEOMETRIC_RMSE_VERIFY': 3.122,\n",
              " 'GRID_CELL_SIZE_REFLECTIVE': 30,\n",
              " 'GRID_CELL_SIZE_THERMAL': 30,\n",
              " 'GROUND_CONTROL_POINTS_MODEL': 473,\n",
              " 'GROUND_CONTROL_POINTS_VERIFY': 85,\n",
              " 'GROUND_CONTROL_POINTS_VERSION': 5,\n",
              " 'IMAGE_QUALITY_OLI': 9,\n",
              " 'IMAGE_QUALITY_TIRS': 9,\n",
              " 'L1_DATE_PRODUCT_GENERATED': '2023-04-27T13:08:32Z',\n",
              " 'L1_LANDSAT_PRODUCT_ID': 'LC09_L1TP_145040_20220216_20230427_02_T1',\n",
              " 'L1_PROCESSING_LEVEL': 'L1TP',\n",
              " 'L1_PROCESSING_SOFTWARE_VERSION': 'LPGS_16.2.0',\n",
              " 'L1_REQUEST_ID': '1713827_00024',\n",
              " 'LANDSAT_PRODUCT_ID': 'LC09_L2SP_145040_20220216_20230427_02_T1',\n",
              " 'LANDSAT_SCENE_ID': 'LC91450402022047LGN01',\n",
              " 'MAP_PROJECTION': 'UTM',\n",
              " 'NADIR_OFFNADIR': 'NADIR',\n",
              " 'ORIENTATION': 'NORTH_UP',\n",
              " 'PROCESSING_LEVEL': 'L2SP',\n",
              " 'PROCESSING_SOFTWARE_VERSION': 'LPGS_16.2.0',\n",
              " 'REFLECTANCE_ADD_BAND_1': -0.2,\n",
              " 'REFLECTANCE_ADD_BAND_2': -0.2,\n",
              " 'REFLECTANCE_ADD_BAND_3': -0.2,\n",
              " 'REFLECTANCE_ADD_BAND_4': -0.2,\n",
              " 'REFLECTANCE_ADD_BAND_5': -0.2,\n",
              " 'REFLECTANCE_ADD_BAND_6': -0.2,\n",
              " 'REFLECTANCE_ADD_BAND_7': -0.2,\n",
              " 'REFLECTANCE_MULT_BAND_1': 2.75e-05,\n",
              " 'REFLECTANCE_MULT_BAND_2': 2.75e-05,\n",
              " 'REFLECTANCE_MULT_BAND_3': 2.75e-05,\n",
              " 'REFLECTANCE_MULT_BAND_4': 2.75e-05,\n",
              " 'REFLECTANCE_MULT_BAND_5': 2.75e-05,\n",
              " 'REFLECTANCE_MULT_BAND_6': 2.75e-05,\n",
              " 'REFLECTANCE_MULT_BAND_7': 2.75e-05,\n",
              " 'REFLECTIVE_LINES': 7841,\n",
              " 'REFLECTIVE_SAMPLES': 7721,\n",
              " 'REQUEST_ID': '1713827_00024',\n",
              " 'ROLL_ANGLE': 0,\n",
              " 'SATURATION_BAND_1': 'N',\n",
              " 'SATURATION_BAND_2': 'N',\n",
              " 'SATURATION_BAND_3': 'N',\n",
              " 'SATURATION_BAND_4': 'N',\n",
              " 'SATURATION_BAND_5': 'N',\n",
              " 'SATURATION_BAND_6': 'Y',\n",
              " 'SATURATION_BAND_7': 'Y',\n",
              " 'SATURATION_BAND_8': 'N',\n",
              " 'SATURATION_BAND_9': 'N',\n",
              " 'SCENE_CENTER_TIME': '05:12:51.5591190Z',\n",
              " 'SENSOR_ID': 'OLI_TIRS',\n",
              " 'SPACECRAFT_ID': 'LANDSAT_9',\n",
              " 'STATION_ID': 'LGN',\n",
              " 'SUN_AZIMUTH': 145.14669802,\n",
              " 'SUN_ELEVATION': 41.81100119,\n",
              " 'TARGET_WRS_PATH': 145,\n",
              " 'TARGET_WRS_ROW': 40,\n",
              " 'TEMPERATURE_ADD_BAND_ST_B10': 149,\n",
              " 'TEMPERATURE_MAXIMUM_BAND_ST_B10': 372.999941,\n",
              " 'TEMPERATURE_MINIMUM_BAND_ST_B10': 149.003418,\n",
              " 'TEMPERATURE_MULT_BAND_ST_B10': 0.00341802,\n",
              " 'THERMAL_LINES': 7841,\n",
              " 'THERMAL_SAMPLES': 7721,\n",
              " 'UTM_ZONE': 44,\n",
              " 'WRS_PATH': 145,\n",
              " 'WRS_ROW': 40,\n",
              " 'WRS_TYPE': 2,\n",
              " 'system:asset_size': 959231889,\n",
              " 'system:footprint': {'type': 'LinearRing',\n",
              "  'coordinates': [[80.15074434211638, 27.81442741617665],\n",
              "   [80.1524269375504, 27.81443774524396],\n",
              "   [80.16677096673668, 27.86889396470336],\n",
              "   [80.36698084701655, 28.62775171962619],\n",
              "   [80.4221329762975, 28.83551216475895],\n",
              "   [80.44279786227852, 28.91356249602671],\n",
              "   [80.50033926882595, 29.13104989722987],\n",
              "   [80.60308012288074, 29.518315101743283],\n",
              "   [80.60915526534983, 29.542755601246526],\n",
              "   [80.52402540416995, 29.56007400137991],\n",
              "   [80.18840756582956, 29.62775725504288],\n",
              "   [79.75383183780704, 29.71399438614965],\n",
              "   [79.05129909372488, 29.85005436537443],\n",
              "   [78.72924418131973, 29.911042577285375],\n",
              "   [78.72697638004706, 29.904699857147307],\n",
              "   [78.61750885428908, 29.468727476547436],\n",
              "   [78.45329016080177, 28.806421750107333],\n",
              "   [78.30055682928145, 28.18385336930107],\n",
              "   [78.37561222752642, 28.169407010750724],\n",
              "   [80.08721384446693, 27.827569988358785],\n",
              "   [80.15074434211638, 27.81442741617665]]},\n",
              " 'system:id': 'LANDSAT/LC09/C02/T1_L2/LC09_145040_20220216',\n",
              " 'system:index': 'LC09_145040_20220216',\n",
              " 'system:time_end': 1644988371559,\n",
              " 'system:time_start': 1644988371559,\n",
              " 'system:version': 1682720677392042}"
            ]
          },
          "metadata": {},
          "execution_count": 27
        }
      ]
    },
    {
      "cell_type": "code",
      "source": [
        "type(image_property)"
      ],
      "metadata": {
        "colab": {
          "base_uri": "https://localhost:8080/",
          "height": 34
        },
        "id": "hZZ2lk5aYs63",
        "outputId": "6fcc69b2-b0e3-47f9-9ab2-a245548f5f6a"
      },
      "execution_count": 28,
      "outputs": [
        {
          "output_type": "display_data",
          "data": {
            "text/plain": [
              "<IPython.core.display.HTML object>"
            ],
            "text/html": [
              "\n",
              "            <style>\n",
              "                .geemap-dark {\n",
              "                    --jp-widgets-color: white;\n",
              "                    --jp-widgets-label-color: white;\n",
              "                    --jp-ui-font-color1: white;\n",
              "                    --jp-layout-color2: #454545;\n",
              "                    background-color: #383838;\n",
              "                }\n",
              "                    \n",
              "                .geemap-dark .jupyter-button {\n",
              "                    --jp-layout-color3: #383838;\n",
              "                }\n",
              "                \n",
              "                .geemap-colab {\n",
              "                    background-color: var(--colab-primary-surface-color, white);\n",
              "                }\n",
              "                    \n",
              "                .geemap-colab .jupyter-button {\n",
              "                    --jp-layout-color3: var(--colab-primary-surface-color, white);\n",
              "                }\n",
              "            </style>\n",
              "            "
            ]
          },
          "metadata": {}
        },
        {
          "output_type": "execute_result",
          "data": {
            "text/plain": [
              "dict"
            ]
          },
          "metadata": {},
          "execution_count": 28
        }
      ]
    }
  ],
  "metadata": {
    "colab": {
      "provenance": [],
      "include_colab_link": true
    },
    "kernelspec": {
      "display_name": "Python 3",
      "name": "python3"
    },
    "language_info": {
      "name": "python"
    },
    "widgets": {
      "application/vnd.jupyter.widget-state+json": {
        "52b38a02690847059a5d3d5a3ea09aab": {
          "model_module": "jupyter-leaflet",
          "model_name": "LeafletMapModel",
          "model_module_version": "^0.18",
          "state": {
            "_dom_classes": [],
            "_model_module": "jupyter-leaflet",
            "_model_module_version": "^0.18",
            "_model_name": "LeafletMapModel",
            "_view_count": null,
            "_view_module": "jupyter-leaflet",
            "_view_module_version": "^0.18",
            "_view_name": "LeafletMapView",
            "bottom": 812,
            "bounce_at_zoom_limits": true,
            "box_zoom": true,
            "center": [
              0,
              0
            ],
            "close_popup_on_click": true,
            "controls": [
              "IPY_MODEL_b6fa18c661624d29bd065624f64d1628",
              "IPY_MODEL_0574b8418fc54f4e950f017d6ee7b825",
              "IPY_MODEL_6fc4c3cbfe1f4f52bf0913758f5d6b10",
              "IPY_MODEL_3cb7f505793d4e2d8ed80ef77dcacae1",
              "IPY_MODEL_acc56ab9f009433988a28da364ff7eed",
              "IPY_MODEL_3de62294dd6d4299a866b3c4c32938d8",
              "IPY_MODEL_e8e284677e2f42f39f6c902f3a44801c",
              "IPY_MODEL_3349261423fd4872bb4f3901aef823ee"
            ],
            "crs": {
              "name": "EPSG3857",
              "custom": false
            },
            "default_style": "IPY_MODEL_b10ff358b6364b40b7bbaa7bd8c022f2",
            "double_click_zoom": true,
            "dragging": true,
            "dragging_style": "IPY_MODEL_260dbb90cadf442a952c9909b7454446",
            "east": 263.67187500000006,
            "fullscreen": false,
            "inertia": true,
            "inertia_deceleration": 3000,
            "inertia_max_speed": 1500,
            "interpolation": "bilinear",
            "keyboard": true,
            "keyboard_pan_offset": 80,
            "keyboard_zoom_offset": 1,
            "layers": [
              "IPY_MODEL_f9fd9cfc5aab4d9d9e7ea9fd1218939f"
            ],
            "layout": "IPY_MODEL_f7ca7bd91d4b4d779d777862a3ef865d",
            "left": -238,
            "max_zoom": 24,
            "min_zoom": null,
            "modisdate": "2024-01-15",
            "north": 71.9653876991313,
            "options": [
              "bounce_at_zoom_limits",
              "box_zoom",
              "center",
              "close_popup_on_click",
              "double_click_zoom",
              "dragging",
              "fullscreen",
              "inertia",
              "inertia_deceleration",
              "inertia_max_speed",
              "interpolation",
              "keyboard",
              "keyboard_pan_offset",
              "keyboard_zoom_offset",
              "max_zoom",
              "min_zoom",
              "prefer_canvas",
              "scroll_wheel_zoom",
              "tap",
              "tap_tolerance",
              "touch_zoom",
              "world_copy_jump",
              "zoom",
              "zoom_animation_threshold",
              "zoom_delta",
              "zoom_snap"
            ],
            "panes": {},
            "prefer_canvas": false,
            "right": 1262,
            "scroll_wheel_zoom": true,
            "south": -71.96538769913128,
            "style": "IPY_MODEL_c58df3d0fb7f429684734811620187b4",
            "tap": true,
            "tap_tolerance": 15,
            "top": 212,
            "touch_zoom": true,
            "west": -263.67187500000006,
            "window_url": "https://t4c752602tg-496ff2e9c6d22116-0-colab.googleusercontent.com/outputframe.html?vrz=colab_20240111-060117_RC01_597566451",
            "world_copy_jump": false,
            "zoom": 2,
            "zoom_animation_threshold": 4,
            "zoom_delta": 1,
            "zoom_snap": 1
          }
        },
        "b6fa18c661624d29bd065624f64d1628": {
          "model_module": "jupyter-leaflet",
          "model_name": "LeafletWidgetControlModel",
          "model_module_version": "^0.18",
          "state": {
            "_model_module": "jupyter-leaflet",
            "_model_module_version": "^0.18",
            "_model_name": "LeafletWidgetControlModel",
            "_view_count": null,
            "_view_module": "jupyter-leaflet",
            "_view_module_version": "^0.18",
            "_view_name": "LeafletWidgetControlView",
            "max_height": null,
            "max_width": null,
            "min_height": null,
            "min_width": null,
            "options": [
              "position",
              "transparent_bg"
            ],
            "position": "topleft",
            "transparent_bg": false,
            "widget": "IPY_MODEL_90f44378d8cb4934b8feafdae848e96e"
          }
        },
        "0574b8418fc54f4e950f017d6ee7b825": {
          "model_module": "jupyter-leaflet",
          "model_name": "LeafletZoomControlModel",
          "model_module_version": "^0.18",
          "state": {
            "_model_module": "jupyter-leaflet",
            "_model_module_version": "^0.18",
            "_model_name": "LeafletZoomControlModel",
            "_view_count": null,
            "_view_module": "jupyter-leaflet",
            "_view_module_version": "^0.18",
            "_view_name": "LeafletZoomControlView",
            "options": [
              "position",
              "zoom_in_text",
              "zoom_in_title",
              "zoom_out_text",
              "zoom_out_title"
            ],
            "position": "topleft",
            "zoom_in_text": "+",
            "zoom_in_title": "Zoom in",
            "zoom_out_text": "-",
            "zoom_out_title": "Zoom out"
          }
        },
        "6fc4c3cbfe1f4f52bf0913758f5d6b10": {
          "model_module": "jupyter-leaflet",
          "model_name": "LeafletFullScreenControlModel",
          "model_module_version": "^0.18",
          "state": {
            "_model_module": "jupyter-leaflet",
            "_model_module_version": "^0.18",
            "_model_name": "LeafletFullScreenControlModel",
            "_view_count": null,
            "_view_module": "jupyter-leaflet",
            "_view_module_version": "^0.18",
            "_view_name": "LeafletFullScreenControlView",
            "options": [
              "position"
            ],
            "position": "topleft"
          }
        },
        "3cb7f505793d4e2d8ed80ef77dcacae1": {
          "model_module": "jupyter-leaflet",
          "model_name": "LeafletDrawControlModel",
          "model_module_version": "^0.18",
          "state": {
            "_model_module": "jupyter-leaflet",
            "_model_module_version": "^0.18",
            "_model_name": "LeafletDrawControlModel",
            "_view_count": null,
            "_view_module": "jupyter-leaflet",
            "_view_module_version": "^0.18",
            "_view_name": "LeafletDrawControlView",
            "circle": {},
            "circlemarker": {},
            "data": [],
            "edit": true,
            "marker": {
              "shapeOptions": {
                "color": "#3388ff"
              }
            },
            "options": [
              "position"
            ],
            "polygon": {
              "shapeOptions": {}
            },
            "polyline": {
              "shapeOptions": {}
            },
            "position": "topleft",
            "rectangle": {
              "shapeOptions": {
                "color": "#3388ff"
              }
            },
            "remove": true
          }
        },
        "acc56ab9f009433988a28da364ff7eed": {
          "model_module": "jupyter-leaflet",
          "model_name": "LeafletScaleControlModel",
          "model_module_version": "^0.18",
          "state": {
            "_model_module": "jupyter-leaflet",
            "_model_module_version": "^0.18",
            "_model_name": "LeafletScaleControlModel",
            "_view_count": null,
            "_view_module": "jupyter-leaflet",
            "_view_module_version": "^0.18",
            "_view_name": "LeafletScaleControlView",
            "imperial": true,
            "max_width": 100,
            "metric": true,
            "options": [
              "imperial",
              "max_width",
              "metric",
              "position",
              "update_when_idle"
            ],
            "position": "bottomleft",
            "update_when_idle": false
          }
        },
        "3de62294dd6d4299a866b3c4c32938d8": {
          "model_module": "jupyter-leaflet",
          "model_name": "LeafletMeasureControlModel",
          "model_module_version": "^0.18",
          "state": {
            "_custom_units": {},
            "_model_module": "jupyter-leaflet",
            "_model_module_version": "^0.18",
            "_model_name": "LeafletMeasureControlModel",
            "_view_count": null,
            "_view_module": "jupyter-leaflet",
            "_view_module_version": "^0.18",
            "_view_name": "LeafletMeasureControlView",
            "active_color": "orange",
            "capture_z_index": 10000,
            "completed_color": "#C8F2BE",
            "options": [
              "active_color",
              "capture_z_index",
              "completed_color",
              "popup_options",
              "position",
              "primary_area_unit",
              "primary_length_unit",
              "secondary_area_unit",
              "secondary_length_unit"
            ],
            "popup_options": {
              "className": "leaflet-measure-resultpopup",
              "autoPanPadding": [
                10,
                10
              ]
            },
            "position": "bottomleft",
            "primary_area_unit": "acres",
            "primary_length_unit": "kilometers",
            "secondary_area_unit": null,
            "secondary_length_unit": null
          }
        },
        "e8e284677e2f42f39f6c902f3a44801c": {
          "model_module": "jupyter-leaflet",
          "model_name": "LeafletWidgetControlModel",
          "model_module_version": "^0.18",
          "state": {
            "_model_module": "jupyter-leaflet",
            "_model_module_version": "^0.18",
            "_model_name": "LeafletWidgetControlModel",
            "_view_count": null,
            "_view_module": "jupyter-leaflet",
            "_view_module_version": "^0.18",
            "_view_name": "LeafletWidgetControlView",
            "max_height": null,
            "max_width": null,
            "min_height": null,
            "min_width": null,
            "options": [
              "position",
              "transparent_bg"
            ],
            "position": "topright",
            "transparent_bg": false,
            "widget": "IPY_MODEL_bbeec981cc3c47618170e6258c8f480d"
          }
        },
        "3349261423fd4872bb4f3901aef823ee": {
          "model_module": "jupyter-leaflet",
          "model_name": "LeafletAttributionControlModel",
          "model_module_version": "^0.18",
          "state": {
            "_model_module": "jupyter-leaflet",
            "_model_module_version": "^0.18",
            "_model_name": "LeafletAttributionControlModel",
            "_view_count": null,
            "_view_module": "jupyter-leaflet",
            "_view_module_version": "^0.18",
            "_view_name": "LeafletAttributionControlView",
            "options": [
              "position",
              "prefix"
            ],
            "position": "bottomright",
            "prefix": "ipyleaflet"
          }
        },
        "b10ff358b6364b40b7bbaa7bd8c022f2": {
          "model_module": "jupyter-leaflet",
          "model_name": "LeafletMapStyleModel",
          "model_module_version": "^0.18",
          "state": {
            "_model_module": "jupyter-leaflet",
            "_model_module_version": "^0.18",
            "_model_name": "LeafletMapStyleModel",
            "_view_count": null,
            "_view_module": "@jupyter-widgets/base",
            "_view_module_version": "1.2.0",
            "_view_name": "StyleView",
            "cursor": "grab"
          }
        },
        "260dbb90cadf442a952c9909b7454446": {
          "model_module": "jupyter-leaflet",
          "model_name": "LeafletMapStyleModel",
          "model_module_version": "^0.18",
          "state": {
            "_model_module": "jupyter-leaflet",
            "_model_module_version": "^0.18",
            "_model_name": "LeafletMapStyleModel",
            "_view_count": null,
            "_view_module": "@jupyter-widgets/base",
            "_view_module_version": "1.2.0",
            "_view_name": "StyleView",
            "cursor": "move"
          }
        },
        "f9fd9cfc5aab4d9d9e7ea9fd1218939f": {
          "model_module": "jupyter-leaflet",
          "model_name": "LeafletTileLayerModel",
          "model_module_version": "^0.18",
          "state": {
            "_model_module": "jupyter-leaflet",
            "_model_module_version": "^0.18",
            "_model_name": "LeafletTileLayerModel",
            "_view_count": null,
            "_view_module": "jupyter-leaflet",
            "_view_module_version": "^0.18",
            "_view_name": "LeafletTileLayerView",
            "attribution": "&copy; <a href=\"https://www.openstreetmap.org/copyright\">OpenStreetMap</a> contributors",
            "base": true,
            "bottom": true,
            "bounds": null,
            "detect_retina": false,
            "loading": false,
            "max_native_zoom": null,
            "max_zoom": 19,
            "min_native_zoom": null,
            "min_zoom": 1,
            "name": "OpenStreetMap.Mapnik",
            "no_wrap": false,
            "opacity": 1,
            "options": [
              "attribution",
              "bounds",
              "detect_retina",
              "max_native_zoom",
              "max_zoom",
              "min_native_zoom",
              "min_zoom",
              "no_wrap",
              "tile_size",
              "tms",
              "zoom_offset"
            ],
            "pane": "",
            "popup": null,
            "popup_max_height": null,
            "popup_max_width": 300,
            "popup_min_width": 50,
            "show_loading": false,
            "subitems": [],
            "tile_size": 256,
            "tms": false,
            "url": "https://tile.openstreetmap.org/{z}/{x}/{y}.png",
            "visible": true,
            "zoom_offset": 0
          }
        },
        "f7ca7bd91d4b4d779d777862a3ef865d": {
          "model_module": "@jupyter-widgets/base",
          "model_name": "LayoutModel",
          "model_module_version": "1.2.0",
          "state": {
            "_model_module": "@jupyter-widgets/base",
            "_model_module_version": "1.2.0",
            "_model_name": "LayoutModel",
            "_view_count": null,
            "_view_module": "@jupyter-widgets/base",
            "_view_module_version": "1.2.0",
            "_view_name": "LayoutView",
            "align_content": null,
            "align_items": null,
            "align_self": null,
            "border": null,
            "bottom": null,
            "display": null,
            "flex": null,
            "flex_flow": null,
            "grid_area": null,
            "grid_auto_columns": null,
            "grid_auto_flow": null,
            "grid_auto_rows": null,
            "grid_column": null,
            "grid_gap": null,
            "grid_row": null,
            "grid_template_areas": null,
            "grid_template_columns": null,
            "grid_template_rows": null,
            "height": "600px",
            "justify_content": null,
            "justify_items": null,
            "left": null,
            "margin": null,
            "max_height": null,
            "max_width": null,
            "min_height": null,
            "min_width": null,
            "object_fit": null,
            "object_position": null,
            "order": null,
            "overflow": null,
            "overflow_x": null,
            "overflow_y": null,
            "padding": null,
            "right": null,
            "top": null,
            "visibility": null,
            "width": null
          }
        },
        "c58df3d0fb7f429684734811620187b4": {
          "model_module": "jupyter-leaflet",
          "model_name": "LeafletMapStyleModel",
          "model_module_version": "^0.18",
          "state": {
            "_model_module": "jupyter-leaflet",
            "_model_module_version": "^0.18",
            "_model_name": "LeafletMapStyleModel",
            "_view_count": null,
            "_view_module": "@jupyter-widgets/base",
            "_view_module_version": "1.2.0",
            "_view_name": "StyleView",
            "cursor": "grab"
          }
        },
        "90f44378d8cb4934b8feafdae848e96e": {
          "model_module": "@jupyter-widgets/controls",
          "model_name": "HBoxModel",
          "model_module_version": "1.5.0",
          "state": {
            "_dom_classes": [
              "geemap-colab"
            ],
            "_model_module": "@jupyter-widgets/controls",
            "_model_module_version": "1.5.0",
            "_model_name": "HBoxModel",
            "_view_count": null,
            "_view_module": "@jupyter-widgets/controls",
            "_view_module_version": "1.5.0",
            "_view_name": "HBoxView",
            "box_style": "",
            "children": [
              "IPY_MODEL_50cd0d2b1acb4ecfa78d7d3c974c0a6d"
            ],
            "layout": "IPY_MODEL_e2e245225003425489e7d84b3560456b"
          }
        },
        "bbeec981cc3c47618170e6258c8f480d": {
          "model_module": "@jupyter-widgets/controls",
          "model_name": "VBoxModel",
          "model_module_version": "1.5.0",
          "state": {
            "_dom_classes": [
              "geemap-colab"
            ],
            "_model_module": "@jupyter-widgets/controls",
            "_model_module_version": "1.5.0",
            "_model_name": "VBoxModel",
            "_view_count": null,
            "_view_module": "@jupyter-widgets/controls",
            "_view_module_version": "1.5.0",
            "_view_name": "VBoxView",
            "box_style": "",
            "children": [
              "IPY_MODEL_e388656bb7e44139ba90e5f89afd2775"
            ],
            "layout": "IPY_MODEL_33f1ea0db517412abc77b0d89709bc38"
          }
        },
        "50cd0d2b1acb4ecfa78d7d3c974c0a6d": {
          "model_module": "@jupyter-widgets/controls",
          "model_name": "ToggleButtonModel",
          "model_module_version": "1.5.0",
          "state": {
            "_dom_classes": [],
            "_model_module": "@jupyter-widgets/controls",
            "_model_module_version": "1.5.0",
            "_model_name": "ToggleButtonModel",
            "_view_count": null,
            "_view_module": "@jupyter-widgets/controls",
            "_view_module_version": "1.5.0",
            "_view_name": "ToggleButtonView",
            "button_style": "",
            "description": "",
            "description_tooltip": null,
            "disabled": false,
            "icon": "globe",
            "layout": "IPY_MODEL_fc7ffcb920274f88877ea50e59b0c225",
            "style": "IPY_MODEL_05106cb8140b4838b9053a034b46c846",
            "tooltip": "Search location/data",
            "value": false
          }
        },
        "e2e245225003425489e7d84b3560456b": {
          "model_module": "@jupyter-widgets/base",
          "model_name": "LayoutModel",
          "model_module_version": "1.2.0",
          "state": {
            "_model_module": "@jupyter-widgets/base",
            "_model_module_version": "1.2.0",
            "_model_name": "LayoutModel",
            "_view_count": null,
            "_view_module": "@jupyter-widgets/base",
            "_view_module_version": "1.2.0",
            "_view_name": "LayoutView",
            "align_content": null,
            "align_items": null,
            "align_self": null,
            "border": null,
            "bottom": null,
            "display": null,
            "flex": null,
            "flex_flow": null,
            "grid_area": null,
            "grid_auto_columns": null,
            "grid_auto_flow": null,
            "grid_auto_rows": null,
            "grid_column": null,
            "grid_gap": null,
            "grid_row": null,
            "grid_template_areas": null,
            "grid_template_columns": null,
            "grid_template_rows": null,
            "height": null,
            "justify_content": null,
            "justify_items": null,
            "left": null,
            "margin": null,
            "max_height": null,
            "max_width": null,
            "min_height": null,
            "min_width": null,
            "object_fit": null,
            "object_position": null,
            "order": null,
            "overflow": null,
            "overflow_x": null,
            "overflow_y": null,
            "padding": null,
            "right": null,
            "top": null,
            "visibility": null,
            "width": null
          }
        },
        "e388656bb7e44139ba90e5f89afd2775": {
          "model_module": "@jupyter-widgets/controls",
          "model_name": "ToggleButtonModel",
          "model_module_version": "1.5.0",
          "state": {
            "_dom_classes": [],
            "_model_module": "@jupyter-widgets/controls",
            "_model_module_version": "1.5.0",
            "_model_name": "ToggleButtonModel",
            "_view_count": null,
            "_view_module": "@jupyter-widgets/controls",
            "_view_module_version": "1.5.0",
            "_view_name": "ToggleButtonView",
            "button_style": "",
            "description": "",
            "description_tooltip": null,
            "disabled": false,
            "icon": "wrench",
            "layout": "IPY_MODEL_b31989f1fa524186a72fb7094275f00f",
            "style": "IPY_MODEL_730d4f82458c4753a1ac8c7e9804361b",
            "tooltip": "Toolbar",
            "value": false
          }
        },
        "33f1ea0db517412abc77b0d89709bc38": {
          "model_module": "@jupyter-widgets/base",
          "model_name": "LayoutModel",
          "model_module_version": "1.2.0",
          "state": {
            "_model_module": "@jupyter-widgets/base",
            "_model_module_version": "1.2.0",
            "_model_name": "LayoutModel",
            "_view_count": null,
            "_view_module": "@jupyter-widgets/base",
            "_view_module_version": "1.2.0",
            "_view_name": "LayoutView",
            "align_content": null,
            "align_items": null,
            "align_self": null,
            "border": null,
            "bottom": null,
            "display": null,
            "flex": null,
            "flex_flow": null,
            "grid_area": null,
            "grid_auto_columns": null,
            "grid_auto_flow": null,
            "grid_auto_rows": null,
            "grid_column": null,
            "grid_gap": null,
            "grid_row": null,
            "grid_template_areas": null,
            "grid_template_columns": null,
            "grid_template_rows": null,
            "height": null,
            "justify_content": null,
            "justify_items": null,
            "left": null,
            "margin": null,
            "max_height": null,
            "max_width": null,
            "min_height": null,
            "min_width": null,
            "object_fit": null,
            "object_position": null,
            "order": null,
            "overflow": null,
            "overflow_x": null,
            "overflow_y": null,
            "padding": null,
            "right": null,
            "top": null,
            "visibility": null,
            "width": null
          }
        },
        "fc7ffcb920274f88877ea50e59b0c225": {
          "model_module": "@jupyter-widgets/base",
          "model_name": "LayoutModel",
          "model_module_version": "1.2.0",
          "state": {
            "_model_module": "@jupyter-widgets/base",
            "_model_module_version": "1.2.0",
            "_model_name": "LayoutModel",
            "_view_count": null,
            "_view_module": "@jupyter-widgets/base",
            "_view_module_version": "1.2.0",
            "_view_name": "LayoutView",
            "align_content": null,
            "align_items": null,
            "align_self": null,
            "border": null,
            "bottom": null,
            "display": null,
            "flex": null,
            "flex_flow": null,
            "grid_area": null,
            "grid_auto_columns": null,
            "grid_auto_flow": null,
            "grid_auto_rows": null,
            "grid_column": null,
            "grid_gap": null,
            "grid_row": null,
            "grid_template_areas": null,
            "grid_template_columns": null,
            "grid_template_rows": null,
            "height": "28px",
            "justify_content": null,
            "justify_items": null,
            "left": null,
            "margin": null,
            "max_height": null,
            "max_width": null,
            "min_height": null,
            "min_width": null,
            "object_fit": null,
            "object_position": null,
            "order": null,
            "overflow": null,
            "overflow_x": null,
            "overflow_y": null,
            "padding": "0px 0px 0px 4px",
            "right": null,
            "top": null,
            "visibility": null,
            "width": "28px"
          }
        },
        "05106cb8140b4838b9053a034b46c846": {
          "model_module": "@jupyter-widgets/controls",
          "model_name": "DescriptionStyleModel",
          "model_module_version": "1.5.0",
          "state": {
            "_model_module": "@jupyter-widgets/controls",
            "_model_module_version": "1.5.0",
            "_model_name": "DescriptionStyleModel",
            "_view_count": null,
            "_view_module": "@jupyter-widgets/base",
            "_view_module_version": "1.2.0",
            "_view_name": "StyleView",
            "description_width": ""
          }
        },
        "b31989f1fa524186a72fb7094275f00f": {
          "model_module": "@jupyter-widgets/base",
          "model_name": "LayoutModel",
          "model_module_version": "1.2.0",
          "state": {
            "_model_module": "@jupyter-widgets/base",
            "_model_module_version": "1.2.0",
            "_model_name": "LayoutModel",
            "_view_count": null,
            "_view_module": "@jupyter-widgets/base",
            "_view_module_version": "1.2.0",
            "_view_name": "LayoutView",
            "align_content": null,
            "align_items": null,
            "align_self": null,
            "border": null,
            "bottom": null,
            "display": null,
            "flex": null,
            "flex_flow": null,
            "grid_area": null,
            "grid_auto_columns": null,
            "grid_auto_flow": null,
            "grid_auto_rows": null,
            "grid_column": null,
            "grid_gap": null,
            "grid_row": null,
            "grid_template_areas": null,
            "grid_template_columns": null,
            "grid_template_rows": null,
            "height": "28px",
            "justify_content": null,
            "justify_items": null,
            "left": null,
            "margin": null,
            "max_height": null,
            "max_width": null,
            "min_height": null,
            "min_width": null,
            "object_fit": null,
            "object_position": null,
            "order": null,
            "overflow": null,
            "overflow_x": null,
            "overflow_y": null,
            "padding": "0px 0px 0px 4px",
            "right": null,
            "top": null,
            "visibility": null,
            "width": "28px"
          }
        },
        "730d4f82458c4753a1ac8c7e9804361b": {
          "model_module": "@jupyter-widgets/controls",
          "model_name": "DescriptionStyleModel",
          "model_module_version": "1.5.0",
          "state": {
            "_model_module": "@jupyter-widgets/controls",
            "_model_module_version": "1.5.0",
            "_model_name": "DescriptionStyleModel",
            "_view_count": null,
            "_view_module": "@jupyter-widgets/base",
            "_view_module_version": "1.2.0",
            "_view_name": "StyleView",
            "description_width": ""
          }
        },
        "631567e3858441d7986ffda3df5d56eb": {
          "model_module": "jupyter-leaflet",
          "model_name": "LeafletMapModel",
          "model_module_version": "^0.18",
          "state": {
            "_dom_classes": [],
            "_model_module": "jupyter-leaflet",
            "_model_module_version": "^0.18",
            "_model_name": "LeafletMapModel",
            "_view_count": null,
            "_view_module": "jupyter-leaflet",
            "_view_module_version": "^0.18",
            "_view_name": "LeafletMapView",
            "bottom": 27542,
            "bounce_at_zoom_limits": true,
            "box_zoom": true,
            "center": [
              28.86601534665936,
              79.44860635753558
            ],
            "close_popup_on_click": true,
            "controls": [
              "IPY_MODEL_aebf2f2fb05d4f6e822a7ed7531c4f3b",
              "IPY_MODEL_5aa00727e2894e70bdf653550fa65138",
              "IPY_MODEL_1db0a5c1302847b3a0fe070b5986d8da",
              "IPY_MODEL_25387488c8394c418d6f46635cecfb18",
              "IPY_MODEL_cceeb916ab5e44f5a828832d390ce2ee",
              "IPY_MODEL_c7328d768d9e4fd592275aef74a6487a",
              "IPY_MODEL_69628a4621be41e2a3d953dbd00ef2db",
              "IPY_MODEL_c510c760187145d2b96e4328e1ded8c0"
            ],
            "crs": {
              "name": "EPSG3857",
              "custom": false
            },
            "default_style": "IPY_MODEL_057e13ff94e44a57a1bf79e45f9bd8ae",
            "double_click_zoom": true,
            "dragging": true,
            "dragging_style": "IPY_MODEL_0dd3e44dff3d411a8236c7f61a1d3fd7",
            "east": 83.57849121093751,
            "fullscreen": false,
            "inertia": true,
            "inertia_deceleration": 3000,
            "inertia_max_speed": 1500,
            "interpolation": "bilinear",
            "keyboard": true,
            "keyboard_pan_offset": 80,
            "keyboard_zoom_offset": 1,
            "layers": [
              "IPY_MODEL_c48275d568f747f78d4ac1a82f93e7b4",
              "IPY_MODEL_ced3a7f8067b442ea4917073e7101220",
              "IPY_MODEL_fa1f289917f840c0a4af27374dc2c13f"
            ],
            "layout": "IPY_MODEL_68f81e8455994078b6c8d482adc437ee",
            "left": 46479,
            "max_zoom": 24,
            "min_zoom": null,
            "modisdate": "2024-01-15",
            "north": 30.140376821599734,
            "options": [
              "bounce_at_zoom_limits",
              "box_zoom",
              "center",
              "close_popup_on_click",
              "double_click_zoom",
              "dragging",
              "fullscreen",
              "inertia",
              "inertia_deceleration",
              "inertia_max_speed",
              "interpolation",
              "keyboard",
              "keyboard_pan_offset",
              "keyboard_zoom_offset",
              "max_zoom",
              "min_zoom",
              "prefer_canvas",
              "scroll_wheel_zoom",
              "tap",
              "tap_tolerance",
              "touch_zoom",
              "world_copy_jump",
              "zoom",
              "zoom_animation_threshold",
              "zoom_delta",
              "zoom_snap"
            ],
            "panes": {},
            "prefer_canvas": false,
            "right": 47983,
            "scroll_wheel_zoom": true,
            "south": 27.576460076262716,
            "style": "IPY_MODEL_057e13ff94e44a57a1bf79e45f9bd8ae",
            "tap": true,
            "tap_tolerance": 15,
            "top": 27009,
            "touch_zoom": true,
            "west": 75.31677246093751,
            "window_url": "https://t4c752602tg-496ff2e9c6d22116-0-colab.googleusercontent.com/outputframe.html?vrz=colab_20240111-060117_RC01_597566451",
            "world_copy_jump": false,
            "zoom": 8,
            "zoom_animation_threshold": 4,
            "zoom_delta": 1,
            "zoom_snap": 1
          }
        },
        "aebf2f2fb05d4f6e822a7ed7531c4f3b": {
          "model_module": "jupyter-leaflet",
          "model_name": "LeafletWidgetControlModel",
          "model_module_version": "^0.18",
          "state": {
            "_model_module": "jupyter-leaflet",
            "_model_module_version": "^0.18",
            "_model_name": "LeafletWidgetControlModel",
            "_view_count": null,
            "_view_module": "jupyter-leaflet",
            "_view_module_version": "^0.18",
            "_view_name": "LeafletWidgetControlView",
            "max_height": null,
            "max_width": null,
            "min_height": null,
            "min_width": null,
            "options": [
              "position",
              "transparent_bg"
            ],
            "position": "topleft",
            "transparent_bg": false,
            "widget": "IPY_MODEL_41d1abcb86ee4ff99567f19fee4feff1"
          }
        },
        "5aa00727e2894e70bdf653550fa65138": {
          "model_module": "jupyter-leaflet",
          "model_name": "LeafletZoomControlModel",
          "model_module_version": "^0.18",
          "state": {
            "_model_module": "jupyter-leaflet",
            "_model_module_version": "^0.18",
            "_model_name": "LeafletZoomControlModel",
            "_view_count": null,
            "_view_module": "jupyter-leaflet",
            "_view_module_version": "^0.18",
            "_view_name": "LeafletZoomControlView",
            "options": [
              "position",
              "zoom_in_text",
              "zoom_in_title",
              "zoom_out_text",
              "zoom_out_title"
            ],
            "position": "topleft",
            "zoom_in_text": "+",
            "zoom_in_title": "Zoom in",
            "zoom_out_text": "-",
            "zoom_out_title": "Zoom out"
          }
        },
        "1db0a5c1302847b3a0fe070b5986d8da": {
          "model_module": "jupyter-leaflet",
          "model_name": "LeafletFullScreenControlModel",
          "model_module_version": "^0.18",
          "state": {
            "_model_module": "jupyter-leaflet",
            "_model_module_version": "^0.18",
            "_model_name": "LeafletFullScreenControlModel",
            "_view_count": null,
            "_view_module": "jupyter-leaflet",
            "_view_module_version": "^0.18",
            "_view_name": "LeafletFullScreenControlView",
            "options": [
              "position"
            ],
            "position": "topleft"
          }
        },
        "25387488c8394c418d6f46635cecfb18": {
          "model_module": "jupyter-leaflet",
          "model_name": "LeafletDrawControlModel",
          "model_module_version": "^0.18",
          "state": {
            "_model_module": "jupyter-leaflet",
            "_model_module_version": "^0.18",
            "_model_name": "LeafletDrawControlModel",
            "_view_count": null,
            "_view_module": "jupyter-leaflet",
            "_view_module_version": "^0.18",
            "_view_name": "LeafletDrawControlView",
            "circle": {},
            "circlemarker": {},
            "data": [],
            "edit": true,
            "marker": {
              "shapeOptions": {
                "color": "#3388ff"
              }
            },
            "options": [
              "position"
            ],
            "polygon": {
              "shapeOptions": {}
            },
            "polyline": {
              "shapeOptions": {}
            },
            "position": "topleft",
            "rectangle": {
              "shapeOptions": {
                "color": "#3388ff"
              }
            },
            "remove": true
          }
        },
        "cceeb916ab5e44f5a828832d390ce2ee": {
          "model_module": "jupyter-leaflet",
          "model_name": "LeafletScaleControlModel",
          "model_module_version": "^0.18",
          "state": {
            "_model_module": "jupyter-leaflet",
            "_model_module_version": "^0.18",
            "_model_name": "LeafletScaleControlModel",
            "_view_count": null,
            "_view_module": "jupyter-leaflet",
            "_view_module_version": "^0.18",
            "_view_name": "LeafletScaleControlView",
            "imperial": true,
            "max_width": 100,
            "metric": true,
            "options": [
              "imperial",
              "max_width",
              "metric",
              "position",
              "update_when_idle"
            ],
            "position": "bottomleft",
            "update_when_idle": false
          }
        },
        "c7328d768d9e4fd592275aef74a6487a": {
          "model_module": "jupyter-leaflet",
          "model_name": "LeafletMeasureControlModel",
          "model_module_version": "^0.18",
          "state": {
            "_custom_units": {},
            "_model_module": "jupyter-leaflet",
            "_model_module_version": "^0.18",
            "_model_name": "LeafletMeasureControlModel",
            "_view_count": null,
            "_view_module": "jupyter-leaflet",
            "_view_module_version": "^0.18",
            "_view_name": "LeafletMeasureControlView",
            "active_color": "orange",
            "capture_z_index": 10000,
            "completed_color": "#C8F2BE",
            "options": [
              "active_color",
              "capture_z_index",
              "completed_color",
              "popup_options",
              "position",
              "primary_area_unit",
              "primary_length_unit",
              "secondary_area_unit",
              "secondary_length_unit"
            ],
            "popup_options": {
              "className": "leaflet-measure-resultpopup",
              "autoPanPadding": [
                10,
                10
              ]
            },
            "position": "bottomleft",
            "primary_area_unit": "acres",
            "primary_length_unit": "kilometers",
            "secondary_area_unit": null,
            "secondary_length_unit": null
          }
        },
        "69628a4621be41e2a3d953dbd00ef2db": {
          "model_module": "jupyter-leaflet",
          "model_name": "LeafletWidgetControlModel",
          "model_module_version": "^0.18",
          "state": {
            "_model_module": "jupyter-leaflet",
            "_model_module_version": "^0.18",
            "_model_name": "LeafletWidgetControlModel",
            "_view_count": null,
            "_view_module": "jupyter-leaflet",
            "_view_module_version": "^0.18",
            "_view_name": "LeafletWidgetControlView",
            "max_height": null,
            "max_width": null,
            "min_height": null,
            "min_width": null,
            "options": [
              "position",
              "transparent_bg"
            ],
            "position": "topright",
            "transparent_bg": false,
            "widget": "IPY_MODEL_2c0e2d4534674e75bb0d865cc2c0d5a3"
          }
        },
        "c510c760187145d2b96e4328e1ded8c0": {
          "model_module": "jupyter-leaflet",
          "model_name": "LeafletAttributionControlModel",
          "model_module_version": "^0.18",
          "state": {
            "_model_module": "jupyter-leaflet",
            "_model_module_version": "^0.18",
            "_model_name": "LeafletAttributionControlModel",
            "_view_count": null,
            "_view_module": "jupyter-leaflet",
            "_view_module_version": "^0.18",
            "_view_name": "LeafletAttributionControlView",
            "options": [
              "position",
              "prefix"
            ],
            "position": "bottomright",
            "prefix": "ipyleaflet"
          }
        },
        "057e13ff94e44a57a1bf79e45f9bd8ae": {
          "model_module": "jupyter-leaflet",
          "model_name": "LeafletMapStyleModel",
          "model_module_version": "^0.18",
          "state": {
            "_model_module": "jupyter-leaflet",
            "_model_module_version": "^0.18",
            "_model_name": "LeafletMapStyleModel",
            "_view_count": null,
            "_view_module": "@jupyter-widgets/base",
            "_view_module_version": "1.2.0",
            "_view_name": "StyleView",
            "cursor": "grab"
          }
        },
        "0dd3e44dff3d411a8236c7f61a1d3fd7": {
          "model_module": "jupyter-leaflet",
          "model_name": "LeafletMapStyleModel",
          "model_module_version": "^0.18",
          "state": {
            "_model_module": "jupyter-leaflet",
            "_model_module_version": "^0.18",
            "_model_name": "LeafletMapStyleModel",
            "_view_count": null,
            "_view_module": "@jupyter-widgets/base",
            "_view_module_version": "1.2.0",
            "_view_name": "StyleView",
            "cursor": "move"
          }
        },
        "c48275d568f747f78d4ac1a82f93e7b4": {
          "model_module": "jupyter-leaflet",
          "model_name": "LeafletTileLayerModel",
          "model_module_version": "^0.18",
          "state": {
            "_model_module": "jupyter-leaflet",
            "_model_module_version": "^0.18",
            "_model_name": "LeafletTileLayerModel",
            "_view_count": null,
            "_view_module": "jupyter-leaflet",
            "_view_module_version": "^0.18",
            "_view_name": "LeafletTileLayerView",
            "attribution": "Esri",
            "base": true,
            "bottom": true,
            "bounds": null,
            "detect_retina": false,
            "loading": false,
            "max_native_zoom": null,
            "max_zoom": 24,
            "min_native_zoom": null,
            "min_zoom": 0,
            "name": "Esri.WorldImagery",
            "no_wrap": false,
            "opacity": 1,
            "options": [
              "attribution",
              "bounds",
              "detect_retina",
              "max_native_zoom",
              "max_zoom",
              "min_native_zoom",
              "min_zoom",
              "no_wrap",
              "tile_size",
              "tms",
              "zoom_offset"
            ],
            "pane": "",
            "popup": null,
            "popup_max_height": null,
            "popup_max_width": 300,
            "popup_min_width": 50,
            "show_loading": false,
            "subitems": [],
            "tile_size": 256,
            "tms": false,
            "url": "https://server.arcgisonline.com/ArcGIS/rest/services/World_Imagery/MapServer/tile/{z}/{y}/{x}",
            "visible": true,
            "zoom_offset": 0
          }
        },
        "68f81e8455994078b6c8d482adc437ee": {
          "model_module": "@jupyter-widgets/base",
          "model_name": "LayoutModel",
          "model_module_version": "1.2.0",
          "state": {
            "_model_module": "@jupyter-widgets/base",
            "_model_module_version": "1.2.0",
            "_model_name": "LayoutModel",
            "_view_count": null,
            "_view_module": "@jupyter-widgets/base",
            "_view_module_version": "1.2.0",
            "_view_name": "LayoutView",
            "align_content": null,
            "align_items": null,
            "align_self": null,
            "border": null,
            "bottom": null,
            "display": null,
            "flex": null,
            "flex_flow": null,
            "grid_area": null,
            "grid_auto_columns": null,
            "grid_auto_flow": null,
            "grid_auto_rows": null,
            "grid_column": null,
            "grid_gap": null,
            "grid_row": null,
            "grid_template_areas": null,
            "grid_template_columns": null,
            "grid_template_rows": null,
            "height": "400pt",
            "justify_content": null,
            "justify_items": null,
            "left": null,
            "margin": null,
            "max_height": null,
            "max_width": null,
            "min_height": null,
            "min_width": null,
            "object_fit": null,
            "object_position": null,
            "order": null,
            "overflow": null,
            "overflow_x": null,
            "overflow_y": null,
            "padding": null,
            "right": null,
            "top": null,
            "visibility": null,
            "width": "100%"
          }
        },
        "56c2961d26fb40b2891814943adf6b48": {
          "model_module": "jupyter-leaflet",
          "model_name": "LeafletMapStyleModel",
          "model_module_version": "^0.18",
          "state": {
            "_model_module": "jupyter-leaflet",
            "_model_module_version": "^0.18",
            "_model_name": "LeafletMapStyleModel",
            "_view_count": null,
            "_view_module": "@jupyter-widgets/base",
            "_view_module_version": "1.2.0",
            "_view_name": "StyleView",
            "cursor": "grab"
          }
        },
        "41d1abcb86ee4ff99567f19fee4feff1": {
          "model_module": "@jupyter-widgets/controls",
          "model_name": "HBoxModel",
          "model_module_version": "1.5.0",
          "state": {
            "_dom_classes": [
              "geemap-colab"
            ],
            "_model_module": "@jupyter-widgets/controls",
            "_model_module_version": "1.5.0",
            "_model_name": "HBoxModel",
            "_view_count": null,
            "_view_module": "@jupyter-widgets/controls",
            "_view_module_version": "1.5.0",
            "_view_name": "HBoxView",
            "box_style": "",
            "children": [
              "IPY_MODEL_552f89a6f4734f82ad7431dcb503503d"
            ],
            "layout": "IPY_MODEL_60c346c6179140f0835cd222542b90ce"
          }
        },
        "2c0e2d4534674e75bb0d865cc2c0d5a3": {
          "model_module": "@jupyter-widgets/controls",
          "model_name": "VBoxModel",
          "model_module_version": "1.5.0",
          "state": {
            "_dom_classes": [
              "geemap-colab"
            ],
            "_model_module": "@jupyter-widgets/controls",
            "_model_module_version": "1.5.0",
            "_model_name": "VBoxModel",
            "_view_count": null,
            "_view_module": "@jupyter-widgets/controls",
            "_view_module_version": "1.5.0",
            "_view_name": "VBoxView",
            "box_style": "",
            "children": [
              "IPY_MODEL_43839462898c4094b5bc10a75ebe447a"
            ],
            "layout": "IPY_MODEL_68d2bf434f3c4aad8b7ada9d6a81d107"
          }
        },
        "552f89a6f4734f82ad7431dcb503503d": {
          "model_module": "@jupyter-widgets/controls",
          "model_name": "ToggleButtonModel",
          "model_module_version": "1.5.0",
          "state": {
            "_dom_classes": [],
            "_model_module": "@jupyter-widgets/controls",
            "_model_module_version": "1.5.0",
            "_model_name": "ToggleButtonModel",
            "_view_count": null,
            "_view_module": "@jupyter-widgets/controls",
            "_view_module_version": "1.5.0",
            "_view_name": "ToggleButtonView",
            "button_style": "",
            "description": "",
            "description_tooltip": null,
            "disabled": false,
            "icon": "globe",
            "layout": "IPY_MODEL_b09dca9daa2d49fca5655d6b3f96b48f",
            "style": "IPY_MODEL_f07a6417737b4cfe9025bbdccba8ae7b",
            "tooltip": "Search location/data",
            "value": false
          }
        },
        "60c346c6179140f0835cd222542b90ce": {
          "model_module": "@jupyter-widgets/base",
          "model_name": "LayoutModel",
          "model_module_version": "1.2.0",
          "state": {
            "_model_module": "@jupyter-widgets/base",
            "_model_module_version": "1.2.0",
            "_model_name": "LayoutModel",
            "_view_count": null,
            "_view_module": "@jupyter-widgets/base",
            "_view_module_version": "1.2.0",
            "_view_name": "LayoutView",
            "align_content": null,
            "align_items": null,
            "align_self": null,
            "border": null,
            "bottom": null,
            "display": null,
            "flex": null,
            "flex_flow": null,
            "grid_area": null,
            "grid_auto_columns": null,
            "grid_auto_flow": null,
            "grid_auto_rows": null,
            "grid_column": null,
            "grid_gap": null,
            "grid_row": null,
            "grid_template_areas": null,
            "grid_template_columns": null,
            "grid_template_rows": null,
            "height": null,
            "justify_content": null,
            "justify_items": null,
            "left": null,
            "margin": null,
            "max_height": null,
            "max_width": null,
            "min_height": null,
            "min_width": null,
            "object_fit": null,
            "object_position": null,
            "order": null,
            "overflow": null,
            "overflow_x": null,
            "overflow_y": null,
            "padding": null,
            "right": null,
            "top": null,
            "visibility": null,
            "width": null
          }
        },
        "43839462898c4094b5bc10a75ebe447a": {
          "model_module": "@jupyter-widgets/controls",
          "model_name": "ToggleButtonModel",
          "model_module_version": "1.5.0",
          "state": {
            "_dom_classes": [],
            "_model_module": "@jupyter-widgets/controls",
            "_model_module_version": "1.5.0",
            "_model_name": "ToggleButtonModel",
            "_view_count": null,
            "_view_module": "@jupyter-widgets/controls",
            "_view_module_version": "1.5.0",
            "_view_name": "ToggleButtonView",
            "button_style": "",
            "description": "",
            "description_tooltip": null,
            "disabled": false,
            "icon": "wrench",
            "layout": "IPY_MODEL_168bfcd6aba0489da4cba2d183d63429",
            "style": "IPY_MODEL_30b5fe104ac143f1b5efb8a19886b2d9",
            "tooltip": "Toolbar",
            "value": false
          }
        },
        "68d2bf434f3c4aad8b7ada9d6a81d107": {
          "model_module": "@jupyter-widgets/base",
          "model_name": "LayoutModel",
          "model_module_version": "1.2.0",
          "state": {
            "_model_module": "@jupyter-widgets/base",
            "_model_module_version": "1.2.0",
            "_model_name": "LayoutModel",
            "_view_count": null,
            "_view_module": "@jupyter-widgets/base",
            "_view_module_version": "1.2.0",
            "_view_name": "LayoutView",
            "align_content": null,
            "align_items": null,
            "align_self": null,
            "border": null,
            "bottom": null,
            "display": null,
            "flex": null,
            "flex_flow": null,
            "grid_area": null,
            "grid_auto_columns": null,
            "grid_auto_flow": null,
            "grid_auto_rows": null,
            "grid_column": null,
            "grid_gap": null,
            "grid_row": null,
            "grid_template_areas": null,
            "grid_template_columns": null,
            "grid_template_rows": null,
            "height": null,
            "justify_content": null,
            "justify_items": null,
            "left": null,
            "margin": null,
            "max_height": null,
            "max_width": null,
            "min_height": null,
            "min_width": null,
            "object_fit": null,
            "object_position": null,
            "order": null,
            "overflow": null,
            "overflow_x": null,
            "overflow_y": null,
            "padding": null,
            "right": null,
            "top": null,
            "visibility": null,
            "width": null
          }
        },
        "b09dca9daa2d49fca5655d6b3f96b48f": {
          "model_module": "@jupyter-widgets/base",
          "model_name": "LayoutModel",
          "model_module_version": "1.2.0",
          "state": {
            "_model_module": "@jupyter-widgets/base",
            "_model_module_version": "1.2.0",
            "_model_name": "LayoutModel",
            "_view_count": null,
            "_view_module": "@jupyter-widgets/base",
            "_view_module_version": "1.2.0",
            "_view_name": "LayoutView",
            "align_content": null,
            "align_items": null,
            "align_self": null,
            "border": null,
            "bottom": null,
            "display": null,
            "flex": null,
            "flex_flow": null,
            "grid_area": null,
            "grid_auto_columns": null,
            "grid_auto_flow": null,
            "grid_auto_rows": null,
            "grid_column": null,
            "grid_gap": null,
            "grid_row": null,
            "grid_template_areas": null,
            "grid_template_columns": null,
            "grid_template_rows": null,
            "height": "28px",
            "justify_content": null,
            "justify_items": null,
            "left": null,
            "margin": null,
            "max_height": null,
            "max_width": null,
            "min_height": null,
            "min_width": null,
            "object_fit": null,
            "object_position": null,
            "order": null,
            "overflow": null,
            "overflow_x": null,
            "overflow_y": null,
            "padding": "0px 0px 0px 4px",
            "right": null,
            "top": null,
            "visibility": null,
            "width": "28px"
          }
        },
        "f07a6417737b4cfe9025bbdccba8ae7b": {
          "model_module": "@jupyter-widgets/controls",
          "model_name": "DescriptionStyleModel",
          "model_module_version": "1.5.0",
          "state": {
            "_model_module": "@jupyter-widgets/controls",
            "_model_module_version": "1.5.0",
            "_model_name": "DescriptionStyleModel",
            "_view_count": null,
            "_view_module": "@jupyter-widgets/base",
            "_view_module_version": "1.2.0",
            "_view_name": "StyleView",
            "description_width": ""
          }
        },
        "168bfcd6aba0489da4cba2d183d63429": {
          "model_module": "@jupyter-widgets/base",
          "model_name": "LayoutModel",
          "model_module_version": "1.2.0",
          "state": {
            "_model_module": "@jupyter-widgets/base",
            "_model_module_version": "1.2.0",
            "_model_name": "LayoutModel",
            "_view_count": null,
            "_view_module": "@jupyter-widgets/base",
            "_view_module_version": "1.2.0",
            "_view_name": "LayoutView",
            "align_content": null,
            "align_items": null,
            "align_self": null,
            "border": null,
            "bottom": null,
            "display": null,
            "flex": null,
            "flex_flow": null,
            "grid_area": null,
            "grid_auto_columns": null,
            "grid_auto_flow": null,
            "grid_auto_rows": null,
            "grid_column": null,
            "grid_gap": null,
            "grid_row": null,
            "grid_template_areas": null,
            "grid_template_columns": null,
            "grid_template_rows": null,
            "height": "28px",
            "justify_content": null,
            "justify_items": null,
            "left": null,
            "margin": null,
            "max_height": null,
            "max_width": null,
            "min_height": null,
            "min_width": null,
            "object_fit": null,
            "object_position": null,
            "order": null,
            "overflow": null,
            "overflow_x": null,
            "overflow_y": null,
            "padding": "0px 0px 0px 4px",
            "right": null,
            "top": null,
            "visibility": null,
            "width": "28px"
          }
        },
        "30b5fe104ac143f1b5efb8a19886b2d9": {
          "model_module": "@jupyter-widgets/controls",
          "model_name": "DescriptionStyleModel",
          "model_module_version": "1.5.0",
          "state": {
            "_model_module": "@jupyter-widgets/controls",
            "_model_module_version": "1.5.0",
            "_model_name": "DescriptionStyleModel",
            "_view_count": null,
            "_view_module": "@jupyter-widgets/base",
            "_view_module_version": "1.2.0",
            "_view_name": "StyleView",
            "description_width": ""
          }
        },
        "ced3a7f8067b442ea4917073e7101220": {
          "model_module": "jupyter-leaflet",
          "model_name": "LeafletTileLayerModel",
          "model_module_version": "^0.18",
          "state": {
            "_model_module": "jupyter-leaflet",
            "_model_module_version": "^0.18",
            "_model_name": "LeafletTileLayerModel",
            "_view_count": null,
            "_view_module": "jupyter-leaflet",
            "_view_module_version": "^0.18",
            "_view_name": "LeafletTileLayerView",
            "attribution": "Google Earth Engine",
            "base": false,
            "bottom": true,
            "bounds": null,
            "detect_retina": false,
            "loading": false,
            "max_native_zoom": null,
            "max_zoom": 24,
            "min_native_zoom": null,
            "min_zoom": 0,
            "name": "RGB Image",
            "no_wrap": false,
            "opacity": 1,
            "options": [
              "attribution",
              "bounds",
              "detect_retina",
              "max_native_zoom",
              "max_zoom",
              "min_native_zoom",
              "min_zoom",
              "no_wrap",
              "tile_size",
              "tms",
              "zoom_offset"
            ],
            "pane": "",
            "popup": null,
            "popup_max_height": null,
            "popup_max_width": 300,
            "popup_min_width": 50,
            "show_loading": false,
            "subitems": [],
            "tile_size": 256,
            "tms": false,
            "url": "https://earthengine.googleapis.com/v1/projects/earthengine-legacy/maps/a4fd32cd32e5fee76ffa5127acaf93ee-5e227d144fac2c485f332198de8a11ac/tiles/{z}/{x}/{y}",
            "visible": true,
            "zoom_offset": 0
          }
        },
        "fa1f289917f840c0a4af27374dc2c13f": {
          "model_module": "jupyter-leaflet",
          "model_name": "LeafletTileLayerModel",
          "model_module_version": "^0.18",
          "state": {
            "_model_module": "jupyter-leaflet",
            "_model_module_version": "^0.18",
            "_model_name": "LeafletTileLayerModel",
            "_view_count": null,
            "_view_module": "jupyter-leaflet",
            "_view_module_version": "^0.18",
            "_view_name": "LeafletTileLayerView",
            "attribution": "Google Earth Engine",
            "base": false,
            "bottom": true,
            "bounds": null,
            "detect_retina": false,
            "loading": false,
            "max_native_zoom": null,
            "max_zoom": 24,
            "min_native_zoom": null,
            "min_zoom": 0,
            "name": "SFCC Image",
            "no_wrap": false,
            "opacity": 1,
            "options": [
              "attribution",
              "bounds",
              "detect_retina",
              "max_native_zoom",
              "max_zoom",
              "min_native_zoom",
              "min_zoom",
              "no_wrap",
              "tile_size",
              "tms",
              "zoom_offset"
            ],
            "pane": "",
            "popup": null,
            "popup_max_height": null,
            "popup_max_width": 300,
            "popup_min_width": 50,
            "show_loading": false,
            "subitems": [],
            "tile_size": 256,
            "tms": false,
            "url": "https://earthengine.googleapis.com/v1/projects/earthengine-legacy/maps/214f079a29aca118f37335f5f0b471af-5ef77e3b662fc4c512098ac0e946d98e/tiles/{z}/{x}/{y}",
            "visible": true,
            "zoom_offset": 0
          }
        },
        "b6f7cb14a9374fdd9f7339b7087ae9a7": {
          "model_module": "jupyter-leaflet",
          "model_name": "LeafletMapModel",
          "model_module_version": "^0.18",
          "state": {
            "_dom_classes": [],
            "_model_module": "jupyter-leaflet",
            "_model_module_version": "^0.18",
            "_model_name": "LeafletMapModel",
            "_view_count": null,
            "_view_module": "jupyter-leaflet",
            "_view_module_version": "^0.18",
            "_view_name": "LeafletMapView",
            "bottom": 684,
            "bounce_at_zoom_limits": true,
            "box_zoom": true,
            "center": [
              40.97849378229632,
              85.84689020125734
            ],
            "close_popup_on_click": true,
            "controls": [
              "IPY_MODEL_6a3ca982d5394bcb9e03da7e49cdb7c5",
              "IPY_MODEL_5e05cdb53f964fc1b5fcf6e30aa3e9dc",
              "IPY_MODEL_b70b5ccdb73b462f9eeecec7f1c6ef73",
              "IPY_MODEL_f4c39dfe7b1b41849168728dc634de83",
              "IPY_MODEL_08465bb3b2e745e6bcf28a1d2b77a2df",
              "IPY_MODEL_dc88d6349c24463aada5904e9ebaf2ac",
              "IPY_MODEL_9483310426e842c7a9150e482518bf9f",
              "IPY_MODEL_d80f92aef2b0436e96529bdcdc64bd95"
            ],
            "crs": {
              "name": "EPSG3857",
              "custom": false
            },
            "default_style": "IPY_MODEL_fa75a72433394ca6a7d98a9b68937880",
            "double_click_zoom": true,
            "dragging": true,
            "dragging_style": "IPY_MODEL_2ecb59355bd343d2be2ee5dd9c5a55ed",
            "east": 349.45312500000006,
            "fullscreen": false,
            "inertia": true,
            "inertia_deceleration": 3000,
            "inertia_max_speed": 1500,
            "interpolation": "bilinear",
            "keyboard": true,
            "keyboard_pan_offset": 80,
            "keyboard_zoom_offset": 1,
            "layers": [
              "IPY_MODEL_003b3eef5a4e4498b11a74dbd05055f6",
              "IPY_MODEL_16a920c1ae1c4e91bfe967b5952843d2",
              "IPY_MODEL_abf0467f8be7476899b5185eeea4ed02",
              "IPY_MODEL_9fa7a5498ded4213b796aaa307faf395"
            ],
            "layout": "IPY_MODEL_e25411d6f72e40b3b12299b96ab820e5",
            "left": 6,
            "max_zoom": 24,
            "min_zoom": null,
            "modisdate": "2024-01-15",
            "north": 81.72318761821157,
            "options": [
              "bounce_at_zoom_limits",
              "box_zoom",
              "center",
              "close_popup_on_click",
              "double_click_zoom",
              "dragging",
              "fullscreen",
              "inertia",
              "inertia_deceleration",
              "inertia_max_speed",
              "interpolation",
              "keyboard",
              "keyboard_pan_offset",
              "keyboard_zoom_offset",
              "max_zoom",
              "min_zoom",
              "prefer_canvas",
              "scroll_wheel_zoom",
              "tap",
              "tap_tolerance",
              "touch_zoom",
              "world_copy_jump",
              "zoom",
              "zoom_animation_threshold",
              "zoom_delta",
              "zoom_snap"
            ],
            "panes": {},
            "prefer_canvas": false,
            "right": 1506,
            "scroll_wheel_zoom": true,
            "south": -51.6180165487737,
            "style": "IPY_MODEL_fa75a72433394ca6a7d98a9b68937880",
            "tap": true,
            "tap_tolerance": 15,
            "top": 84,
            "touch_zoom": true,
            "west": -177.89062500000003,
            "window_url": "https://t4c752602tg-496ff2e9c6d22116-0-colab.googleusercontent.com/outputframe.html?vrz=colab_20240111-060117_RC01_597566451",
            "world_copy_jump": false,
            "zoom": 2,
            "zoom_animation_threshold": 4,
            "zoom_delta": 1,
            "zoom_snap": 1
          }
        },
        "6a3ca982d5394bcb9e03da7e49cdb7c5": {
          "model_module": "jupyter-leaflet",
          "model_name": "LeafletWidgetControlModel",
          "model_module_version": "^0.18",
          "state": {
            "_model_module": "jupyter-leaflet",
            "_model_module_version": "^0.18",
            "_model_name": "LeafletWidgetControlModel",
            "_view_count": null,
            "_view_module": "jupyter-leaflet",
            "_view_module_version": "^0.18",
            "_view_name": "LeafletWidgetControlView",
            "max_height": null,
            "max_width": null,
            "min_height": null,
            "min_width": null,
            "options": [
              "position",
              "transparent_bg"
            ],
            "position": "topleft",
            "transparent_bg": false,
            "widget": "IPY_MODEL_a563ccfd3ddb4660864593921db836ed"
          }
        },
        "5e05cdb53f964fc1b5fcf6e30aa3e9dc": {
          "model_module": "jupyter-leaflet",
          "model_name": "LeafletZoomControlModel",
          "model_module_version": "^0.18",
          "state": {
            "_model_module": "jupyter-leaflet",
            "_model_module_version": "^0.18",
            "_model_name": "LeafletZoomControlModel",
            "_view_count": null,
            "_view_module": "jupyter-leaflet",
            "_view_module_version": "^0.18",
            "_view_name": "LeafletZoomControlView",
            "options": [
              "position",
              "zoom_in_text",
              "zoom_in_title",
              "zoom_out_text",
              "zoom_out_title"
            ],
            "position": "topleft",
            "zoom_in_text": "+",
            "zoom_in_title": "Zoom in",
            "zoom_out_text": "-",
            "zoom_out_title": "Zoom out"
          }
        },
        "b70b5ccdb73b462f9eeecec7f1c6ef73": {
          "model_module": "jupyter-leaflet",
          "model_name": "LeafletFullScreenControlModel",
          "model_module_version": "^0.18",
          "state": {
            "_model_module": "jupyter-leaflet",
            "_model_module_version": "^0.18",
            "_model_name": "LeafletFullScreenControlModel",
            "_view_count": null,
            "_view_module": "jupyter-leaflet",
            "_view_module_version": "^0.18",
            "_view_name": "LeafletFullScreenControlView",
            "options": [
              "position"
            ],
            "position": "topleft"
          }
        },
        "f4c39dfe7b1b41849168728dc634de83": {
          "model_module": "jupyter-leaflet",
          "model_name": "LeafletDrawControlModel",
          "model_module_version": "^0.18",
          "state": {
            "_model_module": "jupyter-leaflet",
            "_model_module_version": "^0.18",
            "_model_name": "LeafletDrawControlModel",
            "_view_count": null,
            "_view_module": "jupyter-leaflet",
            "_view_module_version": "^0.18",
            "_view_name": "LeafletDrawControlView",
            "circle": {},
            "circlemarker": {},
            "data": [],
            "edit": true,
            "marker": {
              "shapeOptions": {
                "color": "#3388ff"
              }
            },
            "options": [
              "position"
            ],
            "polygon": {
              "shapeOptions": {}
            },
            "polyline": {
              "shapeOptions": {}
            },
            "position": "topleft",
            "rectangle": {
              "shapeOptions": {
                "color": "#3388ff"
              }
            },
            "remove": true
          }
        },
        "08465bb3b2e745e6bcf28a1d2b77a2df": {
          "model_module": "jupyter-leaflet",
          "model_name": "LeafletScaleControlModel",
          "model_module_version": "^0.18",
          "state": {
            "_model_module": "jupyter-leaflet",
            "_model_module_version": "^0.18",
            "_model_name": "LeafletScaleControlModel",
            "_view_count": null,
            "_view_module": "jupyter-leaflet",
            "_view_module_version": "^0.18",
            "_view_name": "LeafletScaleControlView",
            "imperial": true,
            "max_width": 100,
            "metric": true,
            "options": [
              "imperial",
              "max_width",
              "metric",
              "position",
              "update_when_idle"
            ],
            "position": "bottomleft",
            "update_when_idle": false
          }
        },
        "dc88d6349c24463aada5904e9ebaf2ac": {
          "model_module": "jupyter-leaflet",
          "model_name": "LeafletMeasureControlModel",
          "model_module_version": "^0.18",
          "state": {
            "_custom_units": {},
            "_model_module": "jupyter-leaflet",
            "_model_module_version": "^0.18",
            "_model_name": "LeafletMeasureControlModel",
            "_view_count": null,
            "_view_module": "jupyter-leaflet",
            "_view_module_version": "^0.18",
            "_view_name": "LeafletMeasureControlView",
            "active_color": "orange",
            "capture_z_index": 10000,
            "completed_color": "#C8F2BE",
            "options": [
              "active_color",
              "capture_z_index",
              "completed_color",
              "popup_options",
              "position",
              "primary_area_unit",
              "primary_length_unit",
              "secondary_area_unit",
              "secondary_length_unit"
            ],
            "popup_options": {
              "className": "leaflet-measure-resultpopup",
              "autoPanPadding": [
                10,
                10
              ]
            },
            "position": "bottomleft",
            "primary_area_unit": "acres",
            "primary_length_unit": "kilometers",
            "secondary_area_unit": null,
            "secondary_length_unit": null
          }
        },
        "9483310426e842c7a9150e482518bf9f": {
          "model_module": "jupyter-leaflet",
          "model_name": "LeafletWidgetControlModel",
          "model_module_version": "^0.18",
          "state": {
            "_model_module": "jupyter-leaflet",
            "_model_module_version": "^0.18",
            "_model_name": "LeafletWidgetControlModel",
            "_view_count": null,
            "_view_module": "jupyter-leaflet",
            "_view_module_version": "^0.18",
            "_view_name": "LeafletWidgetControlView",
            "max_height": null,
            "max_width": null,
            "min_height": null,
            "min_width": null,
            "options": [
              "position",
              "transparent_bg"
            ],
            "position": "topright",
            "transparent_bg": false,
            "widget": "IPY_MODEL_e8749c1a3b9e4de1824d5afc4bf7cc18"
          }
        },
        "d80f92aef2b0436e96529bdcdc64bd95": {
          "model_module": "jupyter-leaflet",
          "model_name": "LeafletAttributionControlModel",
          "model_module_version": "^0.18",
          "state": {
            "_model_module": "jupyter-leaflet",
            "_model_module_version": "^0.18",
            "_model_name": "LeafletAttributionControlModel",
            "_view_count": null,
            "_view_module": "jupyter-leaflet",
            "_view_module_version": "^0.18",
            "_view_name": "LeafletAttributionControlView",
            "options": [
              "position",
              "prefix"
            ],
            "position": "bottomright",
            "prefix": "ipyleaflet"
          }
        },
        "fa75a72433394ca6a7d98a9b68937880": {
          "model_module": "jupyter-leaflet",
          "model_name": "LeafletMapStyleModel",
          "model_module_version": "^0.18",
          "state": {
            "_model_module": "jupyter-leaflet",
            "_model_module_version": "^0.18",
            "_model_name": "LeafletMapStyleModel",
            "_view_count": null,
            "_view_module": "@jupyter-widgets/base",
            "_view_module_version": "1.2.0",
            "_view_name": "StyleView",
            "cursor": "grab"
          }
        },
        "2ecb59355bd343d2be2ee5dd9c5a55ed": {
          "model_module": "jupyter-leaflet",
          "model_name": "LeafletMapStyleModel",
          "model_module_version": "^0.18",
          "state": {
            "_model_module": "jupyter-leaflet",
            "_model_module_version": "^0.18",
            "_model_name": "LeafletMapStyleModel",
            "_view_count": null,
            "_view_module": "@jupyter-widgets/base",
            "_view_module_version": "1.2.0",
            "_view_name": "StyleView",
            "cursor": "move"
          }
        },
        "003b3eef5a4e4498b11a74dbd05055f6": {
          "model_module": "jupyter-leaflet",
          "model_name": "LeafletTileLayerModel",
          "model_module_version": "^0.18",
          "state": {
            "_model_module": "jupyter-leaflet",
            "_model_module_version": "^0.18",
            "_model_name": "LeafletTileLayerModel",
            "_view_count": null,
            "_view_module": "jupyter-leaflet",
            "_view_module_version": "^0.18",
            "_view_name": "LeafletTileLayerView",
            "attribution": "&copy; <a href=\"https://www.openstreetmap.org/copyright\">OpenStreetMap</a> contributors",
            "base": true,
            "bottom": true,
            "bounds": null,
            "detect_retina": false,
            "loading": true,
            "max_native_zoom": null,
            "max_zoom": 19,
            "min_native_zoom": null,
            "min_zoom": 1,
            "name": "OpenStreetMap.Mapnik",
            "no_wrap": false,
            "opacity": 1,
            "options": [
              "attribution",
              "bounds",
              "detect_retina",
              "max_native_zoom",
              "max_zoom",
              "min_native_zoom",
              "min_zoom",
              "no_wrap",
              "tile_size",
              "tms",
              "zoom_offset"
            ],
            "pane": "",
            "popup": null,
            "popup_max_height": null,
            "popup_max_width": 300,
            "popup_min_width": 50,
            "show_loading": false,
            "subitems": [],
            "tile_size": 256,
            "tms": false,
            "url": "https://tile.openstreetmap.org/{z}/{x}/{y}.png",
            "visible": true,
            "zoom_offset": 0
          }
        },
        "e25411d6f72e40b3b12299b96ab820e5": {
          "model_module": "@jupyter-widgets/base",
          "model_name": "LayoutModel",
          "model_module_version": "1.2.0",
          "state": {
            "_model_module": "@jupyter-widgets/base",
            "_model_module_version": "1.2.0",
            "_model_name": "LayoutModel",
            "_view_count": null,
            "_view_module": "@jupyter-widgets/base",
            "_view_module_version": "1.2.0",
            "_view_name": "LayoutView",
            "align_content": null,
            "align_items": null,
            "align_self": null,
            "border": null,
            "bottom": null,
            "display": null,
            "flex": null,
            "flex_flow": null,
            "grid_area": null,
            "grid_auto_columns": null,
            "grid_auto_flow": null,
            "grid_auto_rows": null,
            "grid_column": null,
            "grid_gap": null,
            "grid_row": null,
            "grid_template_areas": null,
            "grid_template_columns": null,
            "grid_template_rows": null,
            "height": "600px",
            "justify_content": null,
            "justify_items": null,
            "left": null,
            "margin": null,
            "max_height": null,
            "max_width": null,
            "min_height": null,
            "min_width": null,
            "object_fit": null,
            "object_position": null,
            "order": null,
            "overflow": null,
            "overflow_x": null,
            "overflow_y": null,
            "padding": null,
            "right": null,
            "top": null,
            "visibility": null,
            "width": null
          }
        },
        "77f7c21a1d0b4501b8c08cd98f78393c": {
          "model_module": "jupyter-leaflet",
          "model_name": "LeafletMapStyleModel",
          "model_module_version": "^0.18",
          "state": {
            "_model_module": "jupyter-leaflet",
            "_model_module_version": "^0.18",
            "_model_name": "LeafletMapStyleModel",
            "_view_count": null,
            "_view_module": "@jupyter-widgets/base",
            "_view_module_version": "1.2.0",
            "_view_name": "StyleView",
            "cursor": "grab"
          }
        },
        "a563ccfd3ddb4660864593921db836ed": {
          "model_module": "@jupyter-widgets/controls",
          "model_name": "HBoxModel",
          "model_module_version": "1.5.0",
          "state": {
            "_dom_classes": [
              "geemap-colab"
            ],
            "_model_module": "@jupyter-widgets/controls",
            "_model_module_version": "1.5.0",
            "_model_name": "HBoxModel",
            "_view_count": null,
            "_view_module": "@jupyter-widgets/controls",
            "_view_module_version": "1.5.0",
            "_view_name": "HBoxView",
            "box_style": "",
            "children": [
              "IPY_MODEL_cfad99dc487e4effb0b1bb7ab44fa4c5"
            ],
            "layout": "IPY_MODEL_e4dcc5dbc8094741b6ff21347d881e18"
          }
        },
        "e8749c1a3b9e4de1824d5afc4bf7cc18": {
          "model_module": "@jupyter-widgets/controls",
          "model_name": "VBoxModel",
          "model_module_version": "1.5.0",
          "state": {
            "_dom_classes": [
              "geemap-colab"
            ],
            "_model_module": "@jupyter-widgets/controls",
            "_model_module_version": "1.5.0",
            "_model_name": "VBoxModel",
            "_view_count": null,
            "_view_module": "@jupyter-widgets/controls",
            "_view_module_version": "1.5.0",
            "_view_name": "VBoxView",
            "box_style": "",
            "children": [
              "IPY_MODEL_18de75f1ba6846eeba0e7e4fde0c83b5"
            ],
            "layout": "IPY_MODEL_7eecfcb7bd7c42b6a966d9ebd90a8181"
          }
        },
        "cfad99dc487e4effb0b1bb7ab44fa4c5": {
          "model_module": "@jupyter-widgets/controls",
          "model_name": "ToggleButtonModel",
          "model_module_version": "1.5.0",
          "state": {
            "_dom_classes": [],
            "_model_module": "@jupyter-widgets/controls",
            "_model_module_version": "1.5.0",
            "_model_name": "ToggleButtonModel",
            "_view_count": null,
            "_view_module": "@jupyter-widgets/controls",
            "_view_module_version": "1.5.0",
            "_view_name": "ToggleButtonView",
            "button_style": "",
            "description": "",
            "description_tooltip": null,
            "disabled": false,
            "icon": "globe",
            "layout": "IPY_MODEL_021c930c40e84e03998d3d40d56e2417",
            "style": "IPY_MODEL_766b297d37b1401e8a018b83e8c435d4",
            "tooltip": "Search location/data",
            "value": false
          }
        },
        "e4dcc5dbc8094741b6ff21347d881e18": {
          "model_module": "@jupyter-widgets/base",
          "model_name": "LayoutModel",
          "model_module_version": "1.2.0",
          "state": {
            "_model_module": "@jupyter-widgets/base",
            "_model_module_version": "1.2.0",
            "_model_name": "LayoutModel",
            "_view_count": null,
            "_view_module": "@jupyter-widgets/base",
            "_view_module_version": "1.2.0",
            "_view_name": "LayoutView",
            "align_content": null,
            "align_items": null,
            "align_self": null,
            "border": null,
            "bottom": null,
            "display": null,
            "flex": null,
            "flex_flow": null,
            "grid_area": null,
            "grid_auto_columns": null,
            "grid_auto_flow": null,
            "grid_auto_rows": null,
            "grid_column": null,
            "grid_gap": null,
            "grid_row": null,
            "grid_template_areas": null,
            "grid_template_columns": null,
            "grid_template_rows": null,
            "height": null,
            "justify_content": null,
            "justify_items": null,
            "left": null,
            "margin": null,
            "max_height": null,
            "max_width": null,
            "min_height": null,
            "min_width": null,
            "object_fit": null,
            "object_position": null,
            "order": null,
            "overflow": null,
            "overflow_x": null,
            "overflow_y": null,
            "padding": null,
            "right": null,
            "top": null,
            "visibility": null,
            "width": null
          }
        },
        "18de75f1ba6846eeba0e7e4fde0c83b5": {
          "model_module": "@jupyter-widgets/controls",
          "model_name": "ToggleButtonModel",
          "model_module_version": "1.5.0",
          "state": {
            "_dom_classes": [],
            "_model_module": "@jupyter-widgets/controls",
            "_model_module_version": "1.5.0",
            "_model_name": "ToggleButtonModel",
            "_view_count": null,
            "_view_module": "@jupyter-widgets/controls",
            "_view_module_version": "1.5.0",
            "_view_name": "ToggleButtonView",
            "button_style": "",
            "description": "",
            "description_tooltip": null,
            "disabled": false,
            "icon": "wrench",
            "layout": "IPY_MODEL_bf218c5d1fc6489889f37ce3c2706494",
            "style": "IPY_MODEL_9b1fac0feb384ad1a666af4e2caa6006",
            "tooltip": "Toolbar",
            "value": false
          }
        },
        "7eecfcb7bd7c42b6a966d9ebd90a8181": {
          "model_module": "@jupyter-widgets/base",
          "model_name": "LayoutModel",
          "model_module_version": "1.2.0",
          "state": {
            "_model_module": "@jupyter-widgets/base",
            "_model_module_version": "1.2.0",
            "_model_name": "LayoutModel",
            "_view_count": null,
            "_view_module": "@jupyter-widgets/base",
            "_view_module_version": "1.2.0",
            "_view_name": "LayoutView",
            "align_content": null,
            "align_items": null,
            "align_self": null,
            "border": null,
            "bottom": null,
            "display": null,
            "flex": null,
            "flex_flow": null,
            "grid_area": null,
            "grid_auto_columns": null,
            "grid_auto_flow": null,
            "grid_auto_rows": null,
            "grid_column": null,
            "grid_gap": null,
            "grid_row": null,
            "grid_template_areas": null,
            "grid_template_columns": null,
            "grid_template_rows": null,
            "height": null,
            "justify_content": null,
            "justify_items": null,
            "left": null,
            "margin": null,
            "max_height": null,
            "max_width": null,
            "min_height": null,
            "min_width": null,
            "object_fit": null,
            "object_position": null,
            "order": null,
            "overflow": null,
            "overflow_x": null,
            "overflow_y": null,
            "padding": null,
            "right": null,
            "top": null,
            "visibility": null,
            "width": null
          }
        },
        "021c930c40e84e03998d3d40d56e2417": {
          "model_module": "@jupyter-widgets/base",
          "model_name": "LayoutModel",
          "model_module_version": "1.2.0",
          "state": {
            "_model_module": "@jupyter-widgets/base",
            "_model_module_version": "1.2.0",
            "_model_name": "LayoutModel",
            "_view_count": null,
            "_view_module": "@jupyter-widgets/base",
            "_view_module_version": "1.2.0",
            "_view_name": "LayoutView",
            "align_content": null,
            "align_items": null,
            "align_self": null,
            "border": null,
            "bottom": null,
            "display": null,
            "flex": null,
            "flex_flow": null,
            "grid_area": null,
            "grid_auto_columns": null,
            "grid_auto_flow": null,
            "grid_auto_rows": null,
            "grid_column": null,
            "grid_gap": null,
            "grid_row": null,
            "grid_template_areas": null,
            "grid_template_columns": null,
            "grid_template_rows": null,
            "height": "28px",
            "justify_content": null,
            "justify_items": null,
            "left": null,
            "margin": null,
            "max_height": null,
            "max_width": null,
            "min_height": null,
            "min_width": null,
            "object_fit": null,
            "object_position": null,
            "order": null,
            "overflow": null,
            "overflow_x": null,
            "overflow_y": null,
            "padding": "0px 0px 0px 4px",
            "right": null,
            "top": null,
            "visibility": null,
            "width": "28px"
          }
        },
        "766b297d37b1401e8a018b83e8c435d4": {
          "model_module": "@jupyter-widgets/controls",
          "model_name": "DescriptionStyleModel",
          "model_module_version": "1.5.0",
          "state": {
            "_model_module": "@jupyter-widgets/controls",
            "_model_module_version": "1.5.0",
            "_model_name": "DescriptionStyleModel",
            "_view_count": null,
            "_view_module": "@jupyter-widgets/base",
            "_view_module_version": "1.2.0",
            "_view_name": "StyleView",
            "description_width": ""
          }
        },
        "bf218c5d1fc6489889f37ce3c2706494": {
          "model_module": "@jupyter-widgets/base",
          "model_name": "LayoutModel",
          "model_module_version": "1.2.0",
          "state": {
            "_model_module": "@jupyter-widgets/base",
            "_model_module_version": "1.2.0",
            "_model_name": "LayoutModel",
            "_view_count": null,
            "_view_module": "@jupyter-widgets/base",
            "_view_module_version": "1.2.0",
            "_view_name": "LayoutView",
            "align_content": null,
            "align_items": null,
            "align_self": null,
            "border": null,
            "bottom": null,
            "display": null,
            "flex": null,
            "flex_flow": null,
            "grid_area": null,
            "grid_auto_columns": null,
            "grid_auto_flow": null,
            "grid_auto_rows": null,
            "grid_column": null,
            "grid_gap": null,
            "grid_row": null,
            "grid_template_areas": null,
            "grid_template_columns": null,
            "grid_template_rows": null,
            "height": "28px",
            "justify_content": null,
            "justify_items": null,
            "left": null,
            "margin": null,
            "max_height": null,
            "max_width": null,
            "min_height": null,
            "min_width": null,
            "object_fit": null,
            "object_position": null,
            "order": null,
            "overflow": null,
            "overflow_x": null,
            "overflow_y": null,
            "padding": "0px 0px 0px 4px",
            "right": null,
            "top": null,
            "visibility": null,
            "width": "28px"
          }
        },
        "9b1fac0feb384ad1a666af4e2caa6006": {
          "model_module": "@jupyter-widgets/controls",
          "model_name": "DescriptionStyleModel",
          "model_module_version": "1.5.0",
          "state": {
            "_model_module": "@jupyter-widgets/controls",
            "_model_module_version": "1.5.0",
            "_model_name": "DescriptionStyleModel",
            "_view_count": null,
            "_view_module": "@jupyter-widgets/base",
            "_view_module_version": "1.2.0",
            "_view_name": "StyleView",
            "description_width": ""
          }
        },
        "16a920c1ae1c4e91bfe967b5952843d2": {
          "model_module": "jupyter-leaflet",
          "model_name": "LeafletTileLayerModel",
          "model_module_version": "^0.18",
          "state": {
            "_model_module": "jupyter-leaflet",
            "_model_module_version": "^0.18",
            "_model_name": "LeafletTileLayerModel",
            "_view_count": null,
            "_view_module": "jupyter-leaflet",
            "_view_module_version": "^0.18",
            "_view_name": "LeafletTileLayerView",
            "attribution": "Google Earth Engine",
            "base": false,
            "bottom": true,
            "bounds": null,
            "detect_retina": false,
            "loading": true,
            "max_native_zoom": null,
            "max_zoom": 24,
            "min_native_zoom": null,
            "min_zoom": 0,
            "name": "World Administrative Boundary",
            "no_wrap": false,
            "opacity": 1,
            "options": [
              "attribution",
              "bounds",
              "detect_retina",
              "max_native_zoom",
              "max_zoom",
              "min_native_zoom",
              "min_zoom",
              "no_wrap",
              "tile_size",
              "tms",
              "zoom_offset"
            ],
            "pane": "",
            "popup": null,
            "popup_max_height": null,
            "popup_max_width": 300,
            "popup_min_width": 50,
            "show_loading": false,
            "subitems": [],
            "tile_size": 256,
            "tms": false,
            "url": "https://earthengine.googleapis.com/v1/projects/earthengine-legacy/maps/9cc6e960634b5eb1530b0ec7122d4fc3-34d0855119cc455a8b6c0b9a25309b85/tiles/{z}/{x}/{y}",
            "visible": true,
            "zoom_offset": 0
          }
        },
        "abf0467f8be7476899b5185eeea4ed02": {
          "model_module": "jupyter-leaflet",
          "model_name": "LeafletTileLayerModel",
          "model_module_version": "^0.18",
          "state": {
            "_model_module": "jupyter-leaflet",
            "_model_module_version": "^0.18",
            "_model_name": "LeafletTileLayerModel",
            "_view_count": null,
            "_view_module": "jupyter-leaflet",
            "_view_module_version": "^0.18",
            "_view_name": "LeafletTileLayerView",
            "attribution": "Google Earth Engine",
            "base": false,
            "bottom": true,
            "bounds": null,
            "detect_retina": false,
            "loading": true,
            "max_native_zoom": null,
            "max_zoom": 24,
            "min_native_zoom": null,
            "min_zoom": 0,
            "name": "European Countries",
            "no_wrap": false,
            "opacity": 1,
            "options": [
              "attribution",
              "bounds",
              "detect_retina",
              "max_native_zoom",
              "max_zoom",
              "min_native_zoom",
              "min_zoom",
              "no_wrap",
              "tile_size",
              "tms",
              "zoom_offset"
            ],
            "pane": "",
            "popup": null,
            "popup_max_height": null,
            "popup_max_width": 300,
            "popup_min_width": 50,
            "show_loading": false,
            "subitems": [],
            "tile_size": 256,
            "tms": false,
            "url": "https://earthengine.googleapis.com/v1/projects/earthengine-legacy/maps/4cf6639861a34b3e29e80542d6984ddf-58f9908f80229c1ee5bca8987ea923fc/tiles/{z}/{x}/{y}",
            "visible": true,
            "zoom_offset": 0
          }
        },
        "9fa7a5498ded4213b796aaa307faf395": {
          "model_module": "jupyter-leaflet",
          "model_name": "LeafletTileLayerModel",
          "model_module_version": "^0.18",
          "state": {
            "_model_module": "jupyter-leaflet",
            "_model_module_version": "^0.18",
            "_model_name": "LeafletTileLayerModel",
            "_view_count": null,
            "_view_module": "jupyter-leaflet",
            "_view_module_version": "^0.18",
            "_view_name": "LeafletTileLayerView",
            "attribution": "Google Earth Engine",
            "base": false,
            "bottom": true,
            "bounds": null,
            "detect_retina": false,
            "loading": false,
            "max_native_zoom": null,
            "max_zoom": 24,
            "min_native_zoom": null,
            "min_zoom": 0,
            "name": "Global Population Estimates > 10 Lakhs (Asia)",
            "no_wrap": false,
            "opacity": 1,
            "options": [
              "attribution",
              "bounds",
              "detect_retina",
              "max_native_zoom",
              "max_zoom",
              "min_native_zoom",
              "min_zoom",
              "no_wrap",
              "tile_size",
              "tms",
              "zoom_offset"
            ],
            "pane": "",
            "popup": null,
            "popup_max_height": null,
            "popup_max_width": 300,
            "popup_min_width": 50,
            "show_loading": false,
            "subitems": [],
            "tile_size": 256,
            "tms": false,
            "url": "https://earthengine.googleapis.com/v1/projects/earthengine-legacy/maps/8a3a7ca0e84cd25755bb740ba792e4a9-b56962bdfb1b5fc7a43572e0b12e3403/tiles/{z}/{x}/{y}",
            "visible": true,
            "zoom_offset": 0
          }
        },
        "4b400793f7454f019dae8c0be94b38e6": {
          "model_module": "jupyter-leaflet",
          "model_name": "LeafletMapModel",
          "model_module_version": "^0.18",
          "state": {
            "_dom_classes": [],
            "_model_module": "jupyter-leaflet",
            "_model_module_version": "^0.18",
            "_model_name": "LeafletMapModel",
            "_view_count": null,
            "_view_module": "jupyter-leaflet",
            "_view_module_version": "^0.18",
            "_view_name": "LeafletMapView",
            "bottom": 3546,
            "bounce_at_zoom_limits": true,
            "box_zoom": true,
            "center": [
              31.278650218315253,
              73.73815430959054
            ],
            "close_popup_on_click": true,
            "controls": [
              "IPY_MODEL_270c99a35f99490cbe7b0103152de09d",
              "IPY_MODEL_ed3dabafd50a417b90d9d2e0f439e088",
              "IPY_MODEL_16da4265a45547af9b7daa737c73bc76",
              "IPY_MODEL_7ca303d02c0f420faa429acb6af89fcc",
              "IPY_MODEL_3fb040c151e748588fd84ead69dcb14b",
              "IPY_MODEL_6d3e590f744b4dbabe0b81b3ff892ad9",
              "IPY_MODEL_03b52fbf07724d868207794c29afa651",
              "IPY_MODEL_19642be67fed4cacb17303c3ae3a39f7"
            ],
            "crs": {
              "name": "EPSG3857",
              "custom": false
            },
            "default_style": "IPY_MODEL_918383d8b97f4953ab9f9c3aae6dea7e",
            "double_click_zoom": true,
            "dragging": true,
            "dragging_style": "IPY_MODEL_d7c8246bae5248c4a48baa91c59dcb55",
            "east": 100.15136718750001,
            "fullscreen": false,
            "inertia": true,
            "inertia_deceleration": 3000,
            "inertia_max_speed": 1500,
            "interpolation": "bilinear",
            "keyboard": true,
            "keyboard_pan_offset": 80,
            "keyboard_zoom_offset": 1,
            "layers": [
              "IPY_MODEL_c4c7accff8684cfca412798eae70371c",
              "IPY_MODEL_e4eb8dbf3cbb4bb7add446187a77e603"
            ],
            "layout": "IPY_MODEL_b320ddc078b249e8ad628aa52670dab4",
            "left": 5172,
            "max_zoom": 24,
            "min_zoom": null,
            "modisdate": "2024-01-15",
            "north": 38.47939467327645,
            "options": [
              "bounce_at_zoom_limits",
              "box_zoom",
              "center",
              "close_popup_on_click",
              "double_click_zoom",
              "dragging",
              "fullscreen",
              "inertia",
              "inertia_deceleration",
              "inertia_max_speed",
              "interpolation",
              "keyboard",
              "keyboard_pan_offset",
              "keyboard_zoom_offset",
              "max_zoom",
              "min_zoom",
              "prefer_canvas",
              "scroll_wheel_zoom",
              "tap",
              "tap_tolerance",
              "touch_zoom",
              "world_copy_jump",
              "zoom",
              "zoom_animation_threshold",
              "zoom_delta",
              "zoom_snap"
            ],
            "panes": {},
            "prefer_canvas": false,
            "right": 6375,
            "scroll_wheel_zoom": true,
            "south": 23.483400654325642,
            "style": "IPY_MODEL_918383d8b97f4953ab9f9c3aae6dea7e",
            "tap": true,
            "tap_tolerance": 15,
            "top": 3146,
            "touch_zoom": true,
            "west": 47.28515625000001,
            "window_url": "https://t4c752602tg-496ff2e9c6d22116-0-colab.googleusercontent.com/outputframe.html?vrz=colab_20240111-060117_RC01_597566451",
            "world_copy_jump": false,
            "zoom": 5,
            "zoom_animation_threshold": 4,
            "zoom_delta": 1,
            "zoom_snap": 1
          }
        },
        "270c99a35f99490cbe7b0103152de09d": {
          "model_module": "jupyter-leaflet",
          "model_name": "LeafletWidgetControlModel",
          "model_module_version": "^0.18",
          "state": {
            "_model_module": "jupyter-leaflet",
            "_model_module_version": "^0.18",
            "_model_name": "LeafletWidgetControlModel",
            "_view_count": null,
            "_view_module": "jupyter-leaflet",
            "_view_module_version": "^0.18",
            "_view_name": "LeafletWidgetControlView",
            "max_height": null,
            "max_width": null,
            "min_height": null,
            "min_width": null,
            "options": [
              "position",
              "transparent_bg"
            ],
            "position": "topleft",
            "transparent_bg": false,
            "widget": "IPY_MODEL_c9a9f21b24ba4711803c3457f4b86ec1"
          }
        },
        "ed3dabafd50a417b90d9d2e0f439e088": {
          "model_module": "jupyter-leaflet",
          "model_name": "LeafletZoomControlModel",
          "model_module_version": "^0.18",
          "state": {
            "_model_module": "jupyter-leaflet",
            "_model_module_version": "^0.18",
            "_model_name": "LeafletZoomControlModel",
            "_view_count": null,
            "_view_module": "jupyter-leaflet",
            "_view_module_version": "^0.18",
            "_view_name": "LeafletZoomControlView",
            "options": [
              "position",
              "zoom_in_text",
              "zoom_in_title",
              "zoom_out_text",
              "zoom_out_title"
            ],
            "position": "topleft",
            "zoom_in_text": "+",
            "zoom_in_title": "Zoom in",
            "zoom_out_text": "-",
            "zoom_out_title": "Zoom out"
          }
        },
        "16da4265a45547af9b7daa737c73bc76": {
          "model_module": "jupyter-leaflet",
          "model_name": "LeafletFullScreenControlModel",
          "model_module_version": "^0.18",
          "state": {
            "_model_module": "jupyter-leaflet",
            "_model_module_version": "^0.18",
            "_model_name": "LeafletFullScreenControlModel",
            "_view_count": null,
            "_view_module": "jupyter-leaflet",
            "_view_module_version": "^0.18",
            "_view_name": "LeafletFullScreenControlView",
            "options": [
              "position"
            ],
            "position": "topleft"
          }
        },
        "7ca303d02c0f420faa429acb6af89fcc": {
          "model_module": "jupyter-leaflet",
          "model_name": "LeafletDrawControlModel",
          "model_module_version": "^0.18",
          "state": {
            "_model_module": "jupyter-leaflet",
            "_model_module_version": "^0.18",
            "_model_name": "LeafletDrawControlModel",
            "_view_count": null,
            "_view_module": "jupyter-leaflet",
            "_view_module_version": "^0.18",
            "_view_name": "LeafletDrawControlView",
            "circle": {},
            "circlemarker": {},
            "data": [
              {
                "type": "Feature",
                "properties": {
                  "style": {
                    "icon": {
                      "options": {
                        "iconUrl": "data:image/png;base64,iVBORw0KGgoAAAANSUhEUgAAABkAAAApCAYAAADAk4LOAAAFgUlEQVR4Aa1XA5BjWRTN2oW17d3YaZtr2962HUzbDNpjszW24mRt28p47v7zq/bXZtrp/lWnXr337j3nPCe85NcypgSFdugCpW5YoDAMRaIMqRi6aKq5E3YqDQO3qAwjVWrD8Ncq/RBpykd8oZUb/kaJutow8r1aP9II0WmLKLIsJyv1w/kqw9Ch2MYdB++12Onxee/QMwvf4/Dk/Lfp/i4nxTXtOoQ4pW5Aj7wpici1A9erdAN2OH64x8OSP9j3Ft3b7aWkTg/Fm91siTra0f9on5sQr9INejH6CUUUpavjFNq1B+Oadhxmnfa8RfEmN8VNAsQhPqF55xHkMzz3jSmChWU6f7/XZKNH+9+hBLOHYozuKQPxyMPUKkrX/K0uWnfFaJGS1QPRtZsOPtr3NsW0uyh6NNCOkU3Yz+bXbT3I8G3xE5EXLXtCXbbqwCO9zPQYPRTZ5vIDXD7U+w7rFDEoUUf7ibHIR4y6bLVPXrz8JVZEql13trxwue/uDivd3fkWRbS6/IA2bID4uk0UpF1N8qLlbBlXs4Ee7HLTfV1j54APvODnSfOWBqtKVvjgLKzF5YdEk5ewRkGlK0i33Eofffc7HT56jD7/6U+qH3Cx7SBLNntH5YIPvODnyfIXZYRVDPqgHtLs5ABHD3YzLuespb7t79FY34DjMwrVrcTuwlT55YMPvOBnRrJ4VXTdNnYug5ucHLBjEpt30701A3Ts+HEa73u6dT3FNWwflY86eMHPk+Yu+i6pzUpRrW7SNDg5JHR4KapmM5Wv2E8Tfcb1HoqqHMHU+uWDD7zg54mz5/2BSnizi9T1Dg4QQXLToGNCkb6tb1NU+QAlGr1++eADrzhn/u8Q2YZhQVlZ5+CAOtqfbhmaUCS1ezNFVm2imDbPmPng5wmz+gwh+oHDce0eUtQ6OGDIyR0uUhUsoO3vfDmmgOezH0mZN59x7MBi++WDL1g/eEiU3avlidO671bkLfwbw5XV2P8Pzo0ydy4t2/0eu33xYSOMOD8hTf4CrBtGMSoXfPLchX+J0ruSePw3LZeK0juPJbYzrhkH0io7B3k164hiGvawhOKMLkrQLyVpZg8rHFW7E2uHOL888IBPlNZ1FPzstSJM694fWr6RwpvcJK60+0HCILTBzZLFNdtAzJaohze60T8qBzyh5ZuOg5e7uwQppofEmf2++DYvmySqGBuKaicF1blQjhuHdvCIMvp8whTTfZzI7RldpwtSzL+F1+wkdZ2TBOW2gIF88PBTzD/gpeREAMEbxnJcaJHNHrpzji0gQCS6hdkEeYt9DF/2qPcEC8RM28Hwmr3sdNyht00byAut2k3gufWNtgtOEOFGUwcXWNDbdNbpgBGxEvKkOQsxivJx33iow0Vw5S6SVTrpVq11ysA2Rp7gTfPfktc6zhtXBBC+adRLshf6sG2RfHPZ5EAc4sVZ83yCN00Fk/4kggu40ZTvIEm5g24qtU4KjBrx/BTTH8ifVASAG7gKrnWxJDcU7x8X6Ecczhm3o6YicvsLXWfh3Ch1W0k8x0nXF+0fFxgt4phz8QvypiwCCFKMqXCnqXExjq10beH+UUA7+nG6mdG/Pu0f3LgFcGrl2s0kNNjpmoJ9o4B29CMO8dMT4Q5ox8uitF6fqsrJOr8qnwNbRzv6hSnG5wP+64C7h9lp30hKNtKdWjtdkbuPA19nJ7Tz3zR/ibgARbhb4AlhavcBebmTHcFl2fvYEnW0ox9xMxKBS8btJ+KiEbq9zA4RthQXDhPa0T9TEe69gWupwc6uBUphquXgf+/FrIjweHQS4/pduMe5ERUMHUd9xv8ZR98CxkS4F2n3EUrUZ10EYNw7BWm9x1GiPssi3GgiGRDKWRYZfXlON+dfNbM+GgIwYdwAAAAASUVORK5CYII=",
                        "iconRetinaUrl": "data:image/png;base64,iVBORw0KGgoAAAANSUhEUgAAADIAAABSCAMAAAAhFXfZAAAC91BMVEVMaXEzeak2f7I4g7g3g7cua5gzeKg8hJo3grY4g7c3grU0gLI2frE0daAubJc2gbQwd6QzeKk2gLMtd5sxdKIua5g1frA2f7IydaM0e6w2fq41fK01eqo3grgubJgta5cxdKI1f7AydaQydaMxc6EubJgvbJkwcZ4ubZkwcJwubZgubJcydqUydKIxapgubJctbJcubZcubJcvbJYubJcvbZkubJctbJctbZcubJg2f7AubJcrbZcubJcubJcua5g3grY0fq8ubJcubJdEkdEwhsw6i88vhswuhcsuhMtBjMgthMsrg8srgss6is8qgcs8i9A9iMYtg8spgcoogMo7hcMngMonf8olfso4gr8kfck5iM8jfMk4iM8he8k1fro7itAgesk2hs8eecgzfLcofssdeMg0hc4cd8g2hcsxeLQbdsgZdcgxeLImfcszhM0vda4xgckzhM4xg84wf8Yxgs4udKsvfcQucqhUndROmdM1fK0wcZ8vb5w0eqpQm9MzeKhXoNVcpdYydKNWn9VZotVKltJFjsIwcJ1Rms9OlslLmtH///8+kc9epdYzd6dbo9VHkMM2f7FHmNBClM8ydqVcpNY9hro3gLM9hLczealQmcw3fa46f7A8gLMxc6I3eagyc6FIldJMl9JSnNRSntNNl9JPnNJFi75UnM9ZodVKksg8kM45jc09e6ZHltFBk883gbRBh7pDk9EwcaBzn784g7dKkcY2i81Om9M7j85Llc81is09g7Q4grY/j9A0eqxKmdFFltBEjcXf6fFImdBCiLxJl9FGlNFBi78yiMxVndEvbpo6js74+vx+psPP3+o/ks5HkcpGmNCjwdZCkNDM3ehYoNJEls+lxNkxh8xHks0+jdC1zd5Lg6r+/v/H2ufz9/o3jM3t8/edvdM/k89Th61OiLBSjbZklbaTt9BfptdjmL1AicBHj8hGk9FAgK1dkLNTjLRekrdClc/k7fM0icy0y9tgp9c4jc2NtM9Dlc8zicxeXZn3AAAAQ3RSTlMAHDdTb4yPA+LtnEQmC4L2EmHqB7XA0d0sr478x4/Yd5i1zOfyPkf1sLVq4Nh3FvjxopQ2/STNuFzUwFIwxKaejILpIBEV9wAABhVJREFUeF6s1NdyFEcYBeBeoQIhRAkLlRDGrhIgY3BJL8CVeKzuyXFzzjkn5ZxzzuScg3PO8cKzu70JkO0LfxdTU//pM9vTu7Xgf6KqOVTb9X7toRrVEfBf1HTVjZccrT/2by1VV928Yty9ZbVuucdz90frG8DBjl9pVApbOstvmMuvVgaNXSfAAd6pGxpy6yxf5ph43pS/4f3uoaGm2rdu72S9xzOvMymkZFq/ptDrk90mhW7e4zl7HLzhxGWPR20xmSxJ/VqldG5m9XhaVOA1DadsNh3Pu5L2N6QtPO/32JpqQBVVk20oy/Pi2s23WEvyfHbe1thadVQttvm7Llf65gGmXK67XtupyoM7HQhmXdLS8oGWJNeOJ3C5fG5XCEJnkez3/oFdsvgJ4l2ANZwhrJKk/7OSXa+3Vw2WJMlKnGkobouYk6T0TyX30klOUnTD9HJ5qpckL3EW/w4XF3Xd0FGywXUrstrclVsqz5Pd/sXFYyDnPdrLcQODmGOK47IZb4CmibmMn+MYRzFZ5jg33ZL/EJrWcszHmANy3ARBK/IXtciJy8VsitPSdE3uuHxzougojcUdr8/32atnz/ev3f/K5wtpxUTpcaI45zusVDpYtZi+jg0oU9b3x74h7+n9ABvYEZeKaVq0sh0AtLKsFtqNBdeT0MrSzwwlq9+x6xAO4tgOtSzbCjrNQQiNvQUbUEubvzBUeGw26yDCsRHCoLkTHDa7IdOLIThs/gHvChszh2CimE8peRs47cxANI0lYNB5y1DljpOF0IhzBDPOZnDOqYYbeGKECbPzWnXludPphw5c2YBq5zlwXphIbO4VDCZ0gnPfUO1TwZoYwAs2ExPCedAu9DAjfQUjzITQb3jNj0KG2Sgt6BHaQUdYzWz+XmBktOHwanXjaSTcwwziBcuMOtwBmqPrTOxFQR/DRKKPqyur0aiW6cULYsx6tBm0jXpR/AUWR6HRq9WVW6MRhIq5jLyjbaCTDCijyYJNpCajdyobP/eTw0iexBAKkJ3gA5KcQb2zBXsIBckn+xVv8jkZSaEFHE+jFEleAEfayRU0MouNoBmB/L50Ai/HSLIHxcrpCvnhSQAuakKp2C/YbCylJjXRVy/z3+Kv/RrNcCo+WUzlVEhzKffnTQnxeN9fWF88fiNCUdSTsaufaChKWInHeysygfpIqagoakW+vV20J8uyl6TyNKEZWV4oRSPyCkWpgOLSbkCObT8o2r6tlG58HQquf6O0v50tB7JM7F4EORd2dx/K0w/KHsVkLPaoYrwgP/y7krr3SSMA4zj+OBgmjYkxcdIJQyQRKgg2viX9Hddi9UBb29LrKR7CVVEEEXWojUkXNyfTNDE14W9gbHJNuhjDettN3ZvbOvdOqCD3Jp/9l+/wJE+9PkYGjx/fqkys3S2rMozM/o2106rfMUINo6hVqz+eu/hd1c4xTg0TAfy5kV+4UG6+IthHTU9woWmxuKNbTfuCSfovBCxq7EtHqvYL4Sm6F8GVxsSXHMQ07TOi1DKtZxjWaaIyi4CXWjxPccUw8WVbMYY5wxC1mzEyXMJWkllpRloi+Kkoq69sxBTlElF6aAxYUbjXNlhlDZilDnM4U5SlN5biRsRHnbx3mbeWjEh4mEyiuJDl5XcWVmX5GvNkFgLWZM5qwsop4/AWfLhU1cR7k1VVvcYCWRkOI6Xy5gmnphCYIkvzuNYzHzosq2oNk2RtSs8khfUOfHIDgR6ysYBaMpl4uEgk2U/oJTs9AaTSwma7dT69geAE2ZpEjUsn2ieJNHeKfrI3EcAGJ2ZaNgVuC8EBctCLc57P5u5led6IOBkIYkuQMrmmjChs4VkfOerHqSBkPzZlhe06RslZ3zMjk2sscqKwY0RcjKK+LWbzd7KiHhkncs/siFJ+V5eXxD34B8nVuJEpGJNmxN2gH3vSvp7J70tF+D1Ej8qUJD1TkErAND2GZwTFg/LubvmgiBG3SOvdlsqFQrkEzJCL1rstlnVFROixZoDDSuXQFHESwVGlcuQcMb/b42NgjLowh5MTDFE3vNB5qStRIErdCQEh6pLPR92anSUb/wAIhldAaDMpGgAAAABJRU5ErkJggg==",
                        "iconSize": [
                          25,
                          40
                        ],
                        "iconAnchor": [
                          12,
                          41
                        ],
                        "shadowUrl": "data:image/png;base64,iVBORw0KGgoAAAANSUhEUgAAACkAAAApCAQAAAACach9AAACMUlEQVR4Ae3ShY7jQBAE0Aoz/f9/HTMzhg1zrdKUrJbdx+Kd2nD8VNudfsL/Th///dyQN2TH6f3y/BGpC379rV+S+qqetBOxImNQXL8JCAr2V4iMQXHGNJxeCfZXhSRBcQMfvkOWUdtfzlLgAENmZDcmo2TVmt8OSM2eXxBp3DjHSMFutqS7SbmemzBiR+xpKCNUIRkdkkYxhAkyGoBvyQFEJEefwSmmvBfJuJ6aKqKWnAkvGZOaZXTUgFqYULWNSHUckZuR1HIIimUExutRxwzOLROIG4vKmCKQt364mIlhSyzAf1m9lHZHJZrlAOMMztRRiKimp/rpdJDc9Awry5xTZCte7FHtuS8wJgeYGrex28xNTd086Dik7vUMscQOa8y4DoGtCCSkAKlNwpgNtphjrC6MIHUkR6YWxxs6Sc5xqn222mmCRFzIt8lEdKx+ikCtg91qS2WpwVfBelJCiQJwvzixfI9cxZQWgiSJelKnwBElKYtDOb2MFbhmUigbReQBV0Cg4+qMXSxXSyGUn4UbF8l+7qdSGnTC0XLCmahIgUHLhLOhpVCtw4CzYXvLQWQbJNmxoCsOKAxSgBJno75avolkRw8iIAFcsdc02e9iyCd8tHwmeSSoKTowIgvscSGZUOA7PuCN5b2BX9mQM7S0wYhMNU74zgsPBj3HU7wguAfnxxjFQGBE6pwN+GjME9zHY7zGp8wVxMShYX9NXvEWD3HbwJf4giO4CFIQxXScH1/TM+04kkBiAAAAAElFTkSuQmCC",
                        "shadowSize": [
                          40,
                          40
                        ],
                        "shadowAnchor": [
                          12,
                          41
                        ],
                        "popupAnchor": [
                          1,
                          -34
                        ],
                        "tooltipAnchor": [
                          16,
                          -28
                        ]
                      },
                      "_initHooksCalled": true,
                      "_needsInit": false
                    },
                    "rotationOrigin": "12px 41px",
                    "rotationAngle": 0
                  }
                },
                "geometry": {
                  "type": "Point",
                  "coordinates": [
                    79.764714,
                    28.57467
                  ]
                }
              }
            ],
            "edit": true,
            "marker": {
              "shapeOptions": {
                "color": "#3388ff"
              }
            },
            "options": [
              "position"
            ],
            "polygon": {
              "shapeOptions": {}
            },
            "polyline": {
              "shapeOptions": {}
            },
            "position": "topleft",
            "rectangle": {
              "shapeOptions": {
                "color": "#3388ff"
              }
            },
            "remove": true
          }
        },
        "3fb040c151e748588fd84ead69dcb14b": {
          "model_module": "jupyter-leaflet",
          "model_name": "LeafletScaleControlModel",
          "model_module_version": "^0.18",
          "state": {
            "_model_module": "jupyter-leaflet",
            "_model_module_version": "^0.18",
            "_model_name": "LeafletScaleControlModel",
            "_view_count": null,
            "_view_module": "jupyter-leaflet",
            "_view_module_version": "^0.18",
            "_view_name": "LeafletScaleControlView",
            "imperial": true,
            "max_width": 100,
            "metric": true,
            "options": [
              "imperial",
              "max_width",
              "metric",
              "position",
              "update_when_idle"
            ],
            "position": "bottomleft",
            "update_when_idle": false
          }
        },
        "6d3e590f744b4dbabe0b81b3ff892ad9": {
          "model_module": "jupyter-leaflet",
          "model_name": "LeafletMeasureControlModel",
          "model_module_version": "^0.18",
          "state": {
            "_custom_units": {},
            "_model_module": "jupyter-leaflet",
            "_model_module_version": "^0.18",
            "_model_name": "LeafletMeasureControlModel",
            "_view_count": null,
            "_view_module": "jupyter-leaflet",
            "_view_module_version": "^0.18",
            "_view_name": "LeafletMeasureControlView",
            "active_color": "orange",
            "capture_z_index": 10000,
            "completed_color": "#C8F2BE",
            "options": [
              "active_color",
              "capture_z_index",
              "completed_color",
              "popup_options",
              "position",
              "primary_area_unit",
              "primary_length_unit",
              "secondary_area_unit",
              "secondary_length_unit"
            ],
            "popup_options": {
              "className": "leaflet-measure-resultpopup",
              "autoPanPadding": [
                10,
                10
              ]
            },
            "position": "bottomleft",
            "primary_area_unit": "acres",
            "primary_length_unit": "kilometers",
            "secondary_area_unit": null,
            "secondary_length_unit": null
          }
        },
        "03b52fbf07724d868207794c29afa651": {
          "model_module": "jupyter-leaflet",
          "model_name": "LeafletWidgetControlModel",
          "model_module_version": "^0.18",
          "state": {
            "_model_module": "jupyter-leaflet",
            "_model_module_version": "^0.18",
            "_model_name": "LeafletWidgetControlModel",
            "_view_count": null,
            "_view_module": "jupyter-leaflet",
            "_view_module_version": "^0.18",
            "_view_name": "LeafletWidgetControlView",
            "max_height": null,
            "max_width": null,
            "min_height": null,
            "min_width": null,
            "options": [
              "position",
              "transparent_bg"
            ],
            "position": "topright",
            "transparent_bg": false,
            "widget": "IPY_MODEL_0a09f08772d540dcbf4b0377ad0889e7"
          }
        },
        "19642be67fed4cacb17303c3ae3a39f7": {
          "model_module": "jupyter-leaflet",
          "model_name": "LeafletAttributionControlModel",
          "model_module_version": "^0.18",
          "state": {
            "_model_module": "jupyter-leaflet",
            "_model_module_version": "^0.18",
            "_model_name": "LeafletAttributionControlModel",
            "_view_count": null,
            "_view_module": "jupyter-leaflet",
            "_view_module_version": "^0.18",
            "_view_name": "LeafletAttributionControlView",
            "options": [
              "position",
              "prefix"
            ],
            "position": "bottomright",
            "prefix": "ipyleaflet"
          }
        },
        "918383d8b97f4953ab9f9c3aae6dea7e": {
          "model_module": "jupyter-leaflet",
          "model_name": "LeafletMapStyleModel",
          "model_module_version": "^0.18",
          "state": {
            "_model_module": "jupyter-leaflet",
            "_model_module_version": "^0.18",
            "_model_name": "LeafletMapStyleModel",
            "_view_count": null,
            "_view_module": "@jupyter-widgets/base",
            "_view_module_version": "1.2.0",
            "_view_name": "StyleView",
            "cursor": "grab"
          }
        },
        "d7c8246bae5248c4a48baa91c59dcb55": {
          "model_module": "jupyter-leaflet",
          "model_name": "LeafletMapStyleModel",
          "model_module_version": "^0.18",
          "state": {
            "_model_module": "jupyter-leaflet",
            "_model_module_version": "^0.18",
            "_model_name": "LeafletMapStyleModel",
            "_view_count": null,
            "_view_module": "@jupyter-widgets/base",
            "_view_module_version": "1.2.0",
            "_view_name": "StyleView",
            "cursor": "move"
          }
        },
        "c4c7accff8684cfca412798eae70371c": {
          "model_module": "jupyter-leaflet",
          "model_name": "LeafletTileLayerModel",
          "model_module_version": "^0.18",
          "state": {
            "_model_module": "jupyter-leaflet",
            "_model_module_version": "^0.18",
            "_model_name": "LeafletTileLayerModel",
            "_view_count": null,
            "_view_module": "jupyter-leaflet",
            "_view_module_version": "^0.18",
            "_view_name": "LeafletTileLayerView",
            "attribution": "&copy; <a href=\"https://www.openstreetmap.org/copyright\">OpenStreetMap</a> contributors",
            "base": true,
            "bottom": true,
            "bounds": null,
            "detect_retina": false,
            "loading": false,
            "max_native_zoom": null,
            "max_zoom": 19,
            "min_native_zoom": null,
            "min_zoom": 1,
            "name": "OpenStreetMap.Mapnik",
            "no_wrap": false,
            "opacity": 1,
            "options": [
              "attribution",
              "bounds",
              "detect_retina",
              "max_native_zoom",
              "max_zoom",
              "min_native_zoom",
              "min_zoom",
              "no_wrap",
              "tile_size",
              "tms",
              "zoom_offset"
            ],
            "pane": "",
            "popup": null,
            "popup_max_height": null,
            "popup_max_width": 300,
            "popup_min_width": 50,
            "show_loading": false,
            "subitems": [],
            "tile_size": 256,
            "tms": false,
            "url": "https://tile.openstreetmap.org/{z}/{x}/{y}.png",
            "visible": true,
            "zoom_offset": 0
          }
        },
        "b320ddc078b249e8ad628aa52670dab4": {
          "model_module": "@jupyter-widgets/base",
          "model_name": "LayoutModel",
          "model_module_version": "1.2.0",
          "state": {
            "_model_module": "@jupyter-widgets/base",
            "_model_module_version": "1.2.0",
            "_model_name": "LayoutModel",
            "_view_count": null,
            "_view_module": "@jupyter-widgets/base",
            "_view_module_version": "1.2.0",
            "_view_name": "LayoutView",
            "align_content": null,
            "align_items": null,
            "align_self": null,
            "border": null,
            "bottom": null,
            "display": null,
            "flex": null,
            "flex_flow": null,
            "grid_area": null,
            "grid_auto_columns": null,
            "grid_auto_flow": null,
            "grid_auto_rows": null,
            "grid_column": null,
            "grid_gap": null,
            "grid_row": null,
            "grid_template_areas": null,
            "grid_template_columns": null,
            "grid_template_rows": null,
            "height": "300pt",
            "justify_content": null,
            "justify_items": null,
            "left": null,
            "margin": null,
            "max_height": null,
            "max_width": null,
            "min_height": null,
            "min_width": null,
            "object_fit": null,
            "object_position": null,
            "order": null,
            "overflow": null,
            "overflow_x": null,
            "overflow_y": null,
            "padding": null,
            "right": null,
            "top": null,
            "visibility": null,
            "width": "80%"
          }
        },
        "615d05a92fa94d518273ff77a787078b": {
          "model_module": "jupyter-leaflet",
          "model_name": "LeafletMapStyleModel",
          "model_module_version": "^0.18",
          "state": {
            "_model_module": "jupyter-leaflet",
            "_model_module_version": "^0.18",
            "_model_name": "LeafletMapStyleModel",
            "_view_count": null,
            "_view_module": "@jupyter-widgets/base",
            "_view_module_version": "1.2.0",
            "_view_name": "StyleView",
            "cursor": "grab"
          }
        },
        "c9a9f21b24ba4711803c3457f4b86ec1": {
          "model_module": "@jupyter-widgets/controls",
          "model_name": "HBoxModel",
          "model_module_version": "1.5.0",
          "state": {
            "_dom_classes": [
              "geemap-colab"
            ],
            "_model_module": "@jupyter-widgets/controls",
            "_model_module_version": "1.5.0",
            "_model_name": "HBoxModel",
            "_view_count": null,
            "_view_module": "@jupyter-widgets/controls",
            "_view_module_version": "1.5.0",
            "_view_name": "HBoxView",
            "box_style": "",
            "children": [
              "IPY_MODEL_c651daecd79c4d12b85ed6748d2724f3"
            ],
            "layout": "IPY_MODEL_f95dccca48b1494299004531d310efd0"
          }
        },
        "0a09f08772d540dcbf4b0377ad0889e7": {
          "model_module": "@jupyter-widgets/controls",
          "model_name": "VBoxModel",
          "model_module_version": "1.5.0",
          "state": {
            "_dom_classes": [
              "geemap-colab"
            ],
            "_model_module": "@jupyter-widgets/controls",
            "_model_module_version": "1.5.0",
            "_model_name": "VBoxModel",
            "_view_count": null,
            "_view_module": "@jupyter-widgets/controls",
            "_view_module_version": "1.5.0",
            "_view_name": "VBoxView",
            "box_style": "",
            "children": [
              "IPY_MODEL_1274f49bef7e4e29b0be3ff9568a8b6e"
            ],
            "layout": "IPY_MODEL_977cadd148e54e8fbac7f9dd72e253d9"
          }
        },
        "c651daecd79c4d12b85ed6748d2724f3": {
          "model_module": "@jupyter-widgets/controls",
          "model_name": "ToggleButtonModel",
          "model_module_version": "1.5.0",
          "state": {
            "_dom_classes": [],
            "_model_module": "@jupyter-widgets/controls",
            "_model_module_version": "1.5.0",
            "_model_name": "ToggleButtonModel",
            "_view_count": null,
            "_view_module": "@jupyter-widgets/controls",
            "_view_module_version": "1.5.0",
            "_view_name": "ToggleButtonView",
            "button_style": "",
            "description": "",
            "description_tooltip": null,
            "disabled": false,
            "icon": "globe",
            "layout": "IPY_MODEL_35a61fc89b1547bba8f416501daed0ec",
            "style": "IPY_MODEL_3ba9e299a94a47e885c393b1c994a97c",
            "tooltip": "Search location/data",
            "value": false
          }
        },
        "f95dccca48b1494299004531d310efd0": {
          "model_module": "@jupyter-widgets/base",
          "model_name": "LayoutModel",
          "model_module_version": "1.2.0",
          "state": {
            "_model_module": "@jupyter-widgets/base",
            "_model_module_version": "1.2.0",
            "_model_name": "LayoutModel",
            "_view_count": null,
            "_view_module": "@jupyter-widgets/base",
            "_view_module_version": "1.2.0",
            "_view_name": "LayoutView",
            "align_content": null,
            "align_items": null,
            "align_self": null,
            "border": null,
            "bottom": null,
            "display": null,
            "flex": null,
            "flex_flow": null,
            "grid_area": null,
            "grid_auto_columns": null,
            "grid_auto_flow": null,
            "grid_auto_rows": null,
            "grid_column": null,
            "grid_gap": null,
            "grid_row": null,
            "grid_template_areas": null,
            "grid_template_columns": null,
            "grid_template_rows": null,
            "height": null,
            "justify_content": null,
            "justify_items": null,
            "left": null,
            "margin": null,
            "max_height": null,
            "max_width": null,
            "min_height": null,
            "min_width": null,
            "object_fit": null,
            "object_position": null,
            "order": null,
            "overflow": null,
            "overflow_x": null,
            "overflow_y": null,
            "padding": null,
            "right": null,
            "top": null,
            "visibility": null,
            "width": null
          }
        },
        "1274f49bef7e4e29b0be3ff9568a8b6e": {
          "model_module": "@jupyter-widgets/controls",
          "model_name": "ToggleButtonModel",
          "model_module_version": "1.5.0",
          "state": {
            "_dom_classes": [],
            "_model_module": "@jupyter-widgets/controls",
            "_model_module_version": "1.5.0",
            "_model_name": "ToggleButtonModel",
            "_view_count": null,
            "_view_module": "@jupyter-widgets/controls",
            "_view_module_version": "1.5.0",
            "_view_name": "ToggleButtonView",
            "button_style": "",
            "description": "",
            "description_tooltip": null,
            "disabled": false,
            "icon": "wrench",
            "layout": "IPY_MODEL_920ddb81a2114bcaa8bf76644c60e383",
            "style": "IPY_MODEL_4c39799e8e004c7f915d2621ff1c7d81",
            "tooltip": "Toolbar",
            "value": false
          }
        },
        "977cadd148e54e8fbac7f9dd72e253d9": {
          "model_module": "@jupyter-widgets/base",
          "model_name": "LayoutModel",
          "model_module_version": "1.2.0",
          "state": {
            "_model_module": "@jupyter-widgets/base",
            "_model_module_version": "1.2.0",
            "_model_name": "LayoutModel",
            "_view_count": null,
            "_view_module": "@jupyter-widgets/base",
            "_view_module_version": "1.2.0",
            "_view_name": "LayoutView",
            "align_content": null,
            "align_items": null,
            "align_self": null,
            "border": null,
            "bottom": null,
            "display": null,
            "flex": null,
            "flex_flow": null,
            "grid_area": null,
            "grid_auto_columns": null,
            "grid_auto_flow": null,
            "grid_auto_rows": null,
            "grid_column": null,
            "grid_gap": null,
            "grid_row": null,
            "grid_template_areas": null,
            "grid_template_columns": null,
            "grid_template_rows": null,
            "height": null,
            "justify_content": null,
            "justify_items": null,
            "left": null,
            "margin": null,
            "max_height": null,
            "max_width": null,
            "min_height": null,
            "min_width": null,
            "object_fit": null,
            "object_position": null,
            "order": null,
            "overflow": null,
            "overflow_x": null,
            "overflow_y": null,
            "padding": null,
            "right": null,
            "top": null,
            "visibility": null,
            "width": null
          }
        },
        "35a61fc89b1547bba8f416501daed0ec": {
          "model_module": "@jupyter-widgets/base",
          "model_name": "LayoutModel",
          "model_module_version": "1.2.0",
          "state": {
            "_model_module": "@jupyter-widgets/base",
            "_model_module_version": "1.2.0",
            "_model_name": "LayoutModel",
            "_view_count": null,
            "_view_module": "@jupyter-widgets/base",
            "_view_module_version": "1.2.0",
            "_view_name": "LayoutView",
            "align_content": null,
            "align_items": null,
            "align_self": null,
            "border": null,
            "bottom": null,
            "display": null,
            "flex": null,
            "flex_flow": null,
            "grid_area": null,
            "grid_auto_columns": null,
            "grid_auto_flow": null,
            "grid_auto_rows": null,
            "grid_column": null,
            "grid_gap": null,
            "grid_row": null,
            "grid_template_areas": null,
            "grid_template_columns": null,
            "grid_template_rows": null,
            "height": "28px",
            "justify_content": null,
            "justify_items": null,
            "left": null,
            "margin": null,
            "max_height": null,
            "max_width": null,
            "min_height": null,
            "min_width": null,
            "object_fit": null,
            "object_position": null,
            "order": null,
            "overflow": null,
            "overflow_x": null,
            "overflow_y": null,
            "padding": "0px 0px 0px 4px",
            "right": null,
            "top": null,
            "visibility": null,
            "width": "28px"
          }
        },
        "3ba9e299a94a47e885c393b1c994a97c": {
          "model_module": "@jupyter-widgets/controls",
          "model_name": "DescriptionStyleModel",
          "model_module_version": "1.5.0",
          "state": {
            "_model_module": "@jupyter-widgets/controls",
            "_model_module_version": "1.5.0",
            "_model_name": "DescriptionStyleModel",
            "_view_count": null,
            "_view_module": "@jupyter-widgets/base",
            "_view_module_version": "1.2.0",
            "_view_name": "StyleView",
            "description_width": ""
          }
        },
        "920ddb81a2114bcaa8bf76644c60e383": {
          "model_module": "@jupyter-widgets/base",
          "model_name": "LayoutModel",
          "model_module_version": "1.2.0",
          "state": {
            "_model_module": "@jupyter-widgets/base",
            "_model_module_version": "1.2.0",
            "_model_name": "LayoutModel",
            "_view_count": null,
            "_view_module": "@jupyter-widgets/base",
            "_view_module_version": "1.2.0",
            "_view_name": "LayoutView",
            "align_content": null,
            "align_items": null,
            "align_self": null,
            "border": null,
            "bottom": null,
            "display": null,
            "flex": null,
            "flex_flow": null,
            "grid_area": null,
            "grid_auto_columns": null,
            "grid_auto_flow": null,
            "grid_auto_rows": null,
            "grid_column": null,
            "grid_gap": null,
            "grid_row": null,
            "grid_template_areas": null,
            "grid_template_columns": null,
            "grid_template_rows": null,
            "height": "28px",
            "justify_content": null,
            "justify_items": null,
            "left": null,
            "margin": null,
            "max_height": null,
            "max_width": null,
            "min_height": null,
            "min_width": null,
            "object_fit": null,
            "object_position": null,
            "order": null,
            "overflow": null,
            "overflow_x": null,
            "overflow_y": null,
            "padding": "0px 0px 0px 4px",
            "right": null,
            "top": null,
            "visibility": null,
            "width": "28px"
          }
        },
        "4c39799e8e004c7f915d2621ff1c7d81": {
          "model_module": "@jupyter-widgets/controls",
          "model_name": "DescriptionStyleModel",
          "model_module_version": "1.5.0",
          "state": {
            "_model_module": "@jupyter-widgets/controls",
            "_model_module_version": "1.5.0",
            "_model_name": "DescriptionStyleModel",
            "_view_count": null,
            "_view_module": "@jupyter-widgets/base",
            "_view_module_version": "1.2.0",
            "_view_name": "StyleView",
            "description_width": ""
          }
        },
        "e4eb8dbf3cbb4bb7add446187a77e603": {
          "model_module": "jupyter-leaflet",
          "model_name": "LeafletTileLayerModel",
          "model_module_version": "^0.18",
          "state": {
            "_model_module": "jupyter-leaflet",
            "_model_module_version": "^0.18",
            "_model_name": "LeafletTileLayerModel",
            "_view_count": null,
            "_view_module": "jupyter-leaflet",
            "_view_module_version": "^0.18",
            "_view_name": "LeafletTileLayerView",
            "attribution": "Google Earth Engine",
            "base": false,
            "bottom": true,
            "bounds": null,
            "detect_retina": false,
            "loading": false,
            "max_native_zoom": null,
            "max_zoom": 24,
            "min_native_zoom": null,
            "min_zoom": 0,
            "name": "Drawn Features",
            "no_wrap": false,
            "opacity": 0.5,
            "options": [
              "attribution",
              "bounds",
              "detect_retina",
              "max_native_zoom",
              "max_zoom",
              "min_native_zoom",
              "min_zoom",
              "no_wrap",
              "tile_size",
              "tms",
              "zoom_offset"
            ],
            "pane": "",
            "popup": null,
            "popup_max_height": null,
            "popup_max_width": 300,
            "popup_min_width": 50,
            "show_loading": false,
            "subitems": [],
            "tile_size": 256,
            "tms": false,
            "url": "https://earthengine.googleapis.com/v1/projects/earthengine-legacy/maps/7637d3c9e753d2ee0e375c350f5fd0c7-dfb599dbc563bfaf9516a848dfbc4e17/tiles/{z}/{x}/{y}",
            "visible": false,
            "zoom_offset": 0
          }
        }
      }
    }
  },
  "nbformat": 4,
  "nbformat_minor": 0
}